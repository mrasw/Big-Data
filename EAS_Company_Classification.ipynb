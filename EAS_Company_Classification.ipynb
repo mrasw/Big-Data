{
  "nbformat": 4,
  "nbformat_minor": 0,
  "metadata": {
    "colab": {
      "name": "EAS_Company Classification.ipynb",
      "provenance": [],
      "collapsed_sections": [],
      "authorship_tag": "ABX9TyO08sboyePxZFvL3y7zp2gp",
      "include_colab_link": true
    },
    "kernelspec": {
      "name": "python3",
      "display_name": "Python 3"
    },
    "language_info": {
      "name": "python"
    }
  },
  "cells": [
    {
      "cell_type": "markdown",
      "metadata": {
        "id": "view-in-github",
        "colab_type": "text"
      },
      "source": [
        "<a href=\"https://colab.research.google.com/github/mrasw/Big-Data/blob/main/EAS_Company_Classification.ipynb\" target=\"_parent\"><img src=\"https://colab.research.google.com/assets/colab-badge.svg\" alt=\"Open In Colab\"/></a>"
      ]
    },
    {
      "cell_type": "markdown",
      "source": [
        "mengambil file dari s3"
      ],
      "metadata": {
        "id": "qzX5nxg8t_VP"
      }
    },
    {
      "cell_type": "code",
      "execution_count": null,
      "metadata": {
        "colab": {
          "base_uri": "https://localhost:8080/"
        },
        "id": "zoeC3Fwq1ikM",
        "outputId": "837838c6-7657-4ec1-a30a-8877bfe6d82a"
      },
      "outputs": [
        {
          "output_type": "stream",
          "name": "stdout",
          "text": [
            "--2022-06-10 12:18:29--  https://bayueas-114.s3.amazonaws.com/data-source/classification-dataset-v1.csv\n",
            "Resolving bayueas-114.s3.amazonaws.com (bayueas-114.s3.amazonaws.com)... 52.217.97.244\n",
            "Connecting to bayueas-114.s3.amazonaws.com (bayueas-114.s3.amazonaws.com)|52.217.97.244|:443... connected.\n",
            "HTTP request sent, awaiting response... 200 OK\n",
            "Length: 399850400 (381M) [text/csv]\n",
            "Saving to: ‘classification-dataset-v1.csv’\n",
            "\n",
            "classification-data 100%[===================>] 381.33M  73.5MB/s    in 5.2s    \n",
            "\n",
            "2022-06-10 12:18:35 (73.2 MB/s) - ‘classification-dataset-v1.csv’ saved [399850400/399850400]\n",
            "\n"
          ]
        }
      ],
      "source": [
        "!wget https://bayueas-114.s3.amazonaws.com/data-source/classification-dataset-v1.csv -O classification-dataset-v1.csv"
      ]
    },
    {
      "cell_type": "markdown",
      "source": [
        "install pyspark"
      ],
      "metadata": {
        "id": "Hjx83TmVuDSJ"
      }
    },
    {
      "cell_type": "code",
      "source": [
        "# Install Apache Spark\n",
        "!pip install pyspark"
      ],
      "metadata": {
        "colab": {
          "base_uri": "https://localhost:8080/"
        },
        "id": "BSqJDvyT8Vd7",
        "outputId": "e237b5b6-9b29-45ef-e7d5-9e11b8309bfa"
      },
      "execution_count": null,
      "outputs": [
        {
          "output_type": "stream",
          "name": "stdout",
          "text": [
            "Looking in indexes: https://pypi.org/simple, https://us-python.pkg.dev/colab-wheels/public/simple/\n",
            "Requirement already satisfied: pyspark in /usr/local/lib/python3.7/dist-packages (3.2.1)\n",
            "Requirement already satisfied: py4j==0.10.9.3 in /usr/local/lib/python3.7/dist-packages (from pyspark) (0.10.9.3)\n"
          ]
        }
      ]
    },
    {
      "cell_type": "markdown",
      "source": [
        "membuat spark session"
      ],
      "metadata": {
        "id": "8wDZDSTpuLHK"
      }
    },
    {
      "cell_type": "code",
      "source": [
        "from pyspark.sql import *\n",
        "\n",
        "spark = SparkSession.builder.appName('Clustering using K-Means').getOrCreate()\n"
      ],
      "metadata": {
        "id": "9iLCU-Ge9V0E"
      },
      "execution_count": null,
      "outputs": []
    },
    {
      "cell_type": "markdown",
      "source": [
        "read csv file"
      ],
      "metadata": {
        "id": "S_cfS5DquyMg"
      }
    },
    {
      "cell_type": "code",
      "source": [
        "df=spark.read.option(\"header\", True).csv(\"classification-dataset-v1.csv\")\n",
        "\n",
        "df.printSchema()"
      ],
      "metadata": {
        "colab": {
          "base_uri": "https://localhost:8080/"
        },
        "id": "pMHa40Ry-ViT",
        "outputId": "3053d38c-e8ef-4873-dd76-0d2c813f1ff9"
      },
      "execution_count": null,
      "outputs": [
        {
          "output_type": "stream",
          "name": "stdout",
          "text": [
            "root\n",
            " |-- Category: string (nullable = true)\n",
            " |-- website: string (nullable = true)\n",
            " |-- company_name: string (nullable = true)\n",
            " |-- homepage_text: string (nullable = true)\n",
            " |-- h1: string (nullable = true)\n",
            " |-- h2: string (nullable = true)\n",
            " |-- h3: string (nullable = true)\n",
            " |-- nav_link_text: string (nullable = true)\n",
            " |-- meta_keywords: string (nullable = true)\n",
            " |-- meta_description: string (nullable = true)\n",
            "\n"
          ]
        }
      ]
    },
    {
      "cell_type": "markdown",
      "source": [
        "show file content"
      ],
      "metadata": {
        "id": "W2yliuUku3k5"
      }
    },
    {
      "cell_type": "code",
      "source": [
        "df.head()\n",
        "df.show()"
      ],
      "metadata": {
        "colab": {
          "base_uri": "https://localhost:8080/"
        },
        "id": "EsJgJExV_czk",
        "outputId": "6f2bd6d1-e8fa-4d3b-b750-b2c09ec2467e"
      },
      "execution_count": null,
      "outputs": [
        {
          "output_type": "stream",
          "name": "stdout",
          "text": [
            "+--------------------+--------------------+--------------------+--------------------+--------------------+--------------------+--------------------+--------------------+--------------------+--------------------+\n",
            "|            Category|             website|        company_name|       homepage_text|                  h1|                  h2|                  h3|       nav_link_text|       meta_keywords|    meta_description|\n",
            "+--------------------+--------------------+--------------------+--------------------+--------------------+--------------------+--------------------+--------------------+--------------------+--------------------+\n",
            "|Commercial Servic...|     bipelectric.com|bip dipietro elec...|                 ...|                null|                null|                null|                null|electricians vero...|                null|\n",
            "| vero beach electric| commercial light...|         electrician| Indian River County|           Sebastian|          Ft Pierce\"|Providing quality...|                null|                null|                null|\n",
            "|          Healthcare|    eliasmedical.com|       elias medical|    site map | en...|                null|                null|                null|                null|                null|                null|\n",
            "|661.663.0300   Fa...| Suite 203 Bakers...| CA 93311 | (phon...|                null|                null|                null|                null|                null|                null|                null|\n",
            "|    (fax) 661.663...|Offering Bakersfi...|Welcome to ELIAS ...|                null|                null|                null|                null|                null|                null|                null|\n",
            "|       661.663.0300\"|Get To Know Elias...|                null|Elias Medical bak...|For the best valu...|                null|                null|                null|                null|                null|\n",
            "|Commercial Servic...|koopsoverheaddoor...|koops overhead doors|    Home  About U...|                null|Customer Reviews#...|                null|                null|Koops Overhead Do...|Koops Overhead Do...|\n",
            "|          Healthcare|     midtowneyes.com|     midtown eyecare|\"                ...| OK 74120 Phone: ...|                null|Welcome to our pr...|                null|                null|                null|\n",
            "|Commercial Servic...| reprosecurity.co.uk|  repro security ltd|                S...|                null|Welcome to REPRO ...|                null|                null|                null|Repro Security pr...|\n",
            "|           Materials| woodgreentimber.com|wood green timber...|\"      Wood Green...|              London| and our Potters ...|      we have it all| in stock and rea...| however we are e...| and or milled to...|\n",
            "|           Materials|     houstonchem.com|    houston chemical|\"              Ho...| BUILD A DOOR\"\"  ...|             Samples| Quotes or set up...| Chemicals and Pi...| we have clients ...| LLC.  All Rights...|\n",
            "|          Healthcare|        imstartx.com|imstar therapeuti...|               HO...|Twitter#sep#Lead ...|Targeting Neurode...|TDP-43 INHIBITORS...|home,company,abou...|                null|                null|\n",
            "|Commercial Servic...|       pespisaco.com|pespisa company p...|              Hom...|Your local expert...|617-538-5377 • FR...|                null|                null|high efficiency b...|Plumbing, Heating...|\n",
            "|           Materials|   metalprideinc.com|   metal pride, inc.|\"                ...| Chimney Pans and...|             Outlets|             Endcaps|    Square-to-Rounds|             Corners| etc.   Our exper...|\n",
            "|           Materials|   monarquesgold.com|monarques gold co...|ï +1 888-994-44...|Monarques Gold#se...|Fully integrated ...|MD&A#sep#Financia...|ï+1 888-994-446...|                null|Monarques Gold Co...|\n",
            "|Commercial Servic...|traviselectricinc...|     travis electric|      Schedule On...|TRAVIS ELECTRIC, ...|Electrician Servi...|25 Years of Unpar...|home,commercial e...|                null|We are family own...|\n",
            "|Commercial Servic...|            triox.ca|triox environment...|                 ...|LORSQUE L’EXPÉRIE...|Intervention d’ur...|                null|                null|                null|                null|\n",
            "|ET EXPERTISE#sep#...|                null|,en,à propos,nos ...|                null|TRIOX Urgences En...|                null|                null|                null|                null|                null|\n",
            "|Commercial Servic...|imperialcontracti...|imperial contract...|  Home About Us O...|​​#sep#Gallery#se...|2016 Parade of Ho...|Additions#sep#New...|                null|                null|new construction ...|\n",
            "|          Healthcare|            wink.net|wink eyecare bout...|\"                ...|            dry eyes|      blurred vision|           headaches| neck...   Read M...| 2020  Nation-wid...| with TV shows li...|\n",
            "+--------------------+--------------------+--------------------+--------------------+--------------------+--------------------+--------------------+--------------------+--------------------+--------------------+\n",
            "only showing top 20 rows\n",
            "\n"
          ]
        }
      ]
    },
    {
      "cell_type": "markdown",
      "source": [
        "show count of row and column"
      ],
      "metadata": {
        "id": "K2RwEVoHu-AZ"
      }
    },
    {
      "cell_type": "code",
      "source": [
        "print((df.count(), len(df.columns)))"
      ],
      "metadata": {
        "colab": {
          "base_uri": "https://localhost:8080/"
        },
        "id": "M03v07tsCML9",
        "outputId": "cdcee215-46ea-45b5-84a8-33a89a6d7b06"
      },
      "execution_count": null,
      "outputs": [
        {
          "output_type": "stream",
          "name": "stdout",
          "text": [
            "(250419, 10)\n"
          ]
        }
      ]
    },
    {
      "cell_type": "markdown",
      "source": [
        "count null value in each columns"
      ],
      "metadata": {
        "id": "ao_cxoevvPXY"
      }
    },
    {
      "cell_type": "code",
      "source": [
        "from pyspark.sql.functions import *\n",
        "\n",
        "# col_null_cnt_df =  df.select([count(when(col(c).isNull(),c)).alias(c) for c in df.columns])\n",
        "\n",
        "# display(col_null_cnt_df)\n"
      ],
      "metadata": {
        "id": "oVsJX92tIDoM"
      },
      "execution_count": null,
      "outputs": []
    },
    {
      "cell_type": "markdown",
      "source": [
        "show null in \"Category\" Column"
      ],
      "metadata": {
        "id": "C72ZksFNvXAF"
      }
    },
    {
      "cell_type": "code",
      "source": [
        "from pyspark.sql import functions as F\n",
        "df.where(F.col(\"Category\").isNull()).show()"
      ],
      "metadata": {
        "colab": {
          "base_uri": "https://localhost:8080/"
        },
        "id": "9tVrGQHLFUcy",
        "outputId": "7ac9fb0f-7ac8-4408-8035-e7460bf2d9f3"
      },
      "execution_count": null,
      "outputs": [
        {
          "output_type": "stream",
          "name": "stdout",
          "text": [
            "+--------+--------------------+--------------------+--------------------+--------------------+--------------------+--------------------+--------------------+--------------------+--------------------+\n",
            "|Category|             website|        company_name|       homepage_text|                  h1|                  h2|                  h3|       nav_link_text|       meta_keywords|    meta_description|\n",
            "+--------+--------------------+--------------------+--------------------+--------------------+--------------------+--------------------+--------------------+--------------------+--------------------+\n",
            "|    null|    blue chip stocks|tax saving mutual...|          debt funds|     sip mutual fund|best investment o...|best performing m...|systematic invest...|    best investments|best mutual funds...|\n",
            "|    null|         elss scheme|mutual fund compa...|      top elss funds| sip investment plan| tax on mutual funds|best equity mutua...|   top 10 elss funds|high return mutua...|top mutual funds ...|\n",
            "|    null|    health insurance|            children|              doctor|     doctors near me|   child development|      patient portal|doctor's office n...|     allergic asthma|         baby doctor|\n",
            "|    null|                null|                null|                null|                null|                null|                null|                null|                null|                null|\n",
            "|    null|  Medical Equipments| Hospital Equipments|  Medical Equipme...| Medical Equipmen...| Medical Equipmen...| Hospital Equipme...|  Hospital Equipm...|  Hospital Equipm...|Ababil Healthcare...|\n",
            "|    null|                    |                null|                null|                null|                null|                null|                null|                null|                null|\n",
            "|    null|           FIRST AID|  2-WAY VOICE & V...| SECURITY CONSULTING|                    |                null|                null|                null|                null|                null|\n",
            "|    null|Multi Para monitors | Latest modern Dr...|                null|                null|                null|                null|                null|                null|                null|\n",
            "|    null|Furnace Repairs C...|Furnace Repairs N...|Furnace Repairs V...|Furnace Repairs P...|Furnace Repairs H...|Furnace Repairs N...|Furnace Repairs W...|Furnace Repairs Y...|Furnace Repairs P...|\n",
            "|    null|Air Conditioning ...|Air Conditioning ...|Air Conditioning ...|Air Conditioning ...|Air Conditioning ...|Air Conditioning ...|Air Conditioning ...|Air Conditioning ...|Air Conditioning ...|\n",
            "|    null|Heating Repairs C...|Heating Repairs N...|Heating Repairs V...|Heating Repairs P...|Heating Repairs H...|Heating Repairs N...|Heating Repairs W...|Heating Repairs Y...|Heating Repairs P...|\n",
            "|    null|Medical Equipment...|Medical Equipment...|Medical Equipment...|Medical Equipment...|Medical Equipment...|Medical Equipment...|Medical Equipment...|Medical Equipment...|Medical Equipment...|\n",
            "|    null|HVAC Repairs Ches...|HVAC Repairs Norfolk|HVAC Repairs Virg...|HVAC Repairs Port...|HVAC Repairs Hampton|HVAC Repairs Newp...|HVAC Repairs Will...|HVAC Repairs York...|HVAC Repairs Poqu...|\n",
            "|    null|Heat Pump Repairs...|Heat Pump Repairs...|Heat Pump Repairs...|Heat Pump Repairs...|Heat Pump Repairs...|Heat Pump Repairs...|Heat Pump Repairs...|Heat Pump Repairs...|Heat Pump Repairs...|\n",
            "|    null|HVAC Installation...|HVAC Installation...|HVAC Installation...|                null|                null|                null|                null|                null|                null|\n",
            "|    null|Furnace Repairs C...|Furnace Repairs N...|Furnace Repairs V...|Furnace Repairs P...|Furnace Repairs H...|Furnace Repairs N...|Furnace Repairs W...|Furnace Repairs Y...|Furnace Repairs P...|\n",
            "|    null|Air Conditioning ...|Air Conditioning ...|Air Conditioning ...|Air Conditioning ...|Air Conditioning ...|Air Conditioning ...|Air Conditioning ...|Air Conditioning ...|Air Conditioning ...|\n",
            "|    null|Heating Repairs C...|Heating Repairs N...|Heating Repairs V...|Heating Repairs P...|Heating Repairs H...|Heating Repairs N...|Heating Repairs W...|Heating Repairs Y...|Heating Repairs P...|\n",
            "|    null|Medical Equipment...|Medical Equipment...|Medical Equipment...|Medical Equipment...|Medical Equipment...|Medical Equipment...|Medical Equipment...|Medical Equipment...|Medical Equipment...|\n",
            "|    null|HVAC Repairs Ches...|HVAC Repairs Norfolk|HVAC Repairs Virg...|HVAC Repairs Port...|HVAC Repairs Hampton|HVAC Repairs Newp...|HVAC Repairs Will...|HVAC Repairs York...|HVAC Repairs Poqu...|\n",
            "+--------+--------------------+--------------------+--------------------+--------------------+--------------------+--------------------+--------------------+--------------------+--------------------+\n",
            "only showing top 20 rows\n",
            "\n"
          ]
        }
      ]
    },
    {
      "cell_type": "markdown",
      "source": [
        "show null value in \"Website\" column"
      ],
      "metadata": {
        "id": "CG6VKv8Svdri"
      }
    },
    {
      "cell_type": "code",
      "source": [
        "df.where(F.col(\"website\").isNull()).show()"
      ],
      "metadata": {
        "colab": {
          "base_uri": "https://localhost:8080/"
        },
        "id": "76XmwLqqFrZs",
        "outputId": "fe55cd57-e7f4-478c-bb1d-64274e1406a5"
      },
      "execution_count": null,
      "outputs": [
        {
          "output_type": "stream",
          "name": "stdout",
          "text": [
            "+--------------------+-------+--------------------+-------------+--------------------+----+----+-------------+-------------+----------------+\n",
            "|            Category|website|        company_name|homepage_text|                  h1|  h2|  h3|nav_link_text|meta_keywords|meta_description|\n",
            "+--------------------+-------+--------------------+-------------+--------------------+----+----+-------------+-------------+----------------+\n",
            "|ET EXPERTISE#sep#...|   null|,en,à propos,nos ...|         null|TRIOX Urgences En...|null|null|         null|         null|            null|\n",
            "|big and small.#se...|   null|                null|         null|                null|null|null|         null|         null|            null|\n",
            "|in salt lake for ...|   null|                null|         null|                null|null|null|         null|         null|            null|\n",
            "|  doesnât stop ...|   null|                null|         null|                null|null|null|         null|         null|            null|\n",
            "|  the top issues ...|   null|                null|         null|                null|null|null|         null|         null|            null|\n",
            "|  Biomet has a va...|   null|                null|         null|                null|null|null|         null|         null|            null|\n",
            "|  following offer...|   null|                null|         null|                null|null|null|         null|         null|            null|\n",
            "|  Biomet has a va...|   null|                null|         null|                null|null|null|         null|         null|            null|\n",
            "|  following offer...|   null|                null|         null|                null|null|null|         null|         null|            null|\n",
            "|  is not just one...|   null|                null|         null|                null|null|null|         null|         null|            null|\n",
            "|  implant and ins...|   null|                null|         null|                null|null|null|         null|         null|            null|\n",
            "|  each surgeonâ...|   null|                null|         null|                null|null|null|         null|         null|            null|\n",
            "|  is not just one...|   null|                null|         null|                null|null|null|         null|         null|            null|\n",
            "|  implant and ins...|   null|                null|         null|                null|null|null|         null|         null|            null|\n",
            "|  each surgeonâ...|   null|                null|         null|                null|null|null|         null|         null|            null|\n",
            "|  mini-open or ar...|   null|                null|         null|                null|null|null|         null|         null|            null|\n",
            "|  make the best c...|   null|                null|         null|                null|null|null|         null|         null|            null|\n",
            "|  mini-open or ar...|   null|                null|         null|                null|null|null|         null|         null|            null|\n",
            "|  make the best c...|   null|                null|         null|                null|null|null|         null|         null|            null|\n",
            "|  patients from a...|   null|                null|         null|                null|null|null|         null|         null|            null|\n",
            "+--------------------+-------+--------------------+-------------+--------------------+----+----+-------------+-------------+----------------+\n",
            "only showing top 20 rows\n",
            "\n"
          ]
        }
      ]
    },
    {
      "cell_type": "markdown",
      "source": [
        "show null value in \"company_name\" column"
      ],
      "metadata": {
        "id": "hNywmR_rvnoC"
      }
    },
    {
      "cell_type": "code",
      "source": [
        "df.where(F.col(\"company_name\").isNull()).show()"
      ],
      "metadata": {
        "colab": {
          "base_uri": "https://localhost:8080/"
        },
        "id": "TADpj5q1Fx77",
        "outputId": "297da9ff-3c9a-48a3-b8f8-6235ca0b5aa9"
      },
      "execution_count": null,
      "outputs": [
        {
          "output_type": "stream",
          "name": "stdout",
          "text": [
            "+--------------------+--------------------+------------+--------------------+--------------------+----+----+-------------+-------------+----------------+\n",
            "|            Category|             website|company_name|       homepage_text|                  h1|  h2|  h3|nav_link_text|meta_keywords|meta_description|\n",
            "+--------------------+--------------------+------------+--------------------+--------------------+----+----+-------------+-------------+----------------+\n",
            "|       661.663.0300\"|Get To Know Elias...|        null|Elias Medical bak...|For the best valu...|null|null|         null|         null|            null|\n",
            "|    Locally owned...| we have everythi...|        null|                null|                null|null|null|         null|         null|            null|\n",
            "|             Anytime| anywhere.#sep#Ca...|        null|                null|                null|null|null|         null|         null|            null|\n",
            "|big and small.#se...|                null|        null|                null|                null|null|null|         null|         null|            null|\n",
            "|                City| Utah area. Abe S...|        null|                null|                null|null|null|         null|         null|            null|\n",
            "|in salt lake for ...|                null|        null|                null|                null|null|null|         null|         null|            null|\n",
            "|  industry leader...|                  it|        null|                null|                null|null|null|         null|         null|            null|\n",
            "|  doesnât stop ...|                null|        null|                null|                null|null|null|         null|         null|            null|\n",
            "|  the top issues ...|                null|        null|                null|                null|null|null|         null|         null|            null|\n",
            "|  for products de...|           cartilage|        null|                null|                null|null|null|         null|         null|            null|\n",
            "|  restoration and...| or minimally-inv...|        null|                null|                null|null|null|         null|         null|            null|\n",
            "|  bony defects ne...| weâve worked o...|        null|                null|                null|null|null|         null|         null|            null|\n",
            "|  interpositional...|              Zimmer|        null|                null|                null|null|null|         null|         null|            null|\n",
            "|  Biomet has a va...|                null|        null|                null|                null|null|null|         null|         null|            null|\n",
            "|  following offer...|                null|        null|                null|                null|null|null|         null|         null|            null|\n",
            "|  interpositional...|              Zimmer|        null|                null|                null|null|null|         null|         null|            null|\n",
            "|  Biomet has a va...|                null|        null|                null|                null|null|null|         null|         null|            null|\n",
            "|  following offer...|                null|        null|                null|                null|null|null|         null|         null|            null|\n",
            "|     with knots tied| to accommodate t...|        null|                null|                null|null|null|         null|         null|            null|\n",
            "|  is not just one...|                null|        null|                null|                null|null|null|         null|         null|            null|\n",
            "+--------------------+--------------------+------------+--------------------+--------------------+----+----+-------------+-------------+----------------+\n",
            "only showing top 20 rows\n",
            "\n"
          ]
        }
      ]
    },
    {
      "cell_type": "markdown",
      "source": [
        "show null value in \"homepage_text\" column"
      ],
      "metadata": {
        "id": "33ySXj_ovqrF"
      }
    },
    {
      "cell_type": "code",
      "source": [
        "df.where(F.col(\"homepage_text\").isNull()).show()"
      ],
      "metadata": {
        "colab": {
          "base_uri": "https://localhost:8080/"
        },
        "id": "epUbZXiDF1J1",
        "outputId": "af763313-27b4-44e7-e0c2-c3314cb294c0"
      },
      "execution_count": null,
      "outputs": [
        {
          "output_type": "stream",
          "name": "stdout",
          "text": [
            "+--------------------+--------------------+--------------------+-------------+--------------------+----+----+-------------+-------------+----------------+\n",
            "|            Category|             website|        company_name|homepage_text|                  h1|  h2|  h3|nav_link_text|meta_keywords|meta_description|\n",
            "+--------------------+--------------------+--------------------+-------------+--------------------+----+----+-------------+-------------+----------------+\n",
            "|661.663.0300   Fa...| Suite 203 Bakers...| CA 93311 | (phon...|         null|                null|null|null|         null|         null|            null|\n",
            "|    (fax) 661.663...|Offering Bakersfi...|Welcome to ELIAS ...|         null|                null|null|null|         null|         null|            null|\n",
            "|ET EXPERTISE#sep#...|                null|,en,à propos,nos ...|         null|TRIOX Urgences En...|null|null|         null|         null|            null|\n",
            "|    Locally owned...| we have everythi...|                null|         null|                null|null|null|         null|         null|            null|\n",
            "|             Anytime| anywhere.#sep#Ca...|                null|         null|                null|null|null|         null|         null|            null|\n",
            "|big and small.#se...|                null|                null|         null|                null|null|null|         null|         null|            null|\n",
            "|                City| Utah area. Abe S...|                null|         null|                null|null|null|         null|         null|            null|\n",
            "|in salt lake for ...|                null|                null|         null|                null|null|null|         null|         null|            null|\n",
            "|  industry leader...|                  it|                null|         null|                null|null|null|         null|         null|            null|\n",
            "|  doesnât stop ...|                null|                null|         null|                null|null|null|         null|         null|            null|\n",
            "|  the top issues ...|                null|                null|         null|                null|null|null|         null|         null|            null|\n",
            "|  for products de...|           cartilage|                null|         null|                null|null|null|         null|         null|            null|\n",
            "|  restoration and...| or minimally-inv...|                null|         null|                null|null|null|         null|         null|            null|\n",
            "|  bony defects ne...| weâve worked o...|                null|         null|                null|null|null|         null|         null|            null|\n",
            "|  portfolio to he...| restore peak per...| including knotle...|         null|                null|null|null|         null|         null|            null|\n",
            "|  all-suture anchors| biocomposite anc...| traditional sutu...|         null|                null|null|null|         null|         null|            null|\n",
            "|  interpositional...|              Zimmer|                null|         null|                null|null|null|         null|         null|            null|\n",
            "|  Biomet has a va...|                null|                null|         null|                null|null|null|         null|         null|            null|\n",
            "|  following offer...|                null|                null|         null|                null|null|null|         null|         null|            null|\n",
            "|  to repair the r...| via double row o...|         knotless or|         null|                null|null|null|         null|         null|            null|\n",
            "+--------------------+--------------------+--------------------+-------------+--------------------+----+----+-------------+-------------+----------------+\n",
            "only showing top 20 rows\n",
            "\n"
          ]
        }
      ]
    },
    {
      "cell_type": "markdown",
      "source": [
        "show null value in \"h1\" column"
      ],
      "metadata": {
        "id": "_iduSWsavv_F"
      }
    },
    {
      "cell_type": "code",
      "source": [
        "df.where(F.col(\"h1\").isNull()).show()"
      ],
      "metadata": {
        "colab": {
          "base_uri": "https://localhost:8080/"
        },
        "id": "tzVmwqsTGDXb",
        "outputId": "c035d1bd-552b-4323-a274-43981a562975"
      },
      "execution_count": null,
      "outputs": [
        {
          "output_type": "stream",
          "name": "stdout",
          "text": [
            "+--------------------+--------------------+--------------------+--------------------+----+--------------------+--------------------+--------------------+--------------------+--------------------+\n",
            "|            Category|             website|        company_name|       homepage_text|  h1|                  h2|                  h3|       nav_link_text|       meta_keywords|    meta_description|\n",
            "+--------------------+--------------------+--------------------+--------------------+----+--------------------+--------------------+--------------------+--------------------+--------------------+\n",
            "|Commercial Servic...|     bipelectric.com|bip dipietro elec...|                 ...|null|                null|                null|                null|electricians vero...|                null|\n",
            "|          Healthcare|    eliasmedical.com|       elias medical|    site map | en...|null|                null|                null|                null|                null|                null|\n",
            "|661.663.0300   Fa...| Suite 203 Bakers...| CA 93311 | (phon...|                null|null|                null|                null|                null|                null|                null|\n",
            "|    (fax) 661.663...|Offering Bakersfi...|Welcome to ELIAS ...|                null|null|                null|                null|                null|                null|                null|\n",
            "|Commercial Servic...|koopsoverheaddoor...|koops overhead doors|    Home  About U...|null|Customer Reviews#...|                null|                null|Koops Overhead Do...|Koops Overhead Do...|\n",
            "|Commercial Servic...| reprosecurity.co.uk|  repro security ltd|                S...|null|Welcome to REPRO ...|                null|                null|                null|Repro Security pr...|\n",
            "|           Materials|mishawakasheetmet...|mishawaka sheet m...|         CALL US ...|null|                null|                null|                null|                null|                null|\n",
            "|Commercial Servic...|       samlevitz.com|sam levitz furniture|                 ...|null|                null|                null|                null|                null|                null|\n",
            "|    Locally owned...| we have everythi...|                null|                null|null|                null|                null|                null|                null|                null|\n",
            "|Commercial Servic...|verticalelevator.com|   vertical elevator|      New York Ci...|null|                null|                null|                null|                null|New York City's e...|\n",
            "|           Materials|  shaftonsteel.co.uk|shafton steel ser...|                 ...|null|BEVEL HEAD PLASMA...|BEVEL HEAD PLASMA...|                null|                null|                null|\n",
            "|           Materials|           amfco.biz|allegan metal fin...|      Amfco.biz  ...|null|                null|                null|                null|                null|                null|\n",
            "|          Healthcare|infinitymedicalin...|infinity medical ...|                 ...|null|                null|Weight Management...|                null|                null|Feeling sexy or o...|\n",
            "|          Healthcare|       turnwedge.com|careplus medical ...|                 ...|null|We are a certifie...|The Turnwedge’s u...|,,challenges,solu...|                null|Welcome WOCN Heal...|\n",
            "|             Anytime| anywhere.#sep#Ca...|                null|                null|null|                null|                null|                null|                null|                null|\n",
            "|big and small.#se...|                null|                null|                null|null|                null|                null|                null|                null|                null|\n",
            "|Remarkable commun...|Classes & Events#...|Subscribe to Our ...|services & care a...|null|Quality health in...|                null|                null|                null|                null|\n",
            "|                City| Utah area. Abe S...|                null|                null|null|                null|                null|                null|                null|                null|\n",
            "|in salt lake for ...|                null|                null|                null|null|                null|                null|                null|                null|                null|\n",
            "|Commercial Servic...|             ced.biz|california enviro...|       Facebook T...|null|Wastewater Treatm...|ANSI/NSF Certifie...|home,about,about ...|                null|California Enviro...|\n",
            "+--------------------+--------------------+--------------------+--------------------+----+--------------------+--------------------+--------------------+--------------------+--------------------+\n",
            "only showing top 20 rows\n",
            "\n"
          ]
        }
      ]
    },
    {
      "cell_type": "markdown",
      "source": [
        "show null value in \"h2\" column"
      ],
      "metadata": {
        "id": "XMIruzY0vx4G"
      }
    },
    {
      "cell_type": "code",
      "source": [
        "df.where(F.col(\"h2\").isNull()).show()"
      ],
      "metadata": {
        "colab": {
          "base_uri": "https://localhost:8080/"
        },
        "id": "Vk5K8YvkGFY-",
        "outputId": "a6b968e2-ba91-4835-87e8-e62a7542236d"
      },
      "execution_count": null,
      "outputs": [
        {
          "output_type": "stream",
          "name": "stdout",
          "text": [
            "+--------------------+--------------------+--------------------+--------------------+--------------------+----+--------------------+--------------------+--------------------+--------------------+\n",
            "|            Category|             website|        company_name|       homepage_text|                  h1|  h2|                  h3|       nav_link_text|       meta_keywords|    meta_description|\n",
            "+--------------------+--------------------+--------------------+--------------------+--------------------+----+--------------------+--------------------+--------------------+--------------------+\n",
            "|Commercial Servic...|     bipelectric.com|bip dipietro elec...|                 ...|                null|null|                null|                null|electricians vero...|                null|\n",
            "|          Healthcare|    eliasmedical.com|       elias medical|    site map | en...|                null|null|                null|                null|                null|                null|\n",
            "|661.663.0300   Fa...| Suite 203 Bakers...| CA 93311 | (phon...|                null|                null|null|                null|                null|                null|                null|\n",
            "|    (fax) 661.663...|Offering Bakersfi...|Welcome to ELIAS ...|                null|                null|null|                null|                null|                null|                null|\n",
            "|       661.663.0300\"|Get To Know Elias...|                null|Elias Medical bak...|For the best valu...|null|                null|                null|                null|                null|\n",
            "|          Healthcare|     midtowneyes.com|     midtown eyecare|\"                ...| OK 74120 Phone: ...|null|Welcome to our pr...|                null|                null|                null|\n",
            "|ET EXPERTISE#sep#...|                null|,en,à propos,nos ...|                null|TRIOX Urgences En...|null|                null|                null|                null|                null|\n",
            "|           Materials|mishawakasheetmet...|mishawaka sheet m...|         CALL US ...|                null|null|                null|                null|                null|                null|\n",
            "|Commercial Servic...|       samlevitz.com|sam levitz furniture|                 ...|                null|null|                null|                null|                null|                null|\n",
            "|    Locally owned...| we have everythi...|                null|                null|                null|null|                null|                null|                null|                null|\n",
            "|Commercial Servic...|  eagleielectric.com|eagle industrial ...|         Eagle In...|Providing electri...|null|                null|                null|                null|Eagle Industrial ...|\n",
            "|Commercial Servic...|verticalelevator.com|   vertical elevator|      New York Ci...|                null|null|                null|                null|                null|New York City's e...|\n",
            "|           Materials|           amfco.biz|allegan metal fin...|      Amfco.biz  ...|                null|null|                null|                null|                null|                null|\n",
            "|          Healthcare|infinitymedicalin...|infinity medical ...|                 ...|                null|null|Weight Management...|                null|                null|Feeling sexy or o...|\n",
            "|Commercial Servic...|    officialhvac.com|official heating ...|   Toggle navigat...|Serving the North...|null|Hear From Our Cus...|about,meet our fa...|                null|Official HVAC are...|\n",
            "|          Healthcare|         gritman.org|gritman medical c...|                 ...|Quality health in...|null|                null|                null|                null|                null|\n",
            "|             Anytime| anywhere.#sep#Ca...|                null|                null|                null|null|                null|                null|                null|                null|\n",
            "|big and small.#se...|                null|                null|                null|                null|null|                null|                null|                null|                null|\n",
            "|          Healthcare|bluewaterorthoped...|bluewater orthope...|                 ...|Orthopedic Surger...|null|                null|home,about us,our...|patients, orthope...|Bluewater Orthope...|\n",
            "|Commercial Servic...|     shawroofing.com|shaw roofing and ...|                 ...|Trusted For Twent...|null|Recent Roofs#sep#...|home,about us,our...|                null|Shaw Roofing spec...|\n",
            "+--------------------+--------------------+--------------------+--------------------+--------------------+----+--------------------+--------------------+--------------------+--------------------+\n",
            "only showing top 20 rows\n",
            "\n"
          ]
        }
      ]
    },
    {
      "cell_type": "markdown",
      "source": [
        "show null value in \"h3\" column"
      ],
      "metadata": {
        "id": "Fe6UYTwFvzpE"
      }
    },
    {
      "cell_type": "code",
      "source": [
        "df.where(F.col(\"h3\").isNull()).show()"
      ],
      "metadata": {
        "colab": {
          "base_uri": "https://localhost:8080/"
        },
        "id": "sZCFWu0cGJpz",
        "outputId": "1b03abf3-13e0-4d2b-aa09-6500e4071815"
      },
      "execution_count": null,
      "outputs": [
        {
          "output_type": "stream",
          "name": "stdout",
          "text": [
            "+--------------------+--------------------+--------------------+--------------------+--------------------+--------------------+----+-------------+--------------------+--------------------+\n",
            "|            Category|             website|        company_name|       homepage_text|                  h1|                  h2|  h3|nav_link_text|       meta_keywords|    meta_description|\n",
            "+--------------------+--------------------+--------------------+--------------------+--------------------+--------------------+----+-------------+--------------------+--------------------+\n",
            "|Commercial Servic...|     bipelectric.com|bip dipietro elec...|                 ...|                null|                null|null|         null|electricians vero...|                null|\n",
            "|          Healthcare|    eliasmedical.com|       elias medical|    site map | en...|                null|                null|null|         null|                null|                null|\n",
            "|661.663.0300   Fa...| Suite 203 Bakers...| CA 93311 | (phon...|                null|                null|                null|null|         null|                null|                null|\n",
            "|    (fax) 661.663...|Offering Bakersfi...|Welcome to ELIAS ...|                null|                null|                null|null|         null|                null|                null|\n",
            "|       661.663.0300\"|Get To Know Elias...|                null|Elias Medical bak...|For the best valu...|                null|null|         null|                null|                null|\n",
            "|Commercial Servic...|koopsoverheaddoor...|koops overhead doors|    Home  About U...|                null|Customer Reviews#...|null|         null|Koops Overhead Do...|Koops Overhead Do...|\n",
            "|Commercial Servic...| reprosecurity.co.uk|  repro security ltd|                S...|                null|Welcome to REPRO ...|null|         null|                null|Repro Security pr...|\n",
            "|Commercial Servic...|       pespisaco.com|pespisa company p...|              Hom...|Your local expert...|617-538-5377 • FR...|null|         null|high efficiency b...|Plumbing, Heating...|\n",
            "|Commercial Servic...|            triox.ca|triox environment...|                 ...|LORSQUE L’EXPÉRIE...|Intervention d’ur...|null|         null|                null|                null|\n",
            "|ET EXPERTISE#sep#...|                null|,en,à propos,nos ...|                null|TRIOX Urgences En...|                null|null|         null|                null|                null|\n",
            "|           Materials|mishawakasheetmet...|mishawaka sheet m...|         CALL US ...|                null|                null|null|         null|                null|                null|\n",
            "|Commercial Servic...|         durabond.ca|durabond janitori...|              Tol...|Durabond Offers P...|Toll Free: (866) ...|null|         null|commercial cleani...|When you need com...|\n",
            "|Commercial Servic...|       samlevitz.com|sam levitz furniture|                 ...|                null|                null|null|         null|                null|                null|\n",
            "|    Locally owned...| we have everythi...|                null|                null|                null|                null|null|         null|                null|                null|\n",
            "|Commercial Servic...|  eagleielectric.com|eagle industrial ...|         Eagle In...|Providing electri...|                null|null|         null|                null|Eagle Industrial ...|\n",
            "|Commercial Servic...|verticalelevator.com|   vertical elevator|      New York Ci...|                null|                null|null|         null|                null|New York City's e...|\n",
            "|           Materials|           amfco.biz|allegan metal fin...|      Amfco.biz  ...|                null|                null|null|         null|                null|                null|\n",
            "|          Healthcare|         gritman.org|gritman medical c...|                 ...|Quality health in...|                null|null|         null|                null|                null|\n",
            "|             Anytime| anywhere.#sep#Ca...|                null|                null|                null|                null|null|         null|                null|                null|\n",
            "|big and small.#se...|                null|                null|                null|                null|                null|null|         null|                null|                null|\n",
            "+--------------------+--------------------+--------------------+--------------------+--------------------+--------------------+----+-------------+--------------------+--------------------+\n",
            "only showing top 20 rows\n",
            "\n"
          ]
        }
      ]
    },
    {
      "cell_type": "markdown",
      "source": [
        "show null value in \"nav_link_text\" column"
      ],
      "metadata": {
        "id": "pBVR-AyJv1nf"
      }
    },
    {
      "cell_type": "code",
      "source": [
        "df.where(F.col(\"nav_link_text\").isNull()).show()"
      ],
      "metadata": {
        "colab": {
          "base_uri": "https://localhost:8080/"
        },
        "id": "frXQOwrrGMML",
        "outputId": "738a3ba5-9728-41df-db02-af5c34da4fa8"
      },
      "execution_count": null,
      "outputs": [
        {
          "output_type": "stream",
          "name": "stdout",
          "text": [
            "+--------------------+--------------------+--------------------+--------------------+--------------------+--------------------+--------------------+-------------+--------------------+--------------------+\n",
            "|            Category|             website|        company_name|       homepage_text|                  h1|                  h2|                  h3|nav_link_text|       meta_keywords|    meta_description|\n",
            "+--------------------+--------------------+--------------------+--------------------+--------------------+--------------------+--------------------+-------------+--------------------+--------------------+\n",
            "|Commercial Servic...|     bipelectric.com|bip dipietro elec...|                 ...|                null|                null|                null|         null|electricians vero...|                null|\n",
            "| vero beach electric| commercial light...|         electrician| Indian River County|           Sebastian|          Ft Pierce\"|Providing quality...|         null|                null|                null|\n",
            "|          Healthcare|    eliasmedical.com|       elias medical|    site map | en...|                null|                null|                null|         null|                null|                null|\n",
            "|661.663.0300   Fa...| Suite 203 Bakers...| CA 93311 | (phon...|                null|                null|                null|                null|         null|                null|                null|\n",
            "|    (fax) 661.663...|Offering Bakersfi...|Welcome to ELIAS ...|                null|                null|                null|                null|         null|                null|                null|\n",
            "|       661.663.0300\"|Get To Know Elias...|                null|Elias Medical bak...|For the best valu...|                null|                null|         null|                null|                null|\n",
            "|Commercial Servic...|koopsoverheaddoor...|koops overhead doors|    Home  About U...|                null|Customer Reviews#...|                null|         null|Koops Overhead Do...|Koops Overhead Do...|\n",
            "|          Healthcare|     midtowneyes.com|     midtown eyecare|\"                ...| OK 74120 Phone: ...|                null|Welcome to our pr...|         null|                null|                null|\n",
            "|Commercial Servic...| reprosecurity.co.uk|  repro security ltd|                S...|                null|Welcome to REPRO ...|                null|         null|                null|Repro Security pr...|\n",
            "|Commercial Servic...|       pespisaco.com|pespisa company p...|              Hom...|Your local expert...|617-538-5377 • FR...|                null|         null|high efficiency b...|Plumbing, Heating...|\n",
            "|Commercial Servic...|            triox.ca|triox environment...|                 ...|LORSQUE L’EXPÉRIE...|Intervention d’ur...|                null|         null|                null|                null|\n",
            "|ET EXPERTISE#sep#...|                null|,en,à propos,nos ...|                null|TRIOX Urgences En...|                null|                null|         null|                null|                null|\n",
            "|Commercial Servic...|imperialcontracti...|imperial contract...|  Home About Us O...|​​#sep#Gallery#se...|2016 Parade of Ho...|Additions#sep#New...|         null|                null|new construction ...|\n",
            "|           Materials|mishawakasheetmet...|mishawaka sheet m...|         CALL US ...|                null|                null|                null|         null|                null|                null|\n",
            "|Commercial Servic...|         durabond.ca|durabond janitori...|              Tol...|Durabond Offers P...|Toll Free: (866) ...|                null|         null|commercial cleani...|When you need com...|\n",
            "|Commercial Servic...|       samlevitz.com|sam levitz furniture|                 ...|                null|                null|                null|         null|                null|                null|\n",
            "|    Locally owned...| we have everythi...|                null|                null|                null|                null|                null|         null|                null|                null|\n",
            "|Commercial Servic...|  eagleielectric.com|eagle industrial ...|         Eagle In...|Providing electri...|                null|                null|         null|                null|Eagle Industrial ...|\n",
            "|Commercial Servic...|verticalelevator.com|   vertical elevator|      New York Ci...|                null|                null|                null|         null|                null|New York City's e...|\n",
            "|           Materials|  shaftonsteel.co.uk|shafton steel ser...|                 ...|                null|BEVEL HEAD PLASMA...|BEVEL HEAD PLASMA...|         null|                null|                null|\n",
            "+--------------------+--------------------+--------------------+--------------------+--------------------+--------------------+--------------------+-------------+--------------------+--------------------+\n",
            "only showing top 20 rows\n",
            "\n"
          ]
        }
      ]
    },
    {
      "cell_type": "markdown",
      "source": [
        "show null value in \"meta_keywords\" column"
      ],
      "metadata": {
        "id": "D04juJ95v5pL"
      }
    },
    {
      "cell_type": "code",
      "source": [
        "df.where(F.col(\"meta_keywords\").isNull()).show()"
      ],
      "metadata": {
        "colab": {
          "base_uri": "https://localhost:8080/"
        },
        "id": "-7vbCcc9GRa0",
        "outputId": "dd458ee3-7d2b-409a-86c1-67ecf78f19f1"
      },
      "execution_count": null,
      "outputs": [
        {
          "output_type": "stream",
          "name": "stdout",
          "text": [
            "+--------------------+--------------------+--------------------+--------------------+--------------------+--------------------+--------------------+--------------------+-------------+--------------------+\n",
            "|            Category|             website|        company_name|       homepage_text|                  h1|                  h2|                  h3|       nav_link_text|meta_keywords|    meta_description|\n",
            "+--------------------+--------------------+--------------------+--------------------+--------------------+--------------------+--------------------+--------------------+-------------+--------------------+\n",
            "| vero beach electric| commercial light...|         electrician| Indian River County|           Sebastian|          Ft Pierce\"|Providing quality...|                null|         null|                null|\n",
            "|          Healthcare|    eliasmedical.com|       elias medical|    site map | en...|                null|                null|                null|                null|         null|                null|\n",
            "|661.663.0300   Fa...| Suite 203 Bakers...| CA 93311 | (phon...|                null|                null|                null|                null|                null|         null|                null|\n",
            "|    (fax) 661.663...|Offering Bakersfi...|Welcome to ELIAS ...|                null|                null|                null|                null|                null|         null|                null|\n",
            "|       661.663.0300\"|Get To Know Elias...|                null|Elias Medical bak...|For the best valu...|                null|                null|                null|         null|                null|\n",
            "|          Healthcare|     midtowneyes.com|     midtown eyecare|\"                ...| OK 74120 Phone: ...|                null|Welcome to our pr...|                null|         null|                null|\n",
            "|Commercial Servic...| reprosecurity.co.uk|  repro security ltd|                S...|                null|Welcome to REPRO ...|                null|                null|         null|Repro Security pr...|\n",
            "|          Healthcare|        imstartx.com|imstar therapeuti...|               HO...|Twitter#sep#Lead ...|Targeting Neurode...|TDP-43 INHIBITORS...|home,company,abou...|         null|                null|\n",
            "|           Materials|   monarquesgold.com|monarques gold co...|ï +1 888-994-44...|Monarques Gold#se...|Fully integrated ...|MD&A#sep#Financia...|ï+1 888-994-446...|         null|Monarques Gold Co...|\n",
            "|Commercial Servic...|traviselectricinc...|     travis electric|      Schedule On...|TRAVIS ELECTRIC, ...|Electrician Servi...|25 Years of Unpar...|home,commercial e...|         null|We are family own...|\n",
            "|Commercial Servic...|            triox.ca|triox environment...|                 ...|LORSQUE L’EXPÉRIE...|Intervention d’ur...|                null|                null|         null|                null|\n",
            "|ET EXPERTISE#sep#...|                null|,en,à propos,nos ...|                null|TRIOX Urgences En...|                null|                null|                null|         null|                null|\n",
            "|Commercial Servic...|imperialcontracti...|imperial contract...|  Home About Us O...|​​#sep#Gallery#se...|2016 Parade of Ho...|Additions#sep#New...|                null|         null|new construction ...|\n",
            "|           Materials|mishawakasheetmet...|mishawaka sheet m...|         CALL US ...|                null|                null|                null|                null|         null|                null|\n",
            "|          Healthcare|weareanimalhospit...|weare animal hosp...|                 ...|Weare Animal Hosp...|      Get Directions|Our Family of Vet...|home,veterinary s...|         null|Weare Animal Hosp...|\n",
            "|Commercial Servic...|       samlevitz.com|sam levitz furniture|                 ...|                null|                null|                null|                null|         null|                null|\n",
            "|    Locally owned...| we have everythi...|                null|                null|                null|                null|                null|                null|         null|                null|\n",
            "|Commercial Servic...|  eagleielectric.com|eagle industrial ...|         Eagle In...|Providing electri...|                null|                null|                null|         null|Eagle Industrial ...|\n",
            "|Commercial Servic...|verticalelevator.com|   vertical elevator|      New York Ci...|                null|                null|                null|                null|         null|New York City's e...|\n",
            "|           Materials|  shaftonsteel.co.uk|shafton steel ser...|                 ...|                null|BEVEL HEAD PLASMA...|BEVEL HEAD PLASMA...|                null|         null|                null|\n",
            "+--------------------+--------------------+--------------------+--------------------+--------------------+--------------------+--------------------+--------------------+-------------+--------------------+\n",
            "only showing top 20 rows\n",
            "\n"
          ]
        }
      ]
    },
    {
      "cell_type": "markdown",
      "source": [
        "show null value in \"meta_description\" column"
      ],
      "metadata": {
        "id": "H6Te2N8Rv8-b"
      }
    },
    {
      "cell_type": "code",
      "source": [
        "df.where(F.col(\"meta_description\").isNull()).show()"
      ],
      "metadata": {
        "colab": {
          "base_uri": "https://localhost:8080/"
        },
        "id": "LCmGDqqOGYZk",
        "outputId": "548bc942-8fec-415f-f71a-07b55a76f366"
      },
      "execution_count": null,
      "outputs": [
        {
          "output_type": "stream",
          "name": "stdout",
          "text": [
            "+--------------------+--------------------+--------------------+--------------------+--------------------+--------------------+--------------------+--------------------+--------------------+----------------+\n",
            "|            Category|             website|        company_name|       homepage_text|                  h1|                  h2|                  h3|       nav_link_text|       meta_keywords|meta_description|\n",
            "+--------------------+--------------------+--------------------+--------------------+--------------------+--------------------+--------------------+--------------------+--------------------+----------------+\n",
            "|Commercial Servic...|     bipelectric.com|bip dipietro elec...|                 ...|                null|                null|                null|                null|electricians vero...|            null|\n",
            "| vero beach electric| commercial light...|         electrician| Indian River County|           Sebastian|          Ft Pierce\"|Providing quality...|                null|                null|            null|\n",
            "|          Healthcare|    eliasmedical.com|       elias medical|    site map | en...|                null|                null|                null|                null|                null|            null|\n",
            "|661.663.0300   Fa...| Suite 203 Bakers...| CA 93311 | (phon...|                null|                null|                null|                null|                null|                null|            null|\n",
            "|    (fax) 661.663...|Offering Bakersfi...|Welcome to ELIAS ...|                null|                null|                null|                null|                null|                null|            null|\n",
            "|       661.663.0300\"|Get To Know Elias...|                null|Elias Medical bak...|For the best valu...|                null|                null|                null|                null|            null|\n",
            "|          Healthcare|     midtowneyes.com|     midtown eyecare|\"                ...| OK 74120 Phone: ...|                null|Welcome to our pr...|                null|                null|            null|\n",
            "|          Healthcare|        imstartx.com|imstar therapeuti...|               HO...|Twitter#sep#Lead ...|Targeting Neurode...|TDP-43 INHIBITORS...|home,company,abou...|                null|            null|\n",
            "|Commercial Servic...|            triox.ca|triox environment...|                 ...|LORSQUE L’EXPÉRIE...|Intervention d’ur...|                null|                null|                null|            null|\n",
            "|ET EXPERTISE#sep#...|                null|,en,à propos,nos ...|                null|TRIOX Urgences En...|                null|                null|                null|                null|            null|\n",
            "|           Materials|mishawakasheetmet...|mishawaka sheet m...|         CALL US ...|                null|                null|                null|                null|                null|            null|\n",
            "|Commercial Servic...|       samlevitz.com|sam levitz furniture|                 ...|                null|                null|                null|                null|                null|            null|\n",
            "|    Locally owned...| we have everythi...|                null|                null|                null|                null|                null|                null|                null|            null|\n",
            "|           Materials|  shaftonsteel.co.uk|shafton steel ser...|                 ...|                null|BEVEL HEAD PLASMA...|BEVEL HEAD PLASMA...|                null|                null|            null|\n",
            "|           Materials|           amfco.biz|allegan metal fin...|      Amfco.biz  ...|                null|                null|                null|                null|                null|            null|\n",
            "|          Healthcare|         gritman.org|gritman medical c...|                 ...|Quality health in...|                null|                null|                null|                null|            null|\n",
            "|             Anytime| anywhere.#sep#Ca...|                null|                null|                null|                null|                null|                null|                null|            null|\n",
            "|big and small.#se...|                null|                null|                null|                null|                null|                null|                null|                null|            null|\n",
            "|Remarkable commun...|Classes & Events#...|Subscribe to Our ...|services & care a...|                null|Quality health in...|                null|                null|                null|            null|\n",
            "|                City| Utah area. Abe S...|                null|                null|                null|                null|                null|                null|                null|            null|\n",
            "+--------------------+--------------------+--------------------+--------------------+--------------------+--------------------+--------------------+--------------------+--------------------+----------------+\n",
            "only showing top 20 rows\n",
            "\n"
          ]
        }
      ]
    },
    {
      "cell_type": "markdown",
      "source": [
        "membuat kolom baru dari gabungan h1 h2 h3 menjadi heading\n",
        "\n"
      ],
      "metadata": {
        "id": "MCUnkFD3QEZ6"
      }
    },
    {
      "cell_type": "code",
      "source": [
        "# concat_ws(\",\",\"firstname\",'lastname'\n",
        "new_df = df.withColumn(\"headings\",concat_ws(\"\",\"h1\",'h2',\"h3\"))\n",
        "new_df.show()"
      ],
      "metadata": {
        "colab": {
          "base_uri": "https://localhost:8080/"
        },
        "id": "biG4r1FQT5Y1",
        "outputId": "19e85cbf-a511-44ad-c6ac-9bb9f8181588"
      },
      "execution_count": null,
      "outputs": [
        {
          "output_type": "stream",
          "name": "stdout",
          "text": [
            "+--------------------+--------------------+--------------------+--------------------+--------------------+--------------------+--------------------+--------------------+--------------------+--------------------+--------------------+\n",
            "|            Category|             website|        company_name|       homepage_text|                  h1|                  h2|                  h3|       nav_link_text|       meta_keywords|    meta_description|            headings|\n",
            "+--------------------+--------------------+--------------------+--------------------+--------------------+--------------------+--------------------+--------------------+--------------------+--------------------+--------------------+\n",
            "|Commercial Servic...|     bipelectric.com|bip dipietro elec...|                 ...|                null|                null|                null|                null|electricians vero...|                null|                    |\n",
            "| vero beach electric| commercial light...|         electrician| Indian River County|           Sebastian|          Ft Pierce\"|Providing quality...|                null|                null|                null| Sebastian Ft Pie...|\n",
            "|          Healthcare|    eliasmedical.com|       elias medical|    site map | en...|                null|                null|                null|                null|                null|                null|                    |\n",
            "|661.663.0300   Fa...| Suite 203 Bakers...| CA 93311 | (phon...|                null|                null|                null|                null|                null|                null|                null|                    |\n",
            "|    (fax) 661.663...|Offering Bakersfi...|Welcome to ELIAS ...|                null|                null|                null|                null|                null|                null|                null|                    |\n",
            "|       661.663.0300\"|Get To Know Elias...|                null|Elias Medical bak...|For the best valu...|                null|                null|                null|                null|                null|For the best valu...|\n",
            "|Commercial Servic...|koopsoverheaddoor...|koops overhead doors|    Home  About U...|                null|Customer Reviews#...|                null|                null|Koops Overhead Do...|Koops Overhead Do...|Customer Reviews#...|\n",
            "|          Healthcare|     midtowneyes.com|     midtown eyecare|\"                ...| OK 74120 Phone: ...|                null|Welcome to our pr...|                null|                null|                null| OK 74120 Phone: ...|\n",
            "|Commercial Servic...| reprosecurity.co.uk|  repro security ltd|                S...|                null|Welcome to REPRO ...|                null|                null|                null|Repro Security pr...|Welcome to REPRO ...|\n",
            "|           Materials| woodgreentimber.com|wood green timber...|\"      Wood Green...|              London| and our Potters ...|      we have it all| in stock and rea...| however we are e...| and or milled to...| London and our P...|\n",
            "|           Materials|     houstonchem.com|    houston chemical|\"              Ho...| BUILD A DOOR\"\"  ...|             Samples| Quotes or set up...| Chemicals and Pi...| we have clients ...| LLC.  All Rights...| BUILD A DOOR\"\"  ...|\n",
            "|          Healthcare|        imstartx.com|imstar therapeuti...|               HO...|Twitter#sep#Lead ...|Targeting Neurode...|TDP-43 INHIBITORS...|home,company,abou...|                null|                null|Twitter#sep#Lead ...|\n",
            "|Commercial Servic...|       pespisaco.com|pespisa company p...|              Hom...|Your local expert...|617-538-5377 • FR...|                null|                null|high efficiency b...|Plumbing, Heating...|Your local expert...|\n",
            "|           Materials|   metalprideinc.com|   metal pride, inc.|\"                ...| Chimney Pans and...|             Outlets|             Endcaps|    Square-to-Rounds|             Corners| etc.   Our exper...| Chimney Pans and...|\n",
            "|           Materials|   monarquesgold.com|monarques gold co...|ï +1 888-994-44...|Monarques Gold#se...|Fully integrated ...|MD&A#sep#Financia...|ï+1 888-994-446...|                null|Monarques Gold Co...|Monarques Gold#se...|\n",
            "|Commercial Servic...|traviselectricinc...|     travis electric|      Schedule On...|TRAVIS ELECTRIC, ...|Electrician Servi...|25 Years of Unpar...|home,commercial e...|                null|We are family own...|TRAVIS ELECTRIC, ...|\n",
            "|Commercial Servic...|            triox.ca|triox environment...|                 ...|LORSQUE L’EXPÉRIE...|Intervention d’ur...|                null|                null|                null|                null|LORSQUE L’EXPÉRIE...|\n",
            "|ET EXPERTISE#sep#...|                null|,en,à propos,nos ...|                null|TRIOX Urgences En...|                null|                null|                null|                null|                null|TRIOX Urgences En...|\n",
            "|Commercial Servic...|imperialcontracti...|imperial contract...|  Home About Us O...|​​#sep#Gallery#se...|2016 Parade of Ho...|Additions#sep#New...|                null|                null|new construction ...|​​#sep#Gallery#se...|\n",
            "|          Healthcare|            wink.net|wink eyecare bout...|\"                ...|            dry eyes|      blurred vision|           headaches| neck...   Read M...| 2020  Nation-wid...| with TV shows li...| dry eyes blurred...|\n",
            "+--------------------+--------------------+--------------------+--------------------+--------------------+--------------------+--------------------+--------------------+--------------------+--------------------+--------------------+\n",
            "only showing top 20 rows\n",
            "\n"
          ]
        }
      ]
    },
    {
      "cell_type": "markdown",
      "source": [
        "drop h1 h2 h3"
      ],
      "metadata": {
        "id": "bayB1pQoUYBR"
      }
    },
    {
      "cell_type": "code",
      "source": [
        "cols = (\"h1\",\"h2\",\"h3\")\n",
        "new_df1 = new_df.drop(*cols)\n",
        "new_df.printSchema()\n",
        "# new_df.drop(*cols).printSchema()\n",
        "new_df.show()"
      ],
      "metadata": {
        "colab": {
          "base_uri": "https://localhost:8080/"
        },
        "id": "FYLY5JCbUZv1",
        "outputId": "987cb811-28d3-40eb-eab1-b78f31bffefd"
      },
      "execution_count": null,
      "outputs": [
        {
          "output_type": "stream",
          "name": "stdout",
          "text": [
            "root\n",
            " |-- Category: string (nullable = true)\n",
            " |-- website: string (nullable = true)\n",
            " |-- company_name: string (nullable = true)\n",
            " |-- homepage_text: string (nullable = true)\n",
            " |-- h1: string (nullable = true)\n",
            " |-- h2: string (nullable = true)\n",
            " |-- h3: string (nullable = true)\n",
            " |-- nav_link_text: string (nullable = true)\n",
            " |-- meta_keywords: string (nullable = true)\n",
            " |-- meta_description: string (nullable = true)\n",
            " |-- headings: string (nullable = false)\n",
            "\n",
            "+--------------------+--------------------+--------------------+--------------------+--------------------+--------------------+--------------------+--------------------+--------------------+--------------------+--------------------+\n",
            "|            Category|             website|        company_name|       homepage_text|                  h1|                  h2|                  h3|       nav_link_text|       meta_keywords|    meta_description|            headings|\n",
            "+--------------------+--------------------+--------------------+--------------------+--------------------+--------------------+--------------------+--------------------+--------------------+--------------------+--------------------+\n",
            "|Commercial Servic...|     bipelectric.com|bip dipietro elec...|                 ...|                null|                null|                null|                null|electricians vero...|                null|                    |\n",
            "| vero beach electric| commercial light...|         electrician| Indian River County|           Sebastian|          Ft Pierce\"|Providing quality...|                null|                null|                null| Sebastian Ft Pie...|\n",
            "|          Healthcare|    eliasmedical.com|       elias medical|    site map | en...|                null|                null|                null|                null|                null|                null|                    |\n",
            "|661.663.0300   Fa...| Suite 203 Bakers...| CA 93311 | (phon...|                null|                null|                null|                null|                null|                null|                null|                    |\n",
            "|    (fax) 661.663...|Offering Bakersfi...|Welcome to ELIAS ...|                null|                null|                null|                null|                null|                null|                null|                    |\n",
            "|       661.663.0300\"|Get To Know Elias...|                null|Elias Medical bak...|For the best valu...|                null|                null|                null|                null|                null|For the best valu...|\n",
            "|Commercial Servic...|koopsoverheaddoor...|koops overhead doors|    Home  About U...|                null|Customer Reviews#...|                null|                null|Koops Overhead Do...|Koops Overhead Do...|Customer Reviews#...|\n",
            "|          Healthcare|     midtowneyes.com|     midtown eyecare|\"                ...| OK 74120 Phone: ...|                null|Welcome to our pr...|                null|                null|                null| OK 74120 Phone: ...|\n",
            "|Commercial Servic...| reprosecurity.co.uk|  repro security ltd|                S...|                null|Welcome to REPRO ...|                null|                null|                null|Repro Security pr...|Welcome to REPRO ...|\n",
            "|           Materials| woodgreentimber.com|wood green timber...|\"      Wood Green...|              London| and our Potters ...|      we have it all| in stock and rea...| however we are e...| and or milled to...| London and our P...|\n",
            "|           Materials|     houstonchem.com|    houston chemical|\"              Ho...| BUILD A DOOR\"\"  ...|             Samples| Quotes or set up...| Chemicals and Pi...| we have clients ...| LLC.  All Rights...| BUILD A DOOR\"\"  ...|\n",
            "|          Healthcare|        imstartx.com|imstar therapeuti...|               HO...|Twitter#sep#Lead ...|Targeting Neurode...|TDP-43 INHIBITORS...|home,company,abou...|                null|                null|Twitter#sep#Lead ...|\n",
            "|Commercial Servic...|       pespisaco.com|pespisa company p...|              Hom...|Your local expert...|617-538-5377 • FR...|                null|                null|high efficiency b...|Plumbing, Heating...|Your local expert...|\n",
            "|           Materials|   metalprideinc.com|   metal pride, inc.|\"                ...| Chimney Pans and...|             Outlets|             Endcaps|    Square-to-Rounds|             Corners| etc.   Our exper...| Chimney Pans and...|\n",
            "|           Materials|   monarquesgold.com|monarques gold co...|ï +1 888-994-44...|Monarques Gold#se...|Fully integrated ...|MD&A#sep#Financia...|ï+1 888-994-446...|                null|Monarques Gold Co...|Monarques Gold#se...|\n",
            "|Commercial Servic...|traviselectricinc...|     travis electric|      Schedule On...|TRAVIS ELECTRIC, ...|Electrician Servi...|25 Years of Unpar...|home,commercial e...|                null|We are family own...|TRAVIS ELECTRIC, ...|\n",
            "|Commercial Servic...|            triox.ca|triox environment...|                 ...|LORSQUE L’EXPÉRIE...|Intervention d’ur...|                null|                null|                null|                null|LORSQUE L’EXPÉRIE...|\n",
            "|ET EXPERTISE#sep#...|                null|,en,à propos,nos ...|                null|TRIOX Urgences En...|                null|                null|                null|                null|                null|TRIOX Urgences En...|\n",
            "|Commercial Servic...|imperialcontracti...|imperial contract...|  Home About Us O...|​​#sep#Gallery#se...|2016 Parade of Ho...|Additions#sep#New...|                null|                null|new construction ...|​​#sep#Gallery#se...|\n",
            "|          Healthcare|            wink.net|wink eyecare bout...|\"                ...|            dry eyes|      blurred vision|           headaches| neck...   Read M...| 2020  Nation-wid...| with TV shows li...| dry eyes blurred...|\n",
            "+--------------------+--------------------+--------------------+--------------------+--------------------+--------------------+--------------------+--------------------+--------------------+--------------------+--------------------+\n",
            "only showing top 20 rows\n",
            "\n"
          ]
        }
      ]
    },
    {
      "cell_type": "code",
      "source": [
        "print((new_df1.count(), len(new_df1.columns)))\n",
        "new_df1.printSchema()"
      ],
      "metadata": {
        "colab": {
          "base_uri": "https://localhost:8080/"
        },
        "id": "MWdwbyeo1ij4",
        "outputId": "61e160e6-97d7-42bf-a112-cd23df0526d2"
      },
      "execution_count": null,
      "outputs": [
        {
          "output_type": "stream",
          "name": "stdout",
          "text": [
            "(250419, 8)\n",
            "root\n",
            " |-- Category: string (nullable = true)\n",
            " |-- website: string (nullable = true)\n",
            " |-- company_name: string (nullable = true)\n",
            " |-- homepage_text: string (nullable = true)\n",
            " |-- nav_link_text: string (nullable = true)\n",
            " |-- meta_keywords: string (nullable = true)\n",
            " |-- meta_description: string (nullable = true)\n",
            " |-- headings: string (nullable = false)\n",
            "\n"
          ]
        }
      ]
    },
    {
      "cell_type": "code",
      "source": [
        "# new_df1.filter(\"state IS NULL AND gender IS NULL\").show()\n",
        "new_df1.filter(new_df1.Category.isNull()).show()"
      ],
      "metadata": {
        "colab": {
          "base_uri": "https://localhost:8080/"
        },
        "id": "YZ5AO7iA4_n1",
        "outputId": "272a7c7d-d28c-4829-d23b-6e82f7a30f63"
      },
      "execution_count": null,
      "outputs": [
        {
          "output_type": "stream",
          "name": "stdout",
          "text": [
            "+--------+--------------------+--------------------+--------------------+--------------------+--------------------+--------------------+--------------------+\n",
            "|Category|             website|        company_name|       homepage_text|       nav_link_text|       meta_keywords|    meta_description|            headings|\n",
            "+--------+--------------------+--------------------+--------------------+--------------------+--------------------+--------------------+--------------------+\n",
            "|    null|    blue chip stocks|tax saving mutual...|          debt funds|systematic invest...|    best investments|best mutual funds...|sip mutual fundbe...|\n",
            "|    null|         elss scheme|mutual fund compa...|      top elss funds|   top 10 elss funds|high return mutua...|top mutual funds ...|sip investment pl...|\n",
            "|    null|    health insurance|            children|              doctor|doctor's office n...|     allergic asthma|         baby doctor| doctors near me ...|\n",
            "|    null|                null|                null|                null|                null|                null|                null|                    |\n",
            "|    null|  Medical Equipments| Hospital Equipments|  Medical Equipme...|  Hospital Equipm...|  Hospital Equipm...|Ababil Healthcare...| Medical Equipmen...|\n",
            "|    null|                    |                null|                null|                null|                null|                null|                    |\n",
            "|    null|           FIRST AID|  2-WAY VOICE & V...| SECURITY CONSULTING|                null|                null|                null|                    |\n",
            "|    null|Multi Para monitors | Latest modern Dr...|                null|                null|                null|                null|                    |\n",
            "|    null|Furnace Repairs C...|Furnace Repairs N...|Furnace Repairs V...|Furnace Repairs W...|Furnace Repairs Y...|Furnace Repairs P...|Furnace Repairs P...|\n",
            "|    null|Air Conditioning ...|Air Conditioning ...|Air Conditioning ...|Air Conditioning ...|Air Conditioning ...|Air Conditioning ...|Air Conditioning ...|\n",
            "|    null|Heating Repairs C...|Heating Repairs N...|Heating Repairs V...|Heating Repairs W...|Heating Repairs Y...|Heating Repairs P...|Heating Repairs P...|\n",
            "|    null|Medical Equipment...|Medical Equipment...|Medical Equipment...|Medical Equipment...|Medical Equipment...|Medical Equipment...|Medical Equipment...|\n",
            "|    null|HVAC Repairs Ches...|HVAC Repairs Norfolk|HVAC Repairs Virg...|HVAC Repairs Will...|HVAC Repairs York...|HVAC Repairs Poqu...|HVAC Repairs Port...|\n",
            "|    null|Heat Pump Repairs...|Heat Pump Repairs...|Heat Pump Repairs...|Heat Pump Repairs...|Heat Pump Repairs...|Heat Pump Repairs...|Heat Pump Repairs...|\n",
            "|    null|HVAC Installation...|HVAC Installation...|HVAC Installation...|                null|                null|                null|                    |\n",
            "|    null|Furnace Repairs C...|Furnace Repairs N...|Furnace Repairs V...|Furnace Repairs W...|Furnace Repairs Y...|Furnace Repairs P...|Furnace Repairs P...|\n",
            "|    null|Air Conditioning ...|Air Conditioning ...|Air Conditioning ...|Air Conditioning ...|Air Conditioning ...|Air Conditioning ...|Air Conditioning ...|\n",
            "|    null|Heating Repairs C...|Heating Repairs N...|Heating Repairs V...|Heating Repairs W...|Heating Repairs Y...|Heating Repairs P...|Heating Repairs P...|\n",
            "|    null|Medical Equipment...|Medical Equipment...|Medical Equipment...|Medical Equipment...|Medical Equipment...|Medical Equipment...|Medical Equipment...|\n",
            "|    null|HVAC Repairs Ches...|HVAC Repairs Norfolk|HVAC Repairs Virg...|HVAC Repairs Will...|HVAC Repairs York...|HVAC Repairs Poqu...|HVAC Repairs Port...|\n",
            "+--------+--------------------+--------------------+--------------------+--------------------+--------------------+--------------------+--------------------+\n",
            "only showing top 20 rows\n",
            "\n"
          ]
        }
      ]
    },
    {
      "cell_type": "code",
      "source": [
        "# from pyspark.sql.functions import *\n",
        "new_df2 = new_df1.dropna()"
      ],
      "metadata": {
        "id": "UG2PfZZ151-7"
      },
      "execution_count": null,
      "outputs": []
    },
    {
      "cell_type": "code",
      "source": [
        "new_df2 = new_df2.withColumn(\"text\",concat_ws(\" \",\"homepage_text\",'nav_link_text',\"meta_keywords\",\"meta_description\",\"headings\"))"
      ],
      "metadata": {
        "id": "sAulN6R_RiFj"
      },
      "execution_count": null,
      "outputs": []
    },
    {
      "cell_type": "code",
      "source": [
        "new_df2.show()"
      ],
      "metadata": {
        "colab": {
          "base_uri": "https://localhost:8080/"
        },
        "id": "jxdPyBShhURq",
        "outputId": "0b350de0-c6bc-4753-ce25-9f7dabd4ed2a"
      },
      "execution_count": null,
      "outputs": [
        {
          "output_type": "stream",
          "name": "stdout",
          "text": [
            "+--------------------+--------------------+--------------------+--------------------+--------------------+--------------------+--------------------+--------------------+--------------------+\n",
            "|            Category|             website|        company_name|       homepage_text|       nav_link_text|       meta_keywords|    meta_description|            headings|                text|\n",
            "+--------------------+--------------------+--------------------+--------------------+--------------------+--------------------+--------------------+--------------------+--------------------+\n",
            "|           Materials| woodgreentimber.com|wood green timber...|\"      Wood Green...| in stock and rea...| however we are e...| and or milled to...| London and our P...|\"      Wood Green...|\n",
            "|           Materials|     houstonchem.com|    houston chemical|\"              Ho...| Chemicals and Pi...| we have clients ...| LLC.  All Rights...| BUILD A DOOR\"\"  ...|\"              Ho...|\n",
            "|           Materials|   metalprideinc.com|   metal pride, inc.|\"                ...|    Square-to-Rounds|             Corners| etc.   Our exper...| Chimney Pans and...|\"                ...|\n",
            "|          Healthcare|            wink.net|wink eyecare bout...|\"                ...| neck...   Read M...| 2020  Nation-wid...| with TV shows li...| dry eyes blurred...|\"                ...|\n",
            "|    We carry a wi...| including the la...|               Sealy|        Tempur-Pedic| and more. With s...| we deliver to th...|    including Tucson| Stearns & Foster...| Tempur-Pedic  an...|\n",
            "|    We take pride...| so shop locally ...| AZ 85741 520-531...| AZ 85741 520-512...|             bedroom|         dining room|         home office| AZ 85713 520-624...| AZ 85741 520-512...|\n",
            "|Commercial Servic...|franklinelectricc...|franklin electric...|\"         JavaScr...| Sealant & Tapes ...| Starters & Capac...| Bulbs and Driver...| jpeg png or gif ...|\"         JavaScr...|\n",
            "|          Healthcare|      ryeeyecare.com|        rye eye care|\"                ...| listens carefull...| and goes out of ...| the incredible t...| 1 or 2\"\" Ha ha! ...|\"                ...|\n",
            "|Commercial Servic...|oregonofficesolut...|oregon office sol...|    Skip to main ...|home,who we are,a...|Copiers, Xerox Co...|At Oregon Office ...|HomeGet Started!#...|    Skip to main ...|\n",
            "|          Healthcare|bluewaterorthoped...|bluewater orthope...|                 ...|home,about us,our...|patients, orthope...|Bluewater Orthope...|Orthopedic Surger...|                 ...|\n",
            "|Commercial Servic...|    oceanclean.co.uk|ocean cleaning lo...|\"   ABOUT US TERM...| New Eltham Clean...|        hard working|very professional...|reliable and trus...|\"   ABOUT US TERM...|\n",
            "|Commercial Servic...|mcmurdieelectrica...|mcmurdie electric...|                +...|home,about,our se...|McMurdie Electric...|McMurdie Electric...|NICEIC and Constr...|                +...|\n",
            "|seniors   Call 31...| Qualified Clinic...| dependable care ...| including Medica...| we work to asses...| safe drug combin...| and the avoidanc...| grow and thrive....| including Medica...|\n",
            "|          Healthcare|       new-bio.co.uk|newmarket biomedi...|                T...|,about us,blood t...|tpha syphilis ass...|Newmarket Biomedi...|Newmarket Biomedi...|                T...|\n",
            "|          Healthcare|         ican-pt.com|i can pt doctors ...|\"  Extra Content ...|           an injury|         an accident| surgery or any o...| Idaho Physical T...|\"  Extra Content ...|\n",
            "|solve current and...| 1/4 More...   Pa...|000-square-foot d...| serving customer...| Oatey has been r...|               OATEY|Oatey 43401#sep#O...| HERCULES AND HAR...| serving customer...|\n",
            "|    ” Vaughan Winter| SPS – CPS Distri...| provide us with ...| Director of Seil...| making CPS Haze ...| the screen recla...| are attracting m...| SPS – CPS Distri...| Director of Seil...|\n",
            "|           Materials|        heidtman.com|heidtman steel co...|                 ...|,products,process...|Steel processing,...|Heidtman Steel pr...|Innovative Steel ...|                 ...|\n",
            "|          Healthcare|sandcreekanimalho...|sand creek animal...|Skip to content  ...|home,new clients,...|veterinarians Alb...|Visit Sand Creek ...|Welcome to Sand C...|Skip to content  ...|\n",
            "|Commercial Servic...|ejbsecurityconsul...|ejb security oper...|         EJB Secu...|home,about us,ser...|new york private ...|We provide backgr...|EJB Security Cons...|         EJB Secu...|\n",
            "+--------------------+--------------------+--------------------+--------------------+--------------------+--------------------+--------------------+--------------------+--------------------+\n",
            "only showing top 20 rows\n",
            "\n"
          ]
        }
      ]
    },
    {
      "cell_type": "code",
      "source": [
        "cols = (\"homepage_text\",\"nav_link_text\",\"meta_keywords\",\"meta_description\",\"headings\")\n",
        "new_df3 = new_df2.drop(*cols)\n",
        "new_df2.printSchema()\n",
        "new_df3.printSchema()\n",
        "# new_df.drop(*cols).printSchema()\n",
        "new_df3.show()"
      ],
      "metadata": {
        "colab": {
          "base_uri": "https://localhost:8080/"
        },
        "id": "zn8YOBsTnnZi",
        "outputId": "38db0ea9-99e3-4233-87c8-1802590e7bca"
      },
      "execution_count": null,
      "outputs": [
        {
          "output_type": "stream",
          "name": "stdout",
          "text": [
            "root\n",
            " |-- Category: string (nullable = true)\n",
            " |-- website: string (nullable = true)\n",
            " |-- company_name: string (nullable = true)\n",
            " |-- homepage_text: string (nullable = true)\n",
            " |-- nav_link_text: string (nullable = true)\n",
            " |-- meta_keywords: string (nullable = true)\n",
            " |-- meta_description: string (nullable = true)\n",
            " |-- headings: string (nullable = false)\n",
            " |-- text: string (nullable = false)\n",
            "\n",
            "root\n",
            " |-- Category: string (nullable = true)\n",
            " |-- website: string (nullable = true)\n",
            " |-- company_name: string (nullable = true)\n",
            " |-- text: string (nullable = false)\n",
            "\n",
            "+--------------------+--------------------+--------------------+--------------------+\n",
            "|            Category|             website|        company_name|                text|\n",
            "+--------------------+--------------------+--------------------+--------------------+\n",
            "|           Materials| woodgreentimber.com|wood green timber...|\"      Wood Green...|\n",
            "|           Materials|     houstonchem.com|    houston chemical|\"              Ho...|\n",
            "|           Materials|   metalprideinc.com|   metal pride, inc.|\"                ...|\n",
            "|          Healthcare|            wink.net|wink eyecare bout...|\"                ...|\n",
            "|    We carry a wi...| including the la...|               Sealy| Tempur-Pedic  an...|\n",
            "|    We take pride...| so shop locally ...| AZ 85741 520-531...| AZ 85741 520-512...|\n",
            "|Commercial Servic...|franklinelectricc...|franklin electric...|\"         JavaScr...|\n",
            "|          Healthcare|      ryeeyecare.com|        rye eye care|\"                ...|\n",
            "|Commercial Servic...|oregonofficesolut...|oregon office sol...|    Skip to main ...|\n",
            "|          Healthcare|bluewaterorthoped...|bluewater orthope...|                 ...|\n",
            "|Commercial Servic...|    oceanclean.co.uk|ocean cleaning lo...|\"   ABOUT US TERM...|\n",
            "|Commercial Servic...|mcmurdieelectrica...|mcmurdie electric...|                +...|\n",
            "|seniors   Call 31...| Qualified Clinic...| dependable care ...| including Medica...|\n",
            "|          Healthcare|       new-bio.co.uk|newmarket biomedi...|                T...|\n",
            "|          Healthcare|         ican-pt.com|i can pt doctors ...|\"  Extra Content ...|\n",
            "|solve current and...| 1/4 More...   Pa...|000-square-foot d...| serving customer...|\n",
            "|    ” Vaughan Winter| SPS – CPS Distri...| provide us with ...| Director of Seil...|\n",
            "|           Materials|        heidtman.com|heidtman steel co...|                 ...|\n",
            "|          Healthcare|sandcreekanimalho...|sand creek animal...|Skip to content  ...|\n",
            "|Commercial Servic...|ejbsecurityconsul...|ejb security oper...|         EJB Secu...|\n",
            "+--------------------+--------------------+--------------------+--------------------+\n",
            "only showing top 20 rows\n",
            "\n"
          ]
        }
      ]
    }
  ]
}