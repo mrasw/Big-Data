{
  "nbformat": 4,
  "nbformat_minor": 0,
  "metadata": {
    "colab": {
      "name": "EAS_Company Classification.ipynb",
      "provenance": [],
      "collapsed_sections": [],
      "authorship_tag": "ABX9TyP9nnQNCpflSu+/AGjFwp+1",
      "include_colab_link": true
    },
    "kernelspec": {
      "name": "python3",
      "display_name": "Python 3"
    },
    "language_info": {
      "name": "python"
    }
  },
  "cells": [
    {
      "cell_type": "markdown",
      "metadata": {
        "id": "view-in-github",
        "colab_type": "text"
      },
      "source": [
        "<a href=\"https://colab.research.google.com/github/mrasw/Big-Data/blob/main/EAS_Company_Classification.ipynb\" target=\"_parent\"><img src=\"https://colab.research.google.com/assets/colab-badge.svg\" alt=\"Open In Colab\"/></a>"
      ]
    },
    {
      "cell_type": "code",
      "execution_count": 21,
      "metadata": {
        "colab": {
          "base_uri": "https://localhost:8080/"
        },
        "id": "zoeC3Fwq1ikM",
        "outputId": "55c670ba-082c-47f2-88d9-5605d942daaf"
      },
      "outputs": [
        {
          "output_type": "stream",
          "name": "stdout",
          "text": [
            "--2022-06-08 15:31:07--  https://bayueas-114.s3.amazonaws.com/data-source/classification-dataset-v1.csv\n",
            "Resolving bayueas-114.s3.amazonaws.com (bayueas-114.s3.amazonaws.com)... 52.217.204.209\n",
            "Connecting to bayueas-114.s3.amazonaws.com (bayueas-114.s3.amazonaws.com)|52.217.204.209|:443... connected.\n",
            "HTTP request sent, awaiting response... 200 OK\n",
            "Length: 399850400 (381M) [text/csv]\n",
            "Saving to: ‘classification-dataset-v1.csv’\n",
            "\n",
            "classification-data 100%[===================>] 381.33M  84.1MB/s    in 4.8s    \n",
            "\n",
            "2022-06-08 15:31:12 (79.8 MB/s) - ‘classification-dataset-v1.csv’ saved [399850400/399850400]\n",
            "\n"
          ]
        }
      ],
      "source": [
        "!wget https://bayueas-114.s3.amazonaws.com/data-source/classification-dataset-v1.csv -O classification-dataset-v1.csv"
      ]
    },
    {
      "cell_type": "code",
      "source": [
        "# Install Apache Spark\n",
        "!pip install pyspark"
      ],
      "metadata": {
        "colab": {
          "base_uri": "https://localhost:8080/"
        },
        "id": "BSqJDvyT8Vd7",
        "outputId": "f96c4df1-d9c4-440d-addc-4363717ad9c7"
      },
      "execution_count": 22,
      "outputs": [
        {
          "output_type": "stream",
          "name": "stdout",
          "text": [
            "Looking in indexes: https://pypi.org/simple, https://us-python.pkg.dev/colab-wheels/public/simple/\n",
            "Collecting pyspark\n",
            "  Downloading pyspark-3.2.1.tar.gz (281.4 MB)\n",
            "\u001b[K     |████████████████████████████████| 281.4 MB 34 kB/s \n",
            "\u001b[?25hCollecting py4j==0.10.9.3\n",
            "  Downloading py4j-0.10.9.3-py2.py3-none-any.whl (198 kB)\n",
            "\u001b[K     |████████████████████████████████| 198 kB 42.9 MB/s \n",
            "\u001b[?25hBuilding wheels for collected packages: pyspark\n",
            "  Building wheel for pyspark (setup.py) ... \u001b[?25l\u001b[?25hdone\n",
            "  Created wheel for pyspark: filename=pyspark-3.2.1-py2.py3-none-any.whl size=281853642 sha256=dba5c3f5fbc93f1d6c5dabe17f30d066410fa29668412a2dc15bce9dd5497538\n",
            "  Stored in directory: /root/.cache/pip/wheels/9f/f5/07/7cd8017084dce4e93e84e92efd1e1d5334db05f2e83bcef74f\n",
            "Successfully built pyspark\n",
            "Installing collected packages: py4j, pyspark\n",
            "Successfully installed py4j-0.10.9.3 pyspark-3.2.1\n"
          ]
        }
      ]
    },
    {
      "cell_type": "code",
      "source": [
        "from pyspark.sql import SparkSession\n",
        "\n",
        "\n",
        "spark = SparkSession.builder.appName('Clustering using K-Means').getOrCreate()\n"
      ],
      "metadata": {
        "id": "9iLCU-Ge9V0E"
      },
      "execution_count": 28,
      "outputs": []
    },
    {
      "cell_type": "code",
      "source": [
        "df=spark.read.option(\"header\", True).csv(\"classification-dataset-v1.csv\")\n",
        "\n",
        "df.printSchema()"
      ],
      "metadata": {
        "colab": {
          "base_uri": "https://localhost:8080/"
        },
        "id": "pMHa40Ry-ViT",
        "outputId": "40089be4-4d86-4a0d-e051-dfdd9e2301f2"
      },
      "execution_count": 44,
      "outputs": [
        {
          "output_type": "stream",
          "name": "stdout",
          "text": [
            "root\n",
            " |-- Category: string (nullable = true)\n",
            " |-- website: string (nullable = true)\n",
            " |-- company_name: string (nullable = true)\n",
            " |-- homepage_text: string (nullable = true)\n",
            " |-- h1: string (nullable = true)\n",
            " |-- h2: string (nullable = true)\n",
            " |-- h3: string (nullable = true)\n",
            " |-- nav_link_text: string (nullable = true)\n",
            " |-- meta_keywords: string (nullable = true)\n",
            " |-- meta_description: string (nullable = true)\n",
            "\n"
          ]
        }
      ]
    },
    {
      "cell_type": "code",
      "source": [
        "df.head()\n",
        "df.show()"
      ],
      "metadata": {
        "colab": {
          "base_uri": "https://localhost:8080/"
        },
        "id": "EsJgJExV_czk",
        "outputId": "1b039ee8-13f1-496b-c98a-46b7212e3f30"
      },
      "execution_count": 45,
      "outputs": [
        {
          "output_type": "stream",
          "name": "stdout",
          "text": [
            "+--------------------+--------------------+--------------------+--------------------+--------------------+--------------------+--------------------+--------------------+--------------------+--------------------+\n",
            "|            Category|             website|        company_name|       homepage_text|                  h1|                  h2|                  h3|       nav_link_text|       meta_keywords|    meta_description|\n",
            "+--------------------+--------------------+--------------------+--------------------+--------------------+--------------------+--------------------+--------------------+--------------------+--------------------+\n",
            "|Commercial Servic...|     bipelectric.com|bip dipietro elec...|                 ...|                null|                null|                null|                null|electricians vero...|                null|\n",
            "| vero beach electric| commercial light...|         electrician| Indian River County|           Sebastian|          Ft Pierce\"|Providing quality...|                null|                null|                null|\n",
            "|          Healthcare|    eliasmedical.com|       elias medical|    site map | en...|                null|                null|                null|                null|                null|                null|\n",
            "|661.663.0300   Fa...| Suite 203 Bakers...| CA 93311 | (phon...|                null|                null|                null|                null|                null|                null|                null|\n",
            "|    (fax) 661.663...|Offering Bakersfi...|Welcome to ELIAS ...|                null|                null|                null|                null|                null|                null|                null|\n",
            "|       661.663.0300\"|Get To Know Elias...|                null|Elias Medical bak...|For the best valu...|                null|                null|                null|                null|                null|\n",
            "|Commercial Servic...|koopsoverheaddoor...|koops overhead doors|    Home  About U...|                null|Customer Reviews#...|                null|                null|Koops Overhead Do...|Koops Overhead Do...|\n",
            "|          Healthcare|     midtowneyes.com|     midtown eyecare|\"                ...| OK 74120 Phone: ...|                null|Welcome to our pr...|                null|                null|                null|\n",
            "|Commercial Servic...| reprosecurity.co.uk|  repro security ltd|                S...|                null|Welcome to REPRO ...|                null|                null|                null|Repro Security pr...|\n",
            "|           Materials| woodgreentimber.com|wood green timber...|\"      Wood Green...|              London| and our Potters ...|      we have it all| in stock and rea...| however we are e...| and or milled to...|\n",
            "|           Materials|     houstonchem.com|    houston chemical|\"              Ho...| BUILD A DOOR\"\"  ...|             Samples| Quotes or set up...| Chemicals and Pi...| we have clients ...| LLC.  All Rights...|\n",
            "|          Healthcare|        imstartx.com|imstar therapeuti...|               HO...|Twitter#sep#Lead ...|Targeting Neurode...|TDP-43 INHIBITORS...|home,company,abou...|                null|                null|\n",
            "|Commercial Servic...|       pespisaco.com|pespisa company p...|              Hom...|Your local expert...|617-538-5377 • FR...|                null|                null|high efficiency b...|Plumbing, Heating...|\n",
            "|           Materials|   metalprideinc.com|   metal pride, inc.|\"                ...| Chimney Pans and...|             Outlets|             Endcaps|    Square-to-Rounds|             Corners| etc.   Our exper...|\n",
            "|           Materials|   monarquesgold.com|monarques gold co...|ï +1 888-994-44...|Monarques Gold#se...|Fully integrated ...|MD&A#sep#Financia...|ï+1 888-994-446...|                null|Monarques Gold Co...|\n",
            "|Commercial Servic...|traviselectricinc...|     travis electric|      Schedule On...|TRAVIS ELECTRIC, ...|Electrician Servi...|25 Years of Unpar...|home,commercial e...|                null|We are family own...|\n",
            "|Commercial Servic...|            triox.ca|triox environment...|                 ...|LORSQUE L’EXPÉRIE...|Intervention d’ur...|                null|                null|                null|                null|\n",
            "|ET EXPERTISE#sep#...|                null|,en,à propos,nos ...|                null|TRIOX Urgences En...|                null|                null|                null|                null|                null|\n",
            "|Commercial Servic...|imperialcontracti...|imperial contract...|  Home About Us O...|​​#sep#Gallery#se...|2016 Parade of Ho...|Additions#sep#New...|                null|                null|new construction ...|\n",
            "|          Healthcare|            wink.net|wink eyecare bout...|\"                ...|            dry eyes|      blurred vision|           headaches| neck...   Read M...| 2020  Nation-wid...| with TV shows li...|\n",
            "+--------------------+--------------------+--------------------+--------------------+--------------------+--------------------+--------------------+--------------------+--------------------+--------------------+\n",
            "only showing top 20 rows\n",
            "\n"
          ]
        }
      ]
    },
    {
      "cell_type": "code",
      "source": [
        "print((df.count(), len(df.columns)))"
      ],
      "metadata": {
        "colab": {
          "base_uri": "https://localhost:8080/"
        },
        "id": "M03v07tsCML9",
        "outputId": "40d52e5b-c89a-47c1-a8ac-d3d71e647168"
      },
      "execution_count": 46,
      "outputs": [
        {
          "output_type": "stream",
          "name": "stdout",
          "text": [
            "(250419, 10)\n"
          ]
        }
      ]
    },
    {
      "cell_type": "code",
      "source": [
        "col_null_cnt_df =  df.select([count(when(col(c).isNull(),c)).alias(c) for c in df.columns])\n",
        "\n",
        "display(col_null_cnt_df)\n"
      ],
      "metadata": {
        "colab": {
          "base_uri": "https://localhost:8080/",
          "height": 54
        },
        "id": "oVsJX92tIDoM",
        "outputId": "07335631-0f39-467b-908e-a7b6117b0129"
      },
      "execution_count": 89,
      "outputs": [
        {
          "output_type": "display_data",
          "data": {
            "text/plain": [
              "DataFrame[Category: bigint, website: bigint, company_name: bigint, homepage_text: bigint, h1: bigint, h2: bigint, h3: bigint, nav_link_text: bigint, meta_keywords: bigint, meta_description: bigint]"
            ]
          },
          "metadata": {}
        }
      ]
    },
    {
      "cell_type": "code",
      "source": [
        "from pyspark.sql import functions as F\n",
        "df.where(F.col(\"Category\").isNull()).show()"
      ],
      "metadata": {
        "colab": {
          "base_uri": "https://localhost:8080/"
        },
        "id": "9tVrGQHLFUcy",
        "outputId": "2765f942-56b0-4fa9-b17b-58f9a35a2e61"
      },
      "execution_count": 70,
      "outputs": [
        {
          "output_type": "stream",
          "name": "stdout",
          "text": [
            "+--------+--------------------+--------------------+--------------------+--------------------+--------------------+--------------------+--------------------+--------------------+--------------------+\n",
            "|Category|             website|        company_name|       homepage_text|                  h1|                  h2|                  h3|       nav_link_text|       meta_keywords|    meta_description|\n",
            "+--------+--------------------+--------------------+--------------------+--------------------+--------------------+--------------------+--------------------+--------------------+--------------------+\n",
            "|    null|    blue chip stocks|tax saving mutual...|          debt funds|     sip mutual fund|best investment o...|best performing m...|systematic invest...|    best investments|best mutual funds...|\n",
            "|    null|         elss scheme|mutual fund compa...|      top elss funds| sip investment plan| tax on mutual funds|best equity mutua...|   top 10 elss funds|high return mutua...|top mutual funds ...|\n",
            "|    null|    health insurance|            children|              doctor|     doctors near me|   child development|      patient portal|doctor's office n...|     allergic asthma|         baby doctor|\n",
            "|    null|                null|                null|                null|                null|                null|                null|                null|                null|                null|\n",
            "|    null|  Medical Equipments| Hospital Equipments|  Medical Equipme...| Medical Equipmen...| Medical Equipmen...| Hospital Equipme...|  Hospital Equipm...|  Hospital Equipm...|Ababil Healthcare...|\n",
            "|    null|                    |                null|                null|                null|                null|                null|                null|                null|                null|\n",
            "|    null|           FIRST AID|  2-WAY VOICE & V...| SECURITY CONSULTING|                    |                null|                null|                null|                null|                null|\n",
            "|    null|Multi Para monitors | Latest modern Dr...|                null|                null|                null|                null|                null|                null|                null|\n",
            "|    null|Furnace Repairs C...|Furnace Repairs N...|Furnace Repairs V...|Furnace Repairs P...|Furnace Repairs H...|Furnace Repairs N...|Furnace Repairs W...|Furnace Repairs Y...|Furnace Repairs P...|\n",
            "|    null|Air Conditioning ...|Air Conditioning ...|Air Conditioning ...|Air Conditioning ...|Air Conditioning ...|Air Conditioning ...|Air Conditioning ...|Air Conditioning ...|Air Conditioning ...|\n",
            "|    null|Heating Repairs C...|Heating Repairs N...|Heating Repairs V...|Heating Repairs P...|Heating Repairs H...|Heating Repairs N...|Heating Repairs W...|Heating Repairs Y...|Heating Repairs P...|\n",
            "|    null|Medical Equipment...|Medical Equipment...|Medical Equipment...|Medical Equipment...|Medical Equipment...|Medical Equipment...|Medical Equipment...|Medical Equipment...|Medical Equipment...|\n",
            "|    null|HVAC Repairs Ches...|HVAC Repairs Norfolk|HVAC Repairs Virg...|HVAC Repairs Port...|HVAC Repairs Hampton|HVAC Repairs Newp...|HVAC Repairs Will...|HVAC Repairs York...|HVAC Repairs Poqu...|\n",
            "|    null|Heat Pump Repairs...|Heat Pump Repairs...|Heat Pump Repairs...|Heat Pump Repairs...|Heat Pump Repairs...|Heat Pump Repairs...|Heat Pump Repairs...|Heat Pump Repairs...|Heat Pump Repairs...|\n",
            "|    null|HVAC Installation...|HVAC Installation...|HVAC Installation...|                null|                null|                null|                null|                null|                null|\n",
            "|    null|Furnace Repairs C...|Furnace Repairs N...|Furnace Repairs V...|Furnace Repairs P...|Furnace Repairs H...|Furnace Repairs N...|Furnace Repairs W...|Furnace Repairs Y...|Furnace Repairs P...|\n",
            "|    null|Air Conditioning ...|Air Conditioning ...|Air Conditioning ...|Air Conditioning ...|Air Conditioning ...|Air Conditioning ...|Air Conditioning ...|Air Conditioning ...|Air Conditioning ...|\n",
            "|    null|Heating Repairs C...|Heating Repairs N...|Heating Repairs V...|Heating Repairs P...|Heating Repairs H...|Heating Repairs N...|Heating Repairs W...|Heating Repairs Y...|Heating Repairs P...|\n",
            "|    null|Medical Equipment...|Medical Equipment...|Medical Equipment...|Medical Equipment...|Medical Equipment...|Medical Equipment...|Medical Equipment...|Medical Equipment...|Medical Equipment...|\n",
            "|    null|HVAC Repairs Ches...|HVAC Repairs Norfolk|HVAC Repairs Virg...|HVAC Repairs Port...|HVAC Repairs Hampton|HVAC Repairs Newp...|HVAC Repairs Will...|HVAC Repairs York...|HVAC Repairs Poqu...|\n",
            "+--------+--------------------+--------------------+--------------------+--------------------+--------------------+--------------------+--------------------+--------------------+--------------------+\n",
            "only showing top 20 rows\n",
            "\n"
          ]
        }
      ]
    },
    {
      "cell_type": "code",
      "source": [
        "df.where(F.col(\"website\").isNull()).show()"
      ],
      "metadata": {
        "colab": {
          "base_uri": "https://localhost:8080/"
        },
        "id": "76XmwLqqFrZs",
        "outputId": "14ad60f7-a4bc-4b53-f5f2-9e59b666df4c"
      },
      "execution_count": 58,
      "outputs": [
        {
          "output_type": "stream",
          "name": "stdout",
          "text": [
            "+--------------------+-------+--------------------+-------------+--------------------+----+----+-------------+-------------+----------------+\n",
            "|            Category|website|        company_name|homepage_text|                  h1|  h2|  h3|nav_link_text|meta_keywords|meta_description|\n",
            "+--------------------+-------+--------------------+-------------+--------------------+----+----+-------------+-------------+----------------+\n",
            "|ET EXPERTISE#sep#...|   null|,en,à propos,nos ...|         null|TRIOX Urgences En...|null|null|         null|         null|            null|\n",
            "|big and small.#se...|   null|                null|         null|                null|null|null|         null|         null|            null|\n",
            "|in salt lake for ...|   null|                null|         null|                null|null|null|         null|         null|            null|\n",
            "|  doesnât stop ...|   null|                null|         null|                null|null|null|         null|         null|            null|\n",
            "|  the top issues ...|   null|                null|         null|                null|null|null|         null|         null|            null|\n",
            "|  Biomet has a va...|   null|                null|         null|                null|null|null|         null|         null|            null|\n",
            "|  following offer...|   null|                null|         null|                null|null|null|         null|         null|            null|\n",
            "|  Biomet has a va...|   null|                null|         null|                null|null|null|         null|         null|            null|\n",
            "|  following offer...|   null|                null|         null|                null|null|null|         null|         null|            null|\n",
            "|  is not just one...|   null|                null|         null|                null|null|null|         null|         null|            null|\n",
            "|  implant and ins...|   null|                null|         null|                null|null|null|         null|         null|            null|\n",
            "|  each surgeonâ...|   null|                null|         null|                null|null|null|         null|         null|            null|\n",
            "|  is not just one...|   null|                null|         null|                null|null|null|         null|         null|            null|\n",
            "|  implant and ins...|   null|                null|         null|                null|null|null|         null|         null|            null|\n",
            "|  each surgeonâ...|   null|                null|         null|                null|null|null|         null|         null|            null|\n",
            "|  mini-open or ar...|   null|                null|         null|                null|null|null|         null|         null|            null|\n",
            "|  make the best c...|   null|                null|         null|                null|null|null|         null|         null|            null|\n",
            "|  mini-open or ar...|   null|                null|         null|                null|null|null|         null|         null|            null|\n",
            "|  make the best c...|   null|                null|         null|                null|null|null|         null|         null|            null|\n",
            "|  patients from a...|   null|                null|         null|                null|null|null|         null|         null|            null|\n",
            "+--------------------+-------+--------------------+-------------+--------------------+----+----+-------------+-------------+----------------+\n",
            "only showing top 20 rows\n",
            "\n"
          ]
        }
      ]
    },
    {
      "cell_type": "code",
      "source": [
        "df.where(F.col(\"company_name\").isNull()).show()"
      ],
      "metadata": {
        "colab": {
          "base_uri": "https://localhost:8080/"
        },
        "id": "TADpj5q1Fx77",
        "outputId": "4fa84255-cf43-460e-a344-738f548149cb"
      },
      "execution_count": 59,
      "outputs": [
        {
          "output_type": "stream",
          "name": "stdout",
          "text": [
            "+--------------------+--------------------+------------+--------------------+--------------------+----+----+-------------+-------------+----------------+\n",
            "|            Category|             website|company_name|       homepage_text|                  h1|  h2|  h3|nav_link_text|meta_keywords|meta_description|\n",
            "+--------------------+--------------------+------------+--------------------+--------------------+----+----+-------------+-------------+----------------+\n",
            "|       661.663.0300\"|Get To Know Elias...|        null|Elias Medical bak...|For the best valu...|null|null|         null|         null|            null|\n",
            "|    Locally owned...| we have everythi...|        null|                null|                null|null|null|         null|         null|            null|\n",
            "|             Anytime| anywhere.#sep#Ca...|        null|                null|                null|null|null|         null|         null|            null|\n",
            "|big and small.#se...|                null|        null|                null|                null|null|null|         null|         null|            null|\n",
            "|                City| Utah area. Abe S...|        null|                null|                null|null|null|         null|         null|            null|\n",
            "|in salt lake for ...|                null|        null|                null|                null|null|null|         null|         null|            null|\n",
            "|  industry leader...|                  it|        null|                null|                null|null|null|         null|         null|            null|\n",
            "|  doesnât stop ...|                null|        null|                null|                null|null|null|         null|         null|            null|\n",
            "|  the top issues ...|                null|        null|                null|                null|null|null|         null|         null|            null|\n",
            "|  for products de...|           cartilage|        null|                null|                null|null|null|         null|         null|            null|\n",
            "|  restoration and...| or minimally-inv...|        null|                null|                null|null|null|         null|         null|            null|\n",
            "|  bony defects ne...| weâve worked o...|        null|                null|                null|null|null|         null|         null|            null|\n",
            "|  interpositional...|              Zimmer|        null|                null|                null|null|null|         null|         null|            null|\n",
            "|  Biomet has a va...|                null|        null|                null|                null|null|null|         null|         null|            null|\n",
            "|  following offer...|                null|        null|                null|                null|null|null|         null|         null|            null|\n",
            "|  interpositional...|              Zimmer|        null|                null|                null|null|null|         null|         null|            null|\n",
            "|  Biomet has a va...|                null|        null|                null|                null|null|null|         null|         null|            null|\n",
            "|  following offer...|                null|        null|                null|                null|null|null|         null|         null|            null|\n",
            "|     with knots tied| to accommodate t...|        null|                null|                null|null|null|         null|         null|            null|\n",
            "|  is not just one...|                null|        null|                null|                null|null|null|         null|         null|            null|\n",
            "+--------------------+--------------------+------------+--------------------+--------------------+----+----+-------------+-------------+----------------+\n",
            "only showing top 20 rows\n",
            "\n"
          ]
        }
      ]
    },
    {
      "cell_type": "code",
      "source": [
        "df.where(F.col(\"homepage_text\").isNull()).show()"
      ],
      "metadata": {
        "colab": {
          "base_uri": "https://localhost:8080/"
        },
        "id": "epUbZXiDF1J1",
        "outputId": "469a1193-b16a-4197-b610-91b26c949e4c"
      },
      "execution_count": 60,
      "outputs": [
        {
          "output_type": "stream",
          "name": "stdout",
          "text": [
            "+--------------------+--------------------+--------------------+-------------+--------------------+----+----+-------------+-------------+----------------+\n",
            "|            Category|             website|        company_name|homepage_text|                  h1|  h2|  h3|nav_link_text|meta_keywords|meta_description|\n",
            "+--------------------+--------------------+--------------------+-------------+--------------------+----+----+-------------+-------------+----------------+\n",
            "|661.663.0300   Fa...| Suite 203 Bakers...| CA 93311 | (phon...|         null|                null|null|null|         null|         null|            null|\n",
            "|    (fax) 661.663...|Offering Bakersfi...|Welcome to ELIAS ...|         null|                null|null|null|         null|         null|            null|\n",
            "|ET EXPERTISE#sep#...|                null|,en,à propos,nos ...|         null|TRIOX Urgences En...|null|null|         null|         null|            null|\n",
            "|    Locally owned...| we have everythi...|                null|         null|                null|null|null|         null|         null|            null|\n",
            "|             Anytime| anywhere.#sep#Ca...|                null|         null|                null|null|null|         null|         null|            null|\n",
            "|big and small.#se...|                null|                null|         null|                null|null|null|         null|         null|            null|\n",
            "|                City| Utah area. Abe S...|                null|         null|                null|null|null|         null|         null|            null|\n",
            "|in salt lake for ...|                null|                null|         null|                null|null|null|         null|         null|            null|\n",
            "|  industry leader...|                  it|                null|         null|                null|null|null|         null|         null|            null|\n",
            "|  doesnât stop ...|                null|                null|         null|                null|null|null|         null|         null|            null|\n",
            "|  the top issues ...|                null|                null|         null|                null|null|null|         null|         null|            null|\n",
            "|  for products de...|           cartilage|                null|         null|                null|null|null|         null|         null|            null|\n",
            "|  restoration and...| or minimally-inv...|                null|         null|                null|null|null|         null|         null|            null|\n",
            "|  bony defects ne...| weâve worked o...|                null|         null|                null|null|null|         null|         null|            null|\n",
            "|  portfolio to he...| restore peak per...| including knotle...|         null|                null|null|null|         null|         null|            null|\n",
            "|  all-suture anchors| biocomposite anc...| traditional sutu...|         null|                null|null|null|         null|         null|            null|\n",
            "|  interpositional...|              Zimmer|                null|         null|                null|null|null|         null|         null|            null|\n",
            "|  Biomet has a va...|                null|                null|         null|                null|null|null|         null|         null|            null|\n",
            "|  following offer...|                null|                null|         null|                null|null|null|         null|         null|            null|\n",
            "|  to repair the r...| via double row o...|         knotless or|         null|                null|null|null|         null|         null|            null|\n",
            "+--------------------+--------------------+--------------------+-------------+--------------------+----+----+-------------+-------------+----------------+\n",
            "only showing top 20 rows\n",
            "\n"
          ]
        }
      ]
    },
    {
      "cell_type": "code",
      "source": [
        "df.where(F.col(\"h1\").isNull()).show()"
      ],
      "metadata": {
        "colab": {
          "base_uri": "https://localhost:8080/"
        },
        "id": "tzVmwqsTGDXb",
        "outputId": "86579b20-44af-4ce8-990e-285a86608dea"
      },
      "execution_count": 61,
      "outputs": [
        {
          "output_type": "stream",
          "name": "stdout",
          "text": [
            "+--------------------+--------------------+--------------------+--------------------+----+--------------------+--------------------+--------------------+--------------------+--------------------+\n",
            "|            Category|             website|        company_name|       homepage_text|  h1|                  h2|                  h3|       nav_link_text|       meta_keywords|    meta_description|\n",
            "+--------------------+--------------------+--------------------+--------------------+----+--------------------+--------------------+--------------------+--------------------+--------------------+\n",
            "|Commercial Servic...|     bipelectric.com|bip dipietro elec...|                 ...|null|                null|                null|                null|electricians vero...|                null|\n",
            "|          Healthcare|    eliasmedical.com|       elias medical|    site map | en...|null|                null|                null|                null|                null|                null|\n",
            "|661.663.0300   Fa...| Suite 203 Bakers...| CA 93311 | (phon...|                null|null|                null|                null|                null|                null|                null|\n",
            "|    (fax) 661.663...|Offering Bakersfi...|Welcome to ELIAS ...|                null|null|                null|                null|                null|                null|                null|\n",
            "|Commercial Servic...|koopsoverheaddoor...|koops overhead doors|    Home  About U...|null|Customer Reviews#...|                null|                null|Koops Overhead Do...|Koops Overhead Do...|\n",
            "|Commercial Servic...| reprosecurity.co.uk|  repro security ltd|                S...|null|Welcome to REPRO ...|                null|                null|                null|Repro Security pr...|\n",
            "|           Materials|mishawakasheetmet...|mishawaka sheet m...|         CALL US ...|null|                null|                null|                null|                null|                null|\n",
            "|Commercial Servic...|       samlevitz.com|sam levitz furniture|                 ...|null|                null|                null|                null|                null|                null|\n",
            "|    Locally owned...| we have everythi...|                null|                null|null|                null|                null|                null|                null|                null|\n",
            "|Commercial Servic...|verticalelevator.com|   vertical elevator|      New York Ci...|null|                null|                null|                null|                null|New York City's e...|\n",
            "|           Materials|  shaftonsteel.co.uk|shafton steel ser...|                 ...|null|BEVEL HEAD PLASMA...|BEVEL HEAD PLASMA...|                null|                null|                null|\n",
            "|           Materials|           amfco.biz|allegan metal fin...|      Amfco.biz  ...|null|                null|                null|                null|                null|                null|\n",
            "|          Healthcare|infinitymedicalin...|infinity medical ...|                 ...|null|                null|Weight Management...|                null|                null|Feeling sexy or o...|\n",
            "|          Healthcare|       turnwedge.com|careplus medical ...|                 ...|null|We are a certifie...|The Turnwedge’s u...|,,challenges,solu...|                null|Welcome WOCN Heal...|\n",
            "|             Anytime| anywhere.#sep#Ca...|                null|                null|null|                null|                null|                null|                null|                null|\n",
            "|big and small.#se...|                null|                null|                null|null|                null|                null|                null|                null|                null|\n",
            "|Remarkable commun...|Classes & Events#...|Subscribe to Our ...|services & care a...|null|Quality health in...|                null|                null|                null|                null|\n",
            "|                City| Utah area. Abe S...|                null|                null|null|                null|                null|                null|                null|                null|\n",
            "|in salt lake for ...|                null|                null|                null|null|                null|                null|                null|                null|                null|\n",
            "|Commercial Servic...|             ced.biz|california enviro...|       Facebook T...|null|Wastewater Treatm...|ANSI/NSF Certifie...|home,about,about ...|                null|California Enviro...|\n",
            "+--------------------+--------------------+--------------------+--------------------+----+--------------------+--------------------+--------------------+--------------------+--------------------+\n",
            "only showing top 20 rows\n",
            "\n"
          ]
        }
      ]
    },
    {
      "cell_type": "code",
      "source": [
        "df.where(F.col(\"h2\").isNull()).show()"
      ],
      "metadata": {
        "colab": {
          "base_uri": "https://localhost:8080/"
        },
        "id": "Vk5K8YvkGFY-",
        "outputId": "058c1c3f-fc09-4fd5-ddf6-8e4caaded5d2"
      },
      "execution_count": 62,
      "outputs": [
        {
          "output_type": "stream",
          "name": "stdout",
          "text": [
            "+--------------------+--------------------+--------------------+--------------------+--------------------+----+--------------------+--------------------+--------------------+--------------------+\n",
            "|            Category|             website|        company_name|       homepage_text|                  h1|  h2|                  h3|       nav_link_text|       meta_keywords|    meta_description|\n",
            "+--------------------+--------------------+--------------------+--------------------+--------------------+----+--------------------+--------------------+--------------------+--------------------+\n",
            "|Commercial Servic...|     bipelectric.com|bip dipietro elec...|                 ...|                null|null|                null|                null|electricians vero...|                null|\n",
            "|          Healthcare|    eliasmedical.com|       elias medical|    site map | en...|                null|null|                null|                null|                null|                null|\n",
            "|661.663.0300   Fa...| Suite 203 Bakers...| CA 93311 | (phon...|                null|                null|null|                null|                null|                null|                null|\n",
            "|    (fax) 661.663...|Offering Bakersfi...|Welcome to ELIAS ...|                null|                null|null|                null|                null|                null|                null|\n",
            "|       661.663.0300\"|Get To Know Elias...|                null|Elias Medical bak...|For the best valu...|null|                null|                null|                null|                null|\n",
            "|          Healthcare|     midtowneyes.com|     midtown eyecare|\"                ...| OK 74120 Phone: ...|null|Welcome to our pr...|                null|                null|                null|\n",
            "|ET EXPERTISE#sep#...|                null|,en,à propos,nos ...|                null|TRIOX Urgences En...|null|                null|                null|                null|                null|\n",
            "|           Materials|mishawakasheetmet...|mishawaka sheet m...|         CALL US ...|                null|null|                null|                null|                null|                null|\n",
            "|Commercial Servic...|       samlevitz.com|sam levitz furniture|                 ...|                null|null|                null|                null|                null|                null|\n",
            "|    Locally owned...| we have everythi...|                null|                null|                null|null|                null|                null|                null|                null|\n",
            "|Commercial Servic...|  eagleielectric.com|eagle industrial ...|         Eagle In...|Providing electri...|null|                null|                null|                null|Eagle Industrial ...|\n",
            "|Commercial Servic...|verticalelevator.com|   vertical elevator|      New York Ci...|                null|null|                null|                null|                null|New York City's e...|\n",
            "|           Materials|           amfco.biz|allegan metal fin...|      Amfco.biz  ...|                null|null|                null|                null|                null|                null|\n",
            "|          Healthcare|infinitymedicalin...|infinity medical ...|                 ...|                null|null|Weight Management...|                null|                null|Feeling sexy or o...|\n",
            "|Commercial Servic...|    officialhvac.com|official heating ...|   Toggle navigat...|Serving the North...|null|Hear From Our Cus...|about,meet our fa...|                null|Official HVAC are...|\n",
            "|          Healthcare|         gritman.org|gritman medical c...|                 ...|Quality health in...|null|                null|                null|                null|                null|\n",
            "|             Anytime| anywhere.#sep#Ca...|                null|                null|                null|null|                null|                null|                null|                null|\n",
            "|big and small.#se...|                null|                null|                null|                null|null|                null|                null|                null|                null|\n",
            "|          Healthcare|bluewaterorthoped...|bluewater orthope...|                 ...|Orthopedic Surger...|null|                null|home,about us,our...|patients, orthope...|Bluewater Orthope...|\n",
            "|Commercial Servic...|     shawroofing.com|shaw roofing and ...|                 ...|Trusted For Twent...|null|Recent Roofs#sep#...|home,about us,our...|                null|Shaw Roofing spec...|\n",
            "+--------------------+--------------------+--------------------+--------------------+--------------------+----+--------------------+--------------------+--------------------+--------------------+\n",
            "only showing top 20 rows\n",
            "\n"
          ]
        }
      ]
    },
    {
      "cell_type": "code",
      "source": [
        "df.where(F.col(\"h3\").isNull()).show()"
      ],
      "metadata": {
        "colab": {
          "base_uri": "https://localhost:8080/"
        },
        "id": "sZCFWu0cGJpz",
        "outputId": "e1aec650-11a7-4ec0-9515-99a363ea884e"
      },
      "execution_count": 63,
      "outputs": [
        {
          "output_type": "stream",
          "name": "stdout",
          "text": [
            "+--------------------+--------------------+--------------------+--------------------+--------------------+--------------------+----+-------------+--------------------+--------------------+\n",
            "|            Category|             website|        company_name|       homepage_text|                  h1|                  h2|  h3|nav_link_text|       meta_keywords|    meta_description|\n",
            "+--------------------+--------------------+--------------------+--------------------+--------------------+--------------------+----+-------------+--------------------+--------------------+\n",
            "|Commercial Servic...|     bipelectric.com|bip dipietro elec...|                 ...|                null|                null|null|         null|electricians vero...|                null|\n",
            "|          Healthcare|    eliasmedical.com|       elias medical|    site map | en...|                null|                null|null|         null|                null|                null|\n",
            "|661.663.0300   Fa...| Suite 203 Bakers...| CA 93311 | (phon...|                null|                null|                null|null|         null|                null|                null|\n",
            "|    (fax) 661.663...|Offering Bakersfi...|Welcome to ELIAS ...|                null|                null|                null|null|         null|                null|                null|\n",
            "|       661.663.0300\"|Get To Know Elias...|                null|Elias Medical bak...|For the best valu...|                null|null|         null|                null|                null|\n",
            "|Commercial Servic...|koopsoverheaddoor...|koops overhead doors|    Home  About U...|                null|Customer Reviews#...|null|         null|Koops Overhead Do...|Koops Overhead Do...|\n",
            "|Commercial Servic...| reprosecurity.co.uk|  repro security ltd|                S...|                null|Welcome to REPRO ...|null|         null|                null|Repro Security pr...|\n",
            "|Commercial Servic...|       pespisaco.com|pespisa company p...|              Hom...|Your local expert...|617-538-5377 • FR...|null|         null|high efficiency b...|Plumbing, Heating...|\n",
            "|Commercial Servic...|            triox.ca|triox environment...|                 ...|LORSQUE L’EXPÉRIE...|Intervention d’ur...|null|         null|                null|                null|\n",
            "|ET EXPERTISE#sep#...|                null|,en,à propos,nos ...|                null|TRIOX Urgences En...|                null|null|         null|                null|                null|\n",
            "|           Materials|mishawakasheetmet...|mishawaka sheet m...|         CALL US ...|                null|                null|null|         null|                null|                null|\n",
            "|Commercial Servic...|         durabond.ca|durabond janitori...|              Tol...|Durabond Offers P...|Toll Free: (866) ...|null|         null|commercial cleani...|When you need com...|\n",
            "|Commercial Servic...|       samlevitz.com|sam levitz furniture|                 ...|                null|                null|null|         null|                null|                null|\n",
            "|    Locally owned...| we have everythi...|                null|                null|                null|                null|null|         null|                null|                null|\n",
            "|Commercial Servic...|  eagleielectric.com|eagle industrial ...|         Eagle In...|Providing electri...|                null|null|         null|                null|Eagle Industrial ...|\n",
            "|Commercial Servic...|verticalelevator.com|   vertical elevator|      New York Ci...|                null|                null|null|         null|                null|New York City's e...|\n",
            "|           Materials|           amfco.biz|allegan metal fin...|      Amfco.biz  ...|                null|                null|null|         null|                null|                null|\n",
            "|          Healthcare|         gritman.org|gritman medical c...|                 ...|Quality health in...|                null|null|         null|                null|                null|\n",
            "|             Anytime| anywhere.#sep#Ca...|                null|                null|                null|                null|null|         null|                null|                null|\n",
            "|big and small.#se...|                null|                null|                null|                null|                null|null|         null|                null|                null|\n",
            "+--------------------+--------------------+--------------------+--------------------+--------------------+--------------------+----+-------------+--------------------+--------------------+\n",
            "only showing top 20 rows\n",
            "\n"
          ]
        }
      ]
    },
    {
      "cell_type": "code",
      "source": [
        "df.where(F.col(\"nav_link_text\").isNull()).show()"
      ],
      "metadata": {
        "colab": {
          "base_uri": "https://localhost:8080/"
        },
        "id": "frXQOwrrGMML",
        "outputId": "958b91f1-0c29-4175-ccd9-a853a9bf2e46"
      },
      "execution_count": 65,
      "outputs": [
        {
          "output_type": "stream",
          "name": "stdout",
          "text": [
            "+--------------------+--------------------+--------------------+--------------------+--------------------+--------------------+--------------------+-------------+--------------------+--------------------+\n",
            "|            Category|             website|        company_name|       homepage_text|                  h1|                  h2|                  h3|nav_link_text|       meta_keywords|    meta_description|\n",
            "+--------------------+--------------------+--------------------+--------------------+--------------------+--------------------+--------------------+-------------+--------------------+--------------------+\n",
            "|Commercial Servic...|     bipelectric.com|bip dipietro elec...|                 ...|                null|                null|                null|         null|electricians vero...|                null|\n",
            "| vero beach electric| commercial light...|         electrician| Indian River County|           Sebastian|          Ft Pierce\"|Providing quality...|         null|                null|                null|\n",
            "|          Healthcare|    eliasmedical.com|       elias medical|    site map | en...|                null|                null|                null|         null|                null|                null|\n",
            "|661.663.0300   Fa...| Suite 203 Bakers...| CA 93311 | (phon...|                null|                null|                null|                null|         null|                null|                null|\n",
            "|    (fax) 661.663...|Offering Bakersfi...|Welcome to ELIAS ...|                null|                null|                null|                null|         null|                null|                null|\n",
            "|       661.663.0300\"|Get To Know Elias...|                null|Elias Medical bak...|For the best valu...|                null|                null|         null|                null|                null|\n",
            "|Commercial Servic...|koopsoverheaddoor...|koops overhead doors|    Home  About U...|                null|Customer Reviews#...|                null|         null|Koops Overhead Do...|Koops Overhead Do...|\n",
            "|          Healthcare|     midtowneyes.com|     midtown eyecare|\"                ...| OK 74120 Phone: ...|                null|Welcome to our pr...|         null|                null|                null|\n",
            "|Commercial Servic...| reprosecurity.co.uk|  repro security ltd|                S...|                null|Welcome to REPRO ...|                null|         null|                null|Repro Security pr...|\n",
            "|Commercial Servic...|       pespisaco.com|pespisa company p...|              Hom...|Your local expert...|617-538-5377 • FR...|                null|         null|high efficiency b...|Plumbing, Heating...|\n",
            "|Commercial Servic...|            triox.ca|triox environment...|                 ...|LORSQUE L’EXPÉRIE...|Intervention d’ur...|                null|         null|                null|                null|\n",
            "|ET EXPERTISE#sep#...|                null|,en,à propos,nos ...|                null|TRIOX Urgences En...|                null|                null|         null|                null|                null|\n",
            "|Commercial Servic...|imperialcontracti...|imperial contract...|  Home About Us O...|​​#sep#Gallery#se...|2016 Parade of Ho...|Additions#sep#New...|         null|                null|new construction ...|\n",
            "|           Materials|mishawakasheetmet...|mishawaka sheet m...|         CALL US ...|                null|                null|                null|         null|                null|                null|\n",
            "|Commercial Servic...|         durabond.ca|durabond janitori...|              Tol...|Durabond Offers P...|Toll Free: (866) ...|                null|         null|commercial cleani...|When you need com...|\n",
            "|Commercial Servic...|       samlevitz.com|sam levitz furniture|                 ...|                null|                null|                null|         null|                null|                null|\n",
            "|    Locally owned...| we have everythi...|                null|                null|                null|                null|                null|         null|                null|                null|\n",
            "|Commercial Servic...|  eagleielectric.com|eagle industrial ...|         Eagle In...|Providing electri...|                null|                null|         null|                null|Eagle Industrial ...|\n",
            "|Commercial Servic...|verticalelevator.com|   vertical elevator|      New York Ci...|                null|                null|                null|         null|                null|New York City's e...|\n",
            "|           Materials|  shaftonsteel.co.uk|shafton steel ser...|                 ...|                null|BEVEL HEAD PLASMA...|BEVEL HEAD PLASMA...|         null|                null|                null|\n",
            "+--------------------+--------------------+--------------------+--------------------+--------------------+--------------------+--------------------+-------------+--------------------+--------------------+\n",
            "only showing top 20 rows\n",
            "\n"
          ]
        }
      ]
    },
    {
      "cell_type": "code",
      "source": [
        "df.where(F.col(\"meta_keywords\").isNull()).show()"
      ],
      "metadata": {
        "colab": {
          "base_uri": "https://localhost:8080/"
        },
        "id": "-7vbCcc9GRa0",
        "outputId": "6fcee7e0-901b-4312-a9ba-5432b4c2a91a"
      },
      "execution_count": 66,
      "outputs": [
        {
          "output_type": "stream",
          "name": "stdout",
          "text": [
            "+--------------------+--------------------+--------------------+--------------------+--------------------+--------------------+--------------------+--------------------+-------------+--------------------+\n",
            "|            Category|             website|        company_name|       homepage_text|                  h1|                  h2|                  h3|       nav_link_text|meta_keywords|    meta_description|\n",
            "+--------------------+--------------------+--------------------+--------------------+--------------------+--------------------+--------------------+--------------------+-------------+--------------------+\n",
            "| vero beach electric| commercial light...|         electrician| Indian River County|           Sebastian|          Ft Pierce\"|Providing quality...|                null|         null|                null|\n",
            "|          Healthcare|    eliasmedical.com|       elias medical|    site map | en...|                null|                null|                null|                null|         null|                null|\n",
            "|661.663.0300   Fa...| Suite 203 Bakers...| CA 93311 | (phon...|                null|                null|                null|                null|                null|         null|                null|\n",
            "|    (fax) 661.663...|Offering Bakersfi...|Welcome to ELIAS ...|                null|                null|                null|                null|                null|         null|                null|\n",
            "|       661.663.0300\"|Get To Know Elias...|                null|Elias Medical bak...|For the best valu...|                null|                null|                null|         null|                null|\n",
            "|          Healthcare|     midtowneyes.com|     midtown eyecare|\"                ...| OK 74120 Phone: ...|                null|Welcome to our pr...|                null|         null|                null|\n",
            "|Commercial Servic...| reprosecurity.co.uk|  repro security ltd|                S...|                null|Welcome to REPRO ...|                null|                null|         null|Repro Security pr...|\n",
            "|          Healthcare|        imstartx.com|imstar therapeuti...|               HO...|Twitter#sep#Lead ...|Targeting Neurode...|TDP-43 INHIBITORS...|home,company,abou...|         null|                null|\n",
            "|           Materials|   monarquesgold.com|monarques gold co...|ï +1 888-994-44...|Monarques Gold#se...|Fully integrated ...|MD&A#sep#Financia...|ï+1 888-994-446...|         null|Monarques Gold Co...|\n",
            "|Commercial Servic...|traviselectricinc...|     travis electric|      Schedule On...|TRAVIS ELECTRIC, ...|Electrician Servi...|25 Years of Unpar...|home,commercial e...|         null|We are family own...|\n",
            "|Commercial Servic...|            triox.ca|triox environment...|                 ...|LORSQUE L’EXPÉRIE...|Intervention d’ur...|                null|                null|         null|                null|\n",
            "|ET EXPERTISE#sep#...|                null|,en,à propos,nos ...|                null|TRIOX Urgences En...|                null|                null|                null|         null|                null|\n",
            "|Commercial Servic...|imperialcontracti...|imperial contract...|  Home About Us O...|​​#sep#Gallery#se...|2016 Parade of Ho...|Additions#sep#New...|                null|         null|new construction ...|\n",
            "|           Materials|mishawakasheetmet...|mishawaka sheet m...|         CALL US ...|                null|                null|                null|                null|         null|                null|\n",
            "|          Healthcare|weareanimalhospit...|weare animal hosp...|                 ...|Weare Animal Hosp...|      Get Directions|Our Family of Vet...|home,veterinary s...|         null|Weare Animal Hosp...|\n",
            "|Commercial Servic...|       samlevitz.com|sam levitz furniture|                 ...|                null|                null|                null|                null|         null|                null|\n",
            "|    Locally owned...| we have everythi...|                null|                null|                null|                null|                null|                null|         null|                null|\n",
            "|Commercial Servic...|  eagleielectric.com|eagle industrial ...|         Eagle In...|Providing electri...|                null|                null|                null|         null|Eagle Industrial ...|\n",
            "|Commercial Servic...|verticalelevator.com|   vertical elevator|      New York Ci...|                null|                null|                null|                null|         null|New York City's e...|\n",
            "|           Materials|  shaftonsteel.co.uk|shafton steel ser...|                 ...|                null|BEVEL HEAD PLASMA...|BEVEL HEAD PLASMA...|                null|         null|                null|\n",
            "+--------------------+--------------------+--------------------+--------------------+--------------------+--------------------+--------------------+--------------------+-------------+--------------------+\n",
            "only showing top 20 rows\n",
            "\n"
          ]
        }
      ]
    },
    {
      "cell_type": "code",
      "source": [
        "df.where(F.col(\"meta_description\").isNull()).show()"
      ],
      "metadata": {
        "colab": {
          "base_uri": "https://localhost:8080/"
        },
        "id": "LCmGDqqOGYZk",
        "outputId": "246630c5-21d2-4f40-941a-4ceb5ec2529d"
      },
      "execution_count": 67,
      "outputs": [
        {
          "output_type": "stream",
          "name": "stdout",
          "text": [
            "+--------------------+--------------------+--------------------+--------------------+--------------------+--------------------+--------------------+--------------------+--------------------+----------------+\n",
            "|            Category|             website|        company_name|       homepage_text|                  h1|                  h2|                  h3|       nav_link_text|       meta_keywords|meta_description|\n",
            "+--------------------+--------------------+--------------------+--------------------+--------------------+--------------------+--------------------+--------------------+--------------------+----------------+\n",
            "|Commercial Servic...|     bipelectric.com|bip dipietro elec...|                 ...|                null|                null|                null|                null|electricians vero...|            null|\n",
            "| vero beach electric| commercial light...|         electrician| Indian River County|           Sebastian|          Ft Pierce\"|Providing quality...|                null|                null|            null|\n",
            "|          Healthcare|    eliasmedical.com|       elias medical|    site map | en...|                null|                null|                null|                null|                null|            null|\n",
            "|661.663.0300   Fa...| Suite 203 Bakers...| CA 93311 | (phon...|                null|                null|                null|                null|                null|                null|            null|\n",
            "|    (fax) 661.663...|Offering Bakersfi...|Welcome to ELIAS ...|                null|                null|                null|                null|                null|                null|            null|\n",
            "|       661.663.0300\"|Get To Know Elias...|                null|Elias Medical bak...|For the best valu...|                null|                null|                null|                null|            null|\n",
            "|          Healthcare|     midtowneyes.com|     midtown eyecare|\"                ...| OK 74120 Phone: ...|                null|Welcome to our pr...|                null|                null|            null|\n",
            "|          Healthcare|        imstartx.com|imstar therapeuti...|               HO...|Twitter#sep#Lead ...|Targeting Neurode...|TDP-43 INHIBITORS...|home,company,abou...|                null|            null|\n",
            "|Commercial Servic...|            triox.ca|triox environment...|                 ...|LORSQUE L’EXPÉRIE...|Intervention d’ur...|                null|                null|                null|            null|\n",
            "|ET EXPERTISE#sep#...|                null|,en,à propos,nos ...|                null|TRIOX Urgences En...|                null|                null|                null|                null|            null|\n",
            "|           Materials|mishawakasheetmet...|mishawaka sheet m...|         CALL US ...|                null|                null|                null|                null|                null|            null|\n",
            "|Commercial Servic...|       samlevitz.com|sam levitz furniture|                 ...|                null|                null|                null|                null|                null|            null|\n",
            "|    Locally owned...| we have everythi...|                null|                null|                null|                null|                null|                null|                null|            null|\n",
            "|           Materials|  shaftonsteel.co.uk|shafton steel ser...|                 ...|                null|BEVEL HEAD PLASMA...|BEVEL HEAD PLASMA...|                null|                null|            null|\n",
            "|           Materials|           amfco.biz|allegan metal fin...|      Amfco.biz  ...|                null|                null|                null|                null|                null|            null|\n",
            "|          Healthcare|         gritman.org|gritman medical c...|                 ...|Quality health in...|                null|                null|                null|                null|            null|\n",
            "|             Anytime| anywhere.#sep#Ca...|                null|                null|                null|                null|                null|                null|                null|            null|\n",
            "|big and small.#se...|                null|                null|                null|                null|                null|                null|                null|                null|            null|\n",
            "|Remarkable commun...|Classes & Events#...|Subscribe to Our ...|services & care a...|                null|Quality health in...|                null|                null|                null|            null|\n",
            "|                City| Utah area. Abe S...|                null|                null|                null|                null|                null|                null|                null|            null|\n",
            "+--------------------+--------------------+--------------------+--------------------+--------------------+--------------------+--------------------+--------------------+--------------------+----------------+\n",
            "only showing top 20 rows\n",
            "\n"
          ]
        }
      ]
    },
    {
      "cell_type": "markdown",
      "source": [
        "membuat kolom baru dari gabungan h1 h2 h3 menjadi heading\n",
        "\n"
      ],
      "metadata": {
        "id": "MCUnkFD3QEZ6"
      }
    },
    {
      "cell_type": "code",
      "source": [
        "# concat_ws(\",\",\"firstname\",'lastname'\n",
        "new_df = df.withColumn(\"headings\",concat_ws(\" \",\"h1\",'h2',\"h3\"))\n",
        "new_df.show()"
      ],
      "metadata": {
        "colab": {
          "base_uri": "https://localhost:8080/"
        },
        "id": "biG4r1FQT5Y1",
        "outputId": "f0a26155-b19e-474f-fdef-431047f3ec99"
      },
      "execution_count": 109,
      "outputs": [
        {
          "output_type": "stream",
          "name": "stdout",
          "text": [
            "+--------------------+--------------------+--------------------+--------------------+--------------------+--------------------+--------------------+--------------------+--------------------+--------------------+--------------------+\n",
            "|            Category|             website|        company_name|       homepage_text|                  h1|                  h2|                  h3|       nav_link_text|       meta_keywords|    meta_description|            headings|\n",
            "+--------------------+--------------------+--------------------+--------------------+--------------------+--------------------+--------------------+--------------------+--------------------+--------------------+--------------------+\n",
            "|Commercial Servic...|     bipelectric.com|bip dipietro elec...|                 ...|                null|                null|                null|                null|electricians vero...|                null|                    |\n",
            "| vero beach electric| commercial light...|         electrician| Indian River County|           Sebastian|          Ft Pierce\"|Providing quality...|                null|                null|                null| Sebastian  Ft Pi...|\n",
            "|          Healthcare|    eliasmedical.com|       elias medical|    site map | en...|                null|                null|                null|                null|                null|                null|                    |\n",
            "|661.663.0300   Fa...| Suite 203 Bakers...| CA 93311 | (phon...|                null|                null|                null|                null|                null|                null|                null|                    |\n",
            "|    (fax) 661.663...|Offering Bakersfi...|Welcome to ELIAS ...|                null|                null|                null|                null|                null|                null|                null|                    |\n",
            "|       661.663.0300\"|Get To Know Elias...|                null|Elias Medical bak...|For the best valu...|                null|                null|                null|                null|                null|For the best valu...|\n",
            "|Commercial Servic...|koopsoverheaddoor...|koops overhead doors|    Home  About U...|                null|Customer Reviews#...|                null|                null|Koops Overhead Do...|Koops Overhead Do...|Customer Reviews#...|\n",
            "|          Healthcare|     midtowneyes.com|     midtown eyecare|\"                ...| OK 74120 Phone: ...|                null|Welcome to our pr...|                null|                null|                null| OK 74120 Phone: ...|\n",
            "|Commercial Servic...| reprosecurity.co.uk|  repro security ltd|                S...|                null|Welcome to REPRO ...|                null|                null|                null|Repro Security pr...|Welcome to REPRO ...|\n",
            "|           Materials| woodgreentimber.com|wood green timber...|\"      Wood Green...|              London| and our Potters ...|      we have it all| in stock and rea...| however we are e...| and or milled to...| London  and our ...|\n",
            "|           Materials|     houstonchem.com|    houston chemical|\"              Ho...| BUILD A DOOR\"\"  ...|             Samples| Quotes or set up...| Chemicals and Pi...| we have clients ...| LLC.  All Rights...| BUILD A DOOR\"\"  ...|\n",
            "|          Healthcare|        imstartx.com|imstar therapeuti...|               HO...|Twitter#sep#Lead ...|Targeting Neurode...|TDP-43 INHIBITORS...|home,company,abou...|                null|                null|Twitter#sep#Lead ...|\n",
            "|Commercial Servic...|       pespisaco.com|pespisa company p...|              Hom...|Your local expert...|617-538-5377 • FR...|                null|                null|high efficiency b...|Plumbing, Heating...|Your local expert...|\n",
            "|           Materials|   metalprideinc.com|   metal pride, inc.|\"                ...| Chimney Pans and...|             Outlets|             Endcaps|    Square-to-Rounds|             Corners| etc.   Our exper...| Chimney Pans and...|\n",
            "|           Materials|   monarquesgold.com|monarques gold co...|ï +1 888-994-44...|Monarques Gold#se...|Fully integrated ...|MD&A#sep#Financia...|ï+1 888-994-446...|                null|Monarques Gold Co...|Monarques Gold#se...|\n",
            "|Commercial Servic...|traviselectricinc...|     travis electric|      Schedule On...|TRAVIS ELECTRIC, ...|Electrician Servi...|25 Years of Unpar...|home,commercial e...|                null|We are family own...|TRAVIS ELECTRIC, ...|\n",
            "|Commercial Servic...|            triox.ca|triox environment...|                 ...|LORSQUE L’EXPÉRIE...|Intervention d’ur...|                null|                null|                null|                null|LORSQUE L’EXPÉRIE...|\n",
            "|ET EXPERTISE#sep#...|                null|,en,à propos,nos ...|                null|TRIOX Urgences En...|                null|                null|                null|                null|                null|TRIOX Urgences En...|\n",
            "|Commercial Servic...|imperialcontracti...|imperial contract...|  Home About Us O...|​​#sep#Gallery#se...|2016 Parade of Ho...|Additions#sep#New...|                null|                null|new construction ...|​​#sep#Gallery#se...|\n",
            "|          Healthcare|            wink.net|wink eyecare bout...|\"                ...|            dry eyes|      blurred vision|           headaches| neck...   Read M...| 2020  Nation-wid...| with TV shows li...| dry eyes  blurre...|\n",
            "+--------------------+--------------------+--------------------+--------------------+--------------------+--------------------+--------------------+--------------------+--------------------+--------------------+--------------------+\n",
            "only showing top 20 rows\n",
            "\n"
          ]
        }
      ]
    },
    {
      "cell_type": "markdown",
      "source": [
        "drop h1 h2 h3"
      ],
      "metadata": {
        "id": "bayB1pQoUYBR"
      }
    },
    {
      "cell_type": "code",
      "source": [
        "cols = (\"h1\",\"h2\",\"h3\")\n",
        "new_df.drop(*cols).printSchema()\n",
        "new_df.drop(*cols).show()"
      ],
      "metadata": {
        "colab": {
          "base_uri": "https://localhost:8080/"
        },
        "id": "FYLY5JCbUZv1",
        "outputId": "5a591ea1-4941-4d00-c8da-e4b5b284674c"
      },
      "execution_count": 122,
      "outputs": [
        {
          "output_type": "stream",
          "name": "stdout",
          "text": [
            "root\n",
            " |-- Category: string (nullable = true)\n",
            " |-- website: string (nullable = true)\n",
            " |-- company_name: string (nullable = true)\n",
            " |-- homepage_text: string (nullable = true)\n",
            " |-- nav_link_text: string (nullable = true)\n",
            " |-- meta_keywords: string (nullable = true)\n",
            " |-- meta_description: string (nullable = true)\n",
            " |-- headings: string (nullable = false)\n",
            "\n",
            "+--------------------+--------------------+--------------------+--------------------+--------------------+--------------------+--------------------+--------------------+\n",
            "|            Category|             website|        company_name|       homepage_text|       nav_link_text|       meta_keywords|    meta_description|            headings|\n",
            "+--------------------+--------------------+--------------------+--------------------+--------------------+--------------------+--------------------+--------------------+\n",
            "|Commercial Servic...|     bipelectric.com|bip dipietro elec...|                 ...|                null|electricians vero...|                null|                    |\n",
            "| vero beach electric| commercial light...|         electrician| Indian River County|                null|                null|                null| Sebastian  Ft Pi...|\n",
            "|          Healthcare|    eliasmedical.com|       elias medical|    site map | en...|                null|                null|                null|                    |\n",
            "|661.663.0300   Fa...| Suite 203 Bakers...| CA 93311 | (phon...|                null|                null|                null|                null|                    |\n",
            "|    (fax) 661.663...|Offering Bakersfi...|Welcome to ELIAS ...|                null|                null|                null|                null|                    |\n",
            "|       661.663.0300\"|Get To Know Elias...|                null|Elias Medical bak...|                null|                null|                null|For the best valu...|\n",
            "|Commercial Servic...|koopsoverheaddoor...|koops overhead doors|    Home  About U...|                null|Koops Overhead Do...|Koops Overhead Do...|Customer Reviews#...|\n",
            "|          Healthcare|     midtowneyes.com|     midtown eyecare|\"                ...|                null|                null|                null| OK 74120 Phone: ...|\n",
            "|Commercial Servic...| reprosecurity.co.uk|  repro security ltd|                S...|                null|                null|Repro Security pr...|Welcome to REPRO ...|\n",
            "|           Materials| woodgreentimber.com|wood green timber...|\"      Wood Green...| in stock and rea...| however we are e...| and or milled to...| London  and our ...|\n",
            "|           Materials|     houstonchem.com|    houston chemical|\"              Ho...| Chemicals and Pi...| we have clients ...| LLC.  All Rights...| BUILD A DOOR\"\"  ...|\n",
            "|          Healthcare|        imstartx.com|imstar therapeuti...|               HO...|home,company,abou...|                null|                null|Twitter#sep#Lead ...|\n",
            "|Commercial Servic...|       pespisaco.com|pespisa company p...|              Hom...|                null|high efficiency b...|Plumbing, Heating...|Your local expert...|\n",
            "|           Materials|   metalprideinc.com|   metal pride, inc.|\"                ...|    Square-to-Rounds|             Corners| etc.   Our exper...| Chimney Pans and...|\n",
            "|           Materials|   monarquesgold.com|monarques gold co...|ï +1 888-994-44...|ï+1 888-994-446...|                null|Monarques Gold Co...|Monarques Gold#se...|\n",
            "|Commercial Servic...|traviselectricinc...|     travis electric|      Schedule On...|home,commercial e...|                null|We are family own...|TRAVIS ELECTRIC, ...|\n",
            "|Commercial Servic...|            triox.ca|triox environment...|                 ...|                null|                null|                null|LORSQUE L’EXPÉRIE...|\n",
            "|ET EXPERTISE#sep#...|                null|,en,à propos,nos ...|                null|                null|                null|                null|TRIOX Urgences En...|\n",
            "|Commercial Servic...|imperialcontracti...|imperial contract...|  Home About Us O...|                null|                null|new construction ...|​​#sep#Gallery#se...|\n",
            "|          Healthcare|            wink.net|wink eyecare bout...|\"                ...| neck...   Read M...| 2020  Nation-wid...| with TV shows li...| dry eyes  blurre...|\n",
            "+--------------------+--------------------+--------------------+--------------------+--------------------+--------------------+--------------------+--------------------+\n",
            "only showing top 20 rows\n",
            "\n"
          ]
        }
      ]
    }
  ]
}