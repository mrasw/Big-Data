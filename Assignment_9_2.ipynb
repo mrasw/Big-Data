{
  "cells": [
    {
      "cell_type": "markdown",
      "metadata": {
        "id": "view-in-github",
        "colab_type": "text"
      },
      "source": [
        "<a href=\"https://colab.research.google.com/github/mrasw/Big-Data/blob/main/Assignment_9_2.ipynb\" target=\"_parent\"><img src=\"https://colab.research.google.com/assets/colab-badge.svg\" alt=\"Open In Colab\"/></a>"
      ]
    },
    {
      "cell_type": "code",
      "execution_count": 2,
      "metadata": {
        "colab": {
          "base_uri": "https://localhost:8080/"
        },
        "id": "qkDYg7E0DysL",
        "outputId": "4adba828-77cf-4ed8-c83e-97fc4c75ba64"
      },
      "outputs": [
        {
          "output_type": "stream",
          "name": "stdout",
          "text": [
            "Drive already mounted at /content/gdrive; to attempt to forcibly remount, call drive.mount(\"/content/gdrive\", force_remount=True).\n"
          ]
        }
      ],
      "source": [
        "from google.colab import drive\n",
        "drive.mount('/content/gdrive')"
      ]
    },
    {
      "cell_type": "code",
      "execution_count": 3,
      "metadata": {
        "id": "rITSqqo7_FQm"
      },
      "outputs": [],
      "source": [
        "!apt-get install openjdk-8-jdk-headless -qq > /dev/null\n",
        "!wget -q http://archive.apache.org/dist/spark/spark-3.3.0/spark-3.3.0-bin-hadoop2.tgz   \n",
        "!tar xf spark-3.3.0-bin-hadoop2.tgz   \n",
        "!pip install -q findspark"
      ]
    },
    {
      "cell_type": "code",
      "execution_count": 4,
      "metadata": {
        "colab": {
          "base_uri": "https://localhost:8080/"
        },
        "id": "2lu48eAz_Jd3",
        "outputId": "c0f42469-bb35-4b0d-98b5-42091c884174"
      },
      "outputs": [
        {
          "output_type": "stream",
          "name": "stdout",
          "text": [
            "declare -x SPARK_HOME=\"/content/spark-3.3.0-bin-hadoop2\"\n"
          ]
        }
      ],
      "source": [
        "import os\n",
        "os.environ[\"JAVA_HOME\"] = \"/usr/lib/jvm/java-8-openjdk-amd64\"\n",
        "os.environ[\"SPARK_HOME\"] = \"/content/spark-3.3.0-bin-hadoop2\"\n",
        "\n",
        "!export  | grep SPARK_HOME"
      ]
    },
    {
      "cell_type": "code",
      "execution_count": 5,
      "metadata": {
        "colab": {
          "base_uri": "https://localhost:8080/"
        },
        "id": "PnORjWxN_Lxp",
        "outputId": "2028202c-7c0d-4622-dceb-a019adf299bb"
      },
      "outputs": [
        {
          "output_type": "stream",
          "name": "stdout",
          "text": [
            "Looking in indexes: https://pypi.org/simple, https://us-python.pkg.dev/colab-wheels/public/simple/\n",
            "Collecting pyspark\n",
            "  Downloading pyspark-3.3.2.tar.gz (281.4 MB)\n",
            "\u001b[2K     \u001b[90m━━━━━━━━━━━━━━━━━━━━━━━━━━━━━━━━━━━━━━━\u001b[0m \u001b[32m281.4/281.4 MB\u001b[0m \u001b[31m4.5 MB/s\u001b[0m eta \u001b[36m0:00:00\u001b[0m\n",
            "\u001b[?25h  Preparing metadata (setup.py) ... \u001b[?25l\u001b[?25hdone\n",
            "Collecting py4j==0.10.9.5\n",
            "  Downloading py4j-0.10.9.5-py2.py3-none-any.whl (199 kB)\n",
            "\u001b[2K     \u001b[90m━━━━━━━━━━━━━━━━━━━━━━━━━━━━━━━━━━━━━━\u001b[0m \u001b[32m199.7/199.7 KB\u001b[0m \u001b[31m18.1 MB/s\u001b[0m eta \u001b[36m0:00:00\u001b[0m\n",
            "\u001b[?25hBuilding wheels for collected packages: pyspark\n",
            "  Building wheel for pyspark (setup.py) ... \u001b[?25l\u001b[?25hdone\n",
            "  Created wheel for pyspark: filename=pyspark-3.3.2-py2.py3-none-any.whl size=281824028 sha256=e36ee5583c2647595cf118da28191f03d8a7ad7c50d74ecf06b33240dcbcd06f\n",
            "  Stored in directory: /root/.cache/pip/wheels/6c/e3/9b/0525ce8a69478916513509d43693511463c6468db0de237c86\n",
            "Successfully built pyspark\n",
            "Installing collected packages: py4j, pyspark\n",
            "  Attempting uninstall: py4j\n",
            "    Found existing installation: py4j 0.10.9.7\n",
            "    Uninstalling py4j-0.10.9.7:\n",
            "      Successfully uninstalled py4j-0.10.9.7\n",
            "Successfully installed py4j-0.10.9.5 pyspark-3.3.2\n"
          ]
        }
      ],
      "source": [
        "!pip install -U --upgrade pyspark"
      ]
    },
    {
      "cell_type": "code",
      "execution_count": 6,
      "metadata": {
        "colab": {
          "base_uri": "https://localhost:8080/"
        },
        "id": "NRgBb6jm_Oel",
        "outputId": "97ea517e-e10f-41cf-8f3a-c2b6826c89da"
      },
      "outputs": [
        {
          "output_type": "stream",
          "name": "stdout",
          "text": [
            "3.3.2\n",
            "declare -x SPARK_HOME=\"/content/spark-3.3.0-bin-hadoop2\"\n"
          ]
        }
      ],
      "source": [
        "import pyspark\n",
        "\n",
        "print(pyspark.__version__)\n",
        "\n",
        "!export  | grep SPARK_HOME"
      ]
    },
    {
      "cell_type": "code",
      "execution_count": 7,
      "metadata": {
        "colab": {
          "base_uri": "https://localhost:8080/",
          "height": 219
        },
        "id": "2rCrHzAC_U5J",
        "outputId": "d826883e-c0a8-4a19-d275-b6b11567d453"
      },
      "outputs": [
        {
          "output_type": "execute_result",
          "data": {
            "text/plain": [
              "<pyspark.sql.session.SparkSession at 0x7f7cbbdefaf0>"
            ],
            "text/html": [
              "\n",
              "            <div>\n",
              "                <p><b>SparkSession - in-memory</b></p>\n",
              "                \n",
              "        <div>\n",
              "            <p><b>SparkContext</b></p>\n",
              "\n",
              "            <p><a href=\"http://1f176c393424:4040\">Spark UI</a></p>\n",
              "\n",
              "            <dl>\n",
              "              <dt>Version</dt>\n",
              "                <dd><code>v3.3.0</code></dd>\n",
              "              <dt>Master</dt>\n",
              "                <dd><code>local[*]</code></dd>\n",
              "              <dt>AppName</dt>\n",
              "                <dd><code>pyspark-shell</code></dd>\n",
              "            </dl>\n",
              "        </div>\n",
              "        \n",
              "            </div>\n",
              "        "
            ]
          },
          "metadata": {},
          "execution_count": 7
        }
      ],
      "source": [
        "import findspark\n",
        "findspark.init()\n",
        "\n",
        "from pyspark.sql import SparkSession\n",
        "\n",
        "spark = SparkSession.builder.master(\"local[*]\").getOrCreate()\n",
        "spark.conf.set(\"spark.sql.repl.eagerEval.enabled\", True) # Property used to format output tables better\n",
        "spark\n"
      ]
    },
    {
      "cell_type": "code",
      "execution_count": 8,
      "metadata": {
        "id": "aAnKRm9VCtGG"
      },
      "outputs": [],
      "source": [
        "complete_dataset_url = 'http://files.grouplens.org/datasets/movielens/ml-latest.zip'\n",
        "small_dataset_url = 'http://files.grouplens.org/datasets/movielens/ml-latest-small.zip'"
      ]
    },
    {
      "cell_type": "code",
      "execution_count": 9,
      "metadata": {
        "colab": {
          "base_uri": "https://localhost:8080/"
        },
        "id": "LCrS-DlZC0pZ",
        "outputId": "cec73a14-58af-47ce-948d-fa04a386373d"
      },
      "outputs": [
        {
          "output_type": "stream",
          "name": "stdout",
          "text": [
            "/content/gdrive/MyDrive/datasets\n"
          ]
        }
      ],
      "source": [
        "import os\n",
        "\n",
        "datasets_path = os.path.join('/content/gdrive/MyDrive', 'datasets')\n",
        "\n",
        "complete_dataset_path = os.path.join(datasets_path, 'ml-latest.zip')\n",
        "small_dataset_path = os.path.join(datasets_path, 'ml-latest-small.zip')\n",
        "\n",
        "print(datasets_path)"
      ]
    },
    {
      "cell_type": "code",
      "execution_count": 10,
      "metadata": {
        "colab": {
          "base_uri": "https://localhost:8080/"
        },
        "id": "bxUHYRKZETHg",
        "outputId": "69a19450-78f5-4f06-f843-feef14e9e53f"
      },
      "outputs": [
        {
          "output_type": "stream",
          "name": "stdout",
          "text": [
            " \u001b[0m\u001b[01;34mml-latest\u001b[0m/        'ml-latest-small (1).zip'   ml-latest.zip\n",
            " \u001b[01;34mml-latest-small\u001b[0m/   ml-latest-small.zip\n"
          ]
        }
      ],
      "source": [
        "%ls /content/gdrive/MyDrive/datasets"
      ]
    },
    {
      "cell_type": "code",
      "execution_count": 11,
      "metadata": {
        "id": "UJMWTk0uC4_b"
      },
      "outputs": [],
      "source": [
        "import urllib.request\n",
        "\n",
        "import zipfile\n",
        "\n",
        "\n",
        "small_f = urllib.request.urlretrieve (small_dataset_url, small_dataset_path)\n",
        "complete_f = urllib.request.urlretrieve (complete_dataset_url, complete_dataset_path)"
      ]
    },
    {
      "cell_type": "code",
      "execution_count": 12,
      "metadata": {
        "id": "q3csTeZP8p-A"
      },
      "outputs": [],
      "source": [
        "\n",
        "with zipfile.ZipFile(small_dataset_path, \"r\") as z:\n",
        "    z.extractall(datasets_path)\n",
        "\n",
        "with zipfile.ZipFile(complete_dataset_path, \"r\") as z:\n",
        "    z.extractall(datasets_path)"
      ]
    },
    {
      "cell_type": "code",
      "execution_count": 13,
      "metadata": {
        "id": "C6Z6B1qiDI22"
      },
      "outputs": [],
      "source": [
        "from pyspark import SparkConf\n",
        "from pyspark.context import SparkContext\n",
        "\n",
        "sc = SparkContext.getOrCreate(SparkConf().setMaster(\"local[*]\"))\n",
        "\n",
        "small_ratings_file = os.path.join(datasets_path, 'ml-latest-small', 'ratings.csv')\n",
        "\n",
        "small_ratings_raw_data = sc.textFile(small_ratings_file)\n",
        "small_ratings_raw_data_header = small_ratings_raw_data.take(1)[0]"
      ]
    },
    {
      "cell_type": "code",
      "execution_count": 14,
      "metadata": {
        "id": "Yp7IddAx-Ydw"
      },
      "outputs": [],
      "source": [
        "small_ratings_data = small_ratings_raw_data.filter(lambda line: line!=small_ratings_raw_data_header)\\\n",
        "    .map(lambda line: line.split(\",\")).map(lambda tokens: (tokens[0],tokens[1],tokens[2])).cache()"
      ]
    },
    {
      "cell_type": "code",
      "execution_count": 15,
      "metadata": {
        "colab": {
          "base_uri": "https://localhost:8080/"
        },
        "id": "crPy9xUd_l-L",
        "outputId": "da16ceea-8ee2-498b-f8bd-d6dc3378c910"
      },
      "outputs": [
        {
          "output_type": "execute_result",
          "data": {
            "text/plain": [
              "[('1', '1', '4.0'), ('1', '3', '4.0'), ('1', '6', '4.0')]"
            ]
          },
          "metadata": {},
          "execution_count": 15
        }
      ],
      "source": [
        "small_ratings_data.take(3)"
      ]
    },
    {
      "cell_type": "code",
      "execution_count": 16,
      "metadata": {
        "colab": {
          "base_uri": "https://localhost:8080/"
        },
        "id": "yeKdNyvVDJuR",
        "outputId": "13db4ebe-541a-4bc2-9727-f8ff1919dd51"
      },
      "outputs": [
        {
          "output_type": "execute_result",
          "data": {
            "text/plain": [
              "[('1', 'Toy Story (1995)'),\n",
              " ('2', 'Jumanji (1995)'),\n",
              " ('3', 'Grumpier Old Men (1995)')]"
            ]
          },
          "metadata": {},
          "execution_count": 16
        }
      ],
      "source": [
        "small_movies_file = os.path.join(datasets_path, 'ml-latest-small', 'movies.csv')\n",
        "\n",
        "small_movies_raw_data = sc.textFile(small_movies_file)\n",
        "small_movies_raw_data_header = small_movies_raw_data.take(1)[0]\n",
        "\n",
        "small_movies_data = small_movies_raw_data.filter(lambda line: line!=small_movies_raw_data_header)\\\n",
        "    .map(lambda line: line.split(\",\")).map(lambda tokens: (tokens[0],tokens[1])).cache()\n",
        "    \n",
        "small_movies_data.take(3)"
      ]
    },
    {
      "cell_type": "code",
      "execution_count": 17,
      "metadata": {
        "id": "0wfwnW6nDOms"
      },
      "outputs": [],
      "source": [
        "training_RDD, validation_RDD, test_RDD = small_ratings_data.randomSplit([6, 2, 2], seed=0)\n",
        "validation_for_predict_RDD = validation_RDD.map(lambda x: (x[0], x[1]))\n",
        "test_for_predict_RDD = test_RDD.map(lambda x: (x[0], x[1]))"
      ]
    },
    {
      "cell_type": "code",
      "execution_count": 18,
      "metadata": {
        "colab": {
          "base_uri": "https://localhost:8080/"
        },
        "id": "gIlKXTtFDPSh",
        "outputId": "82a944e6-a880-4087-e062-032340fff95d"
      },
      "outputs": [
        {
          "output_type": "stream",
          "name": "stdout",
          "text": [
            "For rank 4 the RMSE is 0.9121002117526161\n",
            "For rank 8 the RMSE is 0.9184327220254898\n",
            "For rank 12 the RMSE is 0.9160151516811809\n",
            "The best model was trained with rank 4\n"
          ]
        }
      ],
      "source": [
        "from pyspark.mllib.recommendation import ALS\n",
        "import math\n",
        "\n",
        "seed = 5\n",
        "iterations = 10\n",
        "regularization_parameter = 0.1\n",
        "ranks = [4, 8, 12]\n",
        "errors = [0, 0, 0]\n",
        "err = 0\n",
        "tolerance = 0.02\n",
        "\n",
        "min_error = float('inf')\n",
        "best_rank = -1\n",
        "best_iteration = -1\n",
        "for rank in ranks:\n",
        "    model = ALS.train(training_RDD, rank, seed=seed, iterations=iterations,\n",
        "                      lambda_=regularization_parameter)\n",
        "    predictions = model.predictAll(validation_for_predict_RDD).map(lambda r: ((r[0], r[1]), r[2]))\n",
        "    rates_and_preds = validation_RDD.map(lambda r: ((int(r[0]), int(r[1])), float(r[2]))).join(predictions)\n",
        "    error = math.sqrt(rates_and_preds.map(lambda r: (r[1][0] - r[1][1])**2).mean())\n",
        "    errors[err] = error\n",
        "    err += 1\n",
        "    print ('For rank %s the RMSE is %s' % (rank, error))\n",
        "    if error < min_error:\n",
        "        min_error = error\n",
        "        best_rank = rank\n",
        "\n",
        "print ('The best model was trained with rank %s' % best_rank)"
      ]
    },
    {
      "cell_type": "code",
      "execution_count": 19,
      "metadata": {
        "colab": {
          "base_uri": "https://localhost:8080/"
        },
        "id": "VEkm-xvpDnmY",
        "outputId": "f2f4bb48-34c3-4128-a5f1-91fc14697a69"
      },
      "outputs": [
        {
          "output_type": "execute_result",
          "data": {
            "text/plain": [
              "[((372, 1084), 3.606783399602516),\n",
              " ((4, 1084), 3.653744319073106),\n",
              " ((402, 1084), 3.546900490300054)]"
            ]
          },
          "metadata": {},
          "execution_count": 19
        }
      ],
      "source": [
        "predictions.take(3)"
      ]
    },
    {
      "cell_type": "code",
      "execution_count": 20,
      "metadata": {
        "colab": {
          "base_uri": "https://localhost:8080/"
        },
        "id": "KJVPBf6zD3oU",
        "outputId": "c6956b69-7996-42e0-c1a6-fe43f518d1af"
      },
      "outputs": [
        {
          "output_type": "execute_result",
          "data": {
            "text/plain": [
              "[((1, 457), (5.0, 4.478201219312587)),\n",
              " ((1, 1025), (5.0, 4.508338614203195)),\n",
              " ((1, 1089), (5.0, 4.9271083086686005))]"
            ]
          },
          "metadata": {},
          "execution_count": 20
        }
      ],
      "source": [
        "rates_and_preds.take(3)"
      ]
    },
    {
      "cell_type": "code",
      "execution_count": 21,
      "metadata": {
        "colab": {
          "base_uri": "https://localhost:8080/"
        },
        "id": "hqKMJrXRD8il",
        "outputId": "7d518124-a65d-46ac-92f4-5ff373dbb5fb"
      },
      "outputs": [
        {
          "output_type": "stream",
          "name": "stdout",
          "text": [
            "For testing data the RMSE is 0.912132604158584\n"
          ]
        }
      ],
      "source": [
        "model = ALS.train(training_RDD, best_rank, seed=seed, iterations=iterations,\n",
        "                      lambda_=regularization_parameter)\n",
        "predictions = model.predictAll(test_for_predict_RDD).map(lambda r: ((r[0], r[1]), r[2]))\n",
        "rates_and_preds = test_RDD.map(lambda r: ((int(r[0]), int(r[1])), float(r[2]))).join(predictions)\n",
        "error = math.sqrt(rates_and_preds.map(lambda r: (r[1][0] - r[1][1])**2).mean())\n",
        "    \n",
        "print ('For testing data the RMSE is %s' % (error))"
      ]
    },
    {
      "cell_type": "code",
      "execution_count": 22,
      "metadata": {
        "colab": {
          "base_uri": "https://localhost:8080/"
        },
        "id": "ebV2tBAdEAPm",
        "outputId": "1ffa46b0-0c30-465b-e266-02f02290936a"
      },
      "outputs": [
        {
          "output_type": "stream",
          "name": "stdout",
          "text": [
            "There are 27753444 recommendations in the complete dataset\n"
          ]
        }
      ],
      "source": [
        "# Load the complete dataset file\n",
        "complete_ratings_file = os.path.join(datasets_path, 'ml-latest', 'ratings.csv')\n",
        "complete_ratings_raw_data = sc.textFile(complete_ratings_file)\n",
        "complete_ratings_raw_data_header = complete_ratings_raw_data.take(1)[0]\n",
        "\n",
        "# Parse\n",
        "complete_ratings_data = complete_ratings_raw_data.filter(lambda line: line!=complete_ratings_raw_data_header)\\\n",
        "    .map(lambda line: line.split(\",\")).map(lambda tokens: (int(tokens[0]),int(tokens[1]),float(tokens[2]))).cache()\n",
        "    \n",
        "print (\"There are %s recommendations in the complete dataset\" % (complete_ratings_data.count()))"
      ]
    },
    {
      "cell_type": "code",
      "execution_count": 23,
      "metadata": {
        "id": "7EYAZYLhEHjP"
      },
      "outputs": [],
      "source": [
        "training_RDD, test_RDD = complete_ratings_data.randomSplit([7, 3], seed=0)\n",
        "\n",
        "complete_model = ALS.train(training_RDD, best_rank, seed=seed, \n",
        "                           iterations=iterations, lambda_=regularization_parameter)"
      ]
    },
    {
      "cell_type": "code",
      "execution_count": 24,
      "metadata": {
        "colab": {
          "base_uri": "https://localhost:8080/"
        },
        "id": "8rTRs180ELlN",
        "outputId": "9b193dab-13ad-4b2e-e1ac-64921a9b5cb8"
      },
      "outputs": [
        {
          "output_type": "stream",
          "name": "stdout",
          "text": [
            "For testing data the RMSE is 0.8334782407175128\n"
          ]
        }
      ],
      "source": [
        "test_for_predict_RDD = test_RDD.map(lambda x: (x[0], x[1]))\n",
        "\n",
        "predictions = complete_model.predictAll(test_for_predict_RDD).map(lambda r: ((r[0], r[1]), r[2]))\n",
        "rates_and_preds = test_RDD.map(lambda r: ((int(r[0]), int(r[1])), float(r[2]))).join(predictions)\n",
        "error = math.sqrt(rates_and_preds.map(lambda r: (r[1][0] - r[1][1])**2).mean())\n",
        "    \n",
        "print ('For testing data the RMSE is %s' % (error))"
      ]
    },
    {
      "cell_type": "code",
      "execution_count": 25,
      "metadata": {
        "colab": {
          "base_uri": "https://localhost:8080/"
        },
        "id": "mI8KaeD_ERL0",
        "outputId": "1084f2d4-38e6-4815-a8ad-f2f76a944532"
      },
      "outputs": [
        {
          "output_type": "stream",
          "name": "stdout",
          "text": [
            "There are 58098 movies in the complete dataset\n"
          ]
        }
      ],
      "source": [
        "complete_movies_file = os.path.join(datasets_path, 'ml-latest', 'movies.csv')\n",
        "complete_movies_raw_data = sc.textFile(complete_movies_file)\n",
        "complete_movies_raw_data_header = complete_movies_raw_data.take(1)[0]\n",
        "\n",
        "# Parse\n",
        "complete_movies_data = complete_movies_raw_data.filter(lambda line: line!=complete_movies_raw_data_header)\\\n",
        "    .map(lambda line: line.split(\",\")).map(lambda tokens: (int(tokens[0]),tokens[1],tokens[2])).cache()\n",
        "\n",
        "complete_movies_titles = complete_movies_data.map(lambda x: (int(x[0]),x[1]))\n",
        "    \n",
        "print (\"There are %s movies in the complete dataset\" % (complete_movies_titles.count()))"
      ]
    },
    {
      "cell_type": "code",
      "execution_count": 26,
      "metadata": {
        "id": "DG6tmGBAEXbD"
      },
      "outputs": [],
      "source": [
        "def get_counts_and_averages(ID_and_ratings_tuple):\n",
        "    nratings = len(ID_and_ratings_tuple[1])\n",
        "    return ID_and_ratings_tuple[0], (nratings, float(sum(x for x in ID_and_ratings_tuple[1]))/nratings)\n",
        "\n",
        "movie_ID_with_ratings_RDD = (complete_ratings_data.map(lambda x: (x[1], x[2])).groupByKey())\n",
        "movie_ID_with_avg_ratings_RDD = movie_ID_with_ratings_RDD.map(get_counts_and_averages)\n",
        "movie_rating_counts_RDD = movie_ID_with_avg_ratings_RDD.map(lambda x: (x[0], x[1][0]))"
      ]
    },
    {
      "cell_type": "markdown",
      "source": [
        "# New User Ratings"
      ],
      "metadata": {
        "id": "eSTNG2OOeILh"
      }
    },
    {
      "cell_type": "code",
      "execution_count": 27,
      "metadata": {
        "colab": {
          "base_uri": "https://localhost:8080/"
        },
        "id": "TpaB1ayoEksj",
        "outputId": "d62d9ddd-dd5a-4e50-8e18-9bda7f4c2827"
      },
      "outputs": [
        {
          "output_type": "stream",
          "name": "stdout",
          "text": [
            "New user ratings: [(0, 260, 9), (0, 1, 8), (0, 16, 7), (0, 25, 8), (0, 32, 9), (0, 335, 4), (0, 379, 3), (0, 296, 7), (0, 858, 10), (0, 50, 8)]\n"
          ]
        }
      ],
      "source": [
        "new_user_ID = 0\n",
        "\n",
        "# The format of each line is (userID, movieID, rating)\n",
        "new_user_ratings = [\n",
        "     (0,260,9), # Star Wars (1977)\n",
        "     (0,1,8), # Toy Story (1995)\n",
        "     (0,16,7), # Casino (1995)\n",
        "     (0,25,8), # Leaving Las Vegas (1995)\n",
        "     (0,32,9), # Twelve Monkeys (a.k.a. 12 Monkeys) (1995)\n",
        "     (0,335,4), # Flintstones, The (1994)\n",
        "     (0,379,3), # Timecop (1994)\n",
        "     (0,296,7), # Pulp Fiction (1994)\n",
        "     (0,858,10) , # Godfather, The (1972)\n",
        "     (0,50,8) # Usual Suspects, The (1995)\n",
        "    ]\n",
        "new_user_ratings_RDD = sc.parallelize(new_user_ratings)\n",
        "print ('New user ratings: %s' % new_user_ratings_RDD.take(10))"
      ]
    },
    {
      "cell_type": "code",
      "execution_count": 28,
      "metadata": {
        "id": "YgWtgqCSEoXa"
      },
      "outputs": [],
      "source": [
        "complete_data_with_new_ratings_RDD = complete_ratings_data.union(new_user_ratings_RDD)"
      ]
    },
    {
      "cell_type": "code",
      "execution_count": 29,
      "metadata": {
        "id": "xJB5lYzqErUv",
        "colab": {
          "base_uri": "https://localhost:8080/"
        },
        "outputId": "02a52dc7-d3a7-4dc0-d451-fe9f1d07eb62"
      },
      "outputs": [
        {
          "output_type": "stream",
          "name": "stdout",
          "text": [
            "New model trained in 581.954 seconds\n"
          ]
        }
      ],
      "source": [
        "from time import time\n",
        "\n",
        "t0 = time()\n",
        "new_ratings_model = ALS.train(complete_data_with_new_ratings_RDD, best_rank, seed=seed, \n",
        "                              iterations=iterations, lambda_=regularization_parameter)\n",
        "tt = time() - t0\n",
        "\n",
        "print (\"New model trained in %s seconds\" % round(tt,3))"
      ]
    },
    {
      "cell_type": "code",
      "execution_count": 30,
      "metadata": {
        "id": "4WILfkqbEvRI"
      },
      "outputs": [],
      "source": [
        "new_user_ratings_ids = map(lambda x: x[1], new_user_ratings) # get just movie IDs\n",
        "# keep just those not on the ID list (thanks Lei Li for spotting the error!)\n",
        "new_user_unrated_movies_RDD = (complete_movies_data.filter(lambda x: x[0] not in new_user_ratings_ids).map(lambda x: (new_user_ID, x[0])))\n",
        "\n",
        "# Use the input RDD, new_user_unrated_movies_RDD, with new_ratings_model.predictAll() to predict new ratings for the movies\n",
        "new_user_recommendations_RDD = new_ratings_model.predictAll(new_user_unrated_movies_RDD)"
      ]
    },
    {
      "cell_type": "code",
      "execution_count": 31,
      "metadata": {
        "id": "dGKTwpsgEyKK",
        "colab": {
          "base_uri": "https://localhost:8080/"
        },
        "outputId": "b1c7d868-0ef4-4bd9-8aa2-b6501b6ccce8"
      },
      "outputs": [
        {
          "output_type": "execute_result",
          "data": {
            "text/plain": [
              "[(6216,\n",
              "  ((7.173385330780416, 'Nowhere in Africa (Nirgendwo in Afrika) (2001)'),\n",
              "   717)),\n",
              " (124320, ((7.359570288136358, 'Once a Thief (1965)'), 1)),\n",
              " (83916, ((6.125867065697319, 'Blues in the Night (1941)'), 9))]"
            ]
          },
          "metadata": {},
          "execution_count": 31
        }
      ],
      "source": [
        "# Transform new_user_recommendations_RDD into pairs of the form (Movie ID, Predicted Rating)\n",
        "new_user_recommendations_rating_RDD = new_user_recommendations_RDD.map(lambda x: (x.product, x.rating))\n",
        "new_user_recommendations_rating_title_and_count_RDD = \\\n",
        "    new_user_recommendations_rating_RDD.join(complete_movies_titles).join(movie_rating_counts_RDD)\n",
        "new_user_recommendations_rating_title_and_count_RDD.take(3)"
      ]
    },
    {
      "cell_type": "code",
      "execution_count": 32,
      "metadata": {
        "id": "fOL28pLTE0yr"
      },
      "outputs": [],
      "source": [
        "new_user_recommendations_rating_title_and_count_RDD = \\\n",
        "    new_user_recommendations_rating_title_and_count_RDD.map(lambda r: (r[1][0][1], r[1][0][0], r[1][1]))"
      ]
    },
    {
      "cell_type": "code",
      "execution_count": 33,
      "metadata": {
        "id": "tlvUO1nnE5RV",
        "colab": {
          "base_uri": "https://localhost:8080/"
        },
        "outputId": "0438f34f-4096-4575-f803-13f8650ecf41"
      },
      "outputs": [
        {
          "output_type": "stream",
          "name": "stdout",
          "text": [
            "TOP recommended movies (with more than 25 reviews):\n",
            "('Rabbit of Seville (1950)', 8.602833252855959, 30)\n",
            "(\"Jim Henson's The Storyteller (1989)\", 8.544291307524375, 36)\n",
            "('\"Godfather', 8.526288771636047, 60904)\n",
            "('Cosmos', 8.524673058903474, 157)\n",
            "('Death on the Staircase (Soupçons) (2004)', 8.521655972159827, 130)\n",
            "('Music for One Apartment and Six Drummers (2001)', 8.50282131914495, 31)\n",
            "('\"Human Condition III', 8.495126990197761, 91)\n",
            "('Harakiri (Seppuku) (1962)', 8.494578592460044, 679)\n",
            "('\"I', 8.424359849383443, 85)\n",
            "('Planet Earth (2006)', 8.424323161050566, 1384)\n",
            "('Seven Samurai (Shichinin no samurai) (1954)', 8.400267191214681, 14578)\n",
            "('Planet Earth II (2016)', 8.398935346868512, 853)\n",
            "('Elway To Marino (2013)', 8.391345064989846, 25)\n",
            "('\"Last Lions', 8.391119016112746, 38)\n",
            "('Baseball (1994)', 8.390721256104534, 42)\n",
            "('Dr. Strangelove or: How I Learned to Stop Worrying and Love the Bomb (1964)', 8.388162195683861, 29484)\n",
            "('\"Godfather: Part II', 8.37539843269385, 38875)\n",
            "('The Godfather Trilogy: 1972-1990 (1992)', 8.369905476683499, 421)\n",
            "('Rabbit Fire (1951)', 8.368751282253093, 46)\n",
            "('\"Century of the Self', 8.364476044201034, 213)\n",
            "('Wow! A Talking Fish! (1983)', 8.362406231458763, 47)\n",
            "('Queen: Days of Our Lives (2011)', 8.3488451648645, 32)\n",
            "('The War (2007)', 8.348177923108345, 53)\n",
            "('\"Third Man', 8.34750542710406, 7980)\n",
            "('Paths of Glory (1957)', 8.347163234572847, 4508)\n"
          ]
        }
      ],
      "source": [
        "top_movies = new_user_recommendations_rating_title_and_count_RDD.filter(lambda r: r[2]>=25).takeOrdered(25, key=lambda x: -x[1])\n",
        "\n",
        "print ('TOP recommended movies (with more than 25 reviews):\\n%s' %\n",
        "        '\\n'.join(map(str, top_movies)))"
      ]
    },
    {
      "cell_type": "code",
      "execution_count": 34,
      "metadata": {
        "id": "o34u1lpQE9Nx",
        "colab": {
          "base_uri": "https://localhost:8080/"
        },
        "outputId": "7950d82c-155a-41b5-c9a6-bdf277b490ab"
      },
      "outputs": [
        {
          "output_type": "execute_result",
          "data": {
            "text/plain": [
              "[Rating(user=0, product=116688, rating=2.070225501546683)]"
            ]
          },
          "metadata": {},
          "execution_count": 34
        }
      ],
      "source": [
        "my_movie = sc.parallelize([(0, 500)]) # Quiz Show (1994)\n",
        "individual_movie_rating_RDD = new_ratings_model.predictAll(new_user_unrated_movies_RDD)\n",
        "individual_movie_rating_RDD.take(1)"
      ]
    },
    {
      "cell_type": "code",
      "execution_count": 35,
      "metadata": {
        "id": "40rAZ1CaFBrx"
      },
      "outputs": [],
      "source": [
        "from pyspark.mllib.recommendation import MatrixFactorizationModel\n",
        "\n",
        "model_path = os.path.join('..', 'models', 'movie_lens_als')\n",
        "\n",
        "# Save and load model\n",
        "model.save(sc, model_path)\n",
        "same_model = MatrixFactorizationModel.load(sc, model_path)"
      ]
    },
    {
      "cell_type": "markdown",
      "source": [
        "## New User Ratings with inner loop 5 value iterations"
      ],
      "metadata": {
        "id": "lNBQHxGOePlC"
      }
    },
    {
      "cell_type": "code",
      "execution_count": 79,
      "metadata": {
        "colab": {
          "base_uri": "https://localhost:8080/"
        },
        "outputId": "c897d311-14b5-4239-a500-818f35a7ff96",
        "id": "JN8W3X2NexHT"
      },
      "outputs": [
        {
          "output_type": "stream",
          "name": "stdout",
          "text": [
            "New user ratings: [(0, 260, 9), (0, 1, 8), (0, 16, 7), (0, 25, 8), (0, 32, 9), (0, 335, 4), (0, 379, 3), (0, 296, 7), (0, 858, 10), (0, 50, 8)]\n"
          ]
        }
      ],
      "source": [
        "new_user_ID = 0\n",
        "\n",
        "# The format of each line is (userID, movieID, rating)\n",
        "new_user_ratings = [\n",
        "     (0,260,9), # Star Wars (1977)\n",
        "     (0,1,8), # Toy Story (1995)\n",
        "     (0,16,7), # Casino (1995)\n",
        "     (0,25,8), # Leaving Las Vegas (1995)\n",
        "     (0,32,9), # Twelve Monkeys (a.k.a. 12 Monkeys) (1995)\n",
        "     (0,335,4), # Flintstones, The (1994)\n",
        "     (0,379,3), # Timecop (1994)\n",
        "     (0,296,7), # Pulp Fiction (1994)\n",
        "     (0,858,10) , # Godfather, The (1972)\n",
        "     (0,50,8) # Usual Suspects, The (1995)\n",
        "    ]\n",
        "new_user_ratings_RDD = sc.parallelize(new_user_ratings)\n",
        "print ('New user ratings: %s' % new_user_ratings_RDD.take(10))"
      ]
    },
    {
      "cell_type": "code",
      "execution_count": 80,
      "metadata": {
        "id": "Kv813F7bexHU"
      },
      "outputs": [],
      "source": [
        "complete_data_with_new_ratings_RDD = complete_ratings_data.union(new_user_ratings_RDD)"
      ]
    },
    {
      "cell_type": "code",
      "execution_count": 81,
      "metadata": {
        "colab": {
          "base_uri": "https://localhost:8080/"
        },
        "outputId": "09601af1-3aad-4502-d297-53090dd8739b",
        "id": "Ios4rz_YexHU"
      },
      "outputs": [
        {
          "output_type": "stream",
          "name": "stdout",
          "text": [
            "New model trained in 509.981 seconds\n"
          ]
        }
      ],
      "source": [
        "from time import time\n",
        "\n",
        "t0 = time()\n",
        "new_ratings_model = ALS.train(complete_data_with_new_ratings_RDD, best_rank, seed=seed, \n",
        "                              iterations=5, lambda_=regularization_parameter)\n",
        "tt = time() - t0\n",
        "\n",
        "print (\"New model trained in %s seconds\" % round(tt,3))"
      ]
    },
    {
      "cell_type": "code",
      "execution_count": 82,
      "metadata": {
        "id": "amAPLbkPexHU"
      },
      "outputs": [],
      "source": [
        "new_user_ratings_ids = map(lambda x: x[1], new_user_ratings) # get just movie IDs\n",
        "# keep just those not on the ID list (thanks Lei Li for spotting the error!)\n",
        "new_user_unrated_movies_RDD = (complete_movies_data.filter(lambda x: x[0] not in new_user_ratings_ids).map(lambda x: (new_user_ID, x[0])))\n",
        "\n",
        "# Use the input RDD, new_user_unrated_movies_RDD, with new_ratings_model.predictAll() to predict new ratings for the movies\n",
        "new_user_recommendations_RDD = new_ratings_model.predictAll(new_user_unrated_movies_RDD)"
      ]
    },
    {
      "cell_type": "code",
      "execution_count": 83,
      "metadata": {
        "colab": {
          "base_uri": "https://localhost:8080/"
        },
        "outputId": "d7d96178-cd50-4f63-ac99-eb63bff56db6",
        "id": "nJoNtOOEefsG"
      },
      "outputs": [
        {
          "output_type": "execute_result",
          "data": {
            "text/plain": [
              "[(6216,\n",
              "  ((6.886731831494487, 'Nowhere in Africa (Nirgendwo in Afrika) (2001)'),\n",
              "   717)),\n",
              " (124320, ((5.8247634579473475, 'Once a Thief (1965)'), 1)),\n",
              " (83916, ((5.2469698268259375, 'Blues in the Night (1941)'), 9))]"
            ]
          },
          "metadata": {},
          "execution_count": 83
        }
      ],
      "source": [
        "# Transform new_user_recommendations_RDD into pairs of the form (Movie ID, Predicted Rating)\n",
        "new_user_recommendations_rating_RDD = new_user_recommendations_RDD.map(lambda x: (x.product, x.rating))\n",
        "new_user_recommendations_rating_title_and_count_RDD = \\\n",
        "    new_user_recommendations_rating_RDD.join(complete_movies_titles).join(movie_rating_counts_RDD)\n",
        "new_user_recommendations_rating_title_and_count_RDD.take(3)"
      ]
    },
    {
      "cell_type": "code",
      "execution_count": 84,
      "metadata": {
        "id": "zkXrlp6fefsH"
      },
      "outputs": [],
      "source": [
        "new_user_recommendations_rating_title_and_count_RDD = \\\n",
        "    new_user_recommendations_rating_title_and_count_RDD.map(lambda r: (r[1][0][1], r[1][0][0], r[1][1]))"
      ]
    },
    {
      "cell_type": "code",
      "execution_count": 85,
      "metadata": {
        "colab": {
          "base_uri": "https://localhost:8080/"
        },
        "outputId": "6740c633-1832-4c8b-af85-4ba31c3f408c",
        "id": "SmmmB6MpefsH"
      },
      "outputs": [
        {
          "output_type": "stream",
          "name": "stdout",
          "text": [
            "TOP recommended movies (with more than 25 reviews):\n",
            "('\"Godfather', 8.370960302473101, 60904)\n",
            "('Pulp Fiction (1994)', 8.307598004363278, 92406)\n",
            "('\"Usual Suspects', 8.257248327735049, 62180)\n",
            "('\"Godfather: Part II', 8.1974452874543, 38875)\n",
            "('\"Shawshank Redemption', 8.178548022938962, 97999)\n",
            "(\"One Flew Over the Cuckoo's Nest (1975)\", 8.137143219688703, 42181)\n",
            "('Dr. Strangelove or: How I Learned to Stop Worrying and Love the Bomb (1964)', 8.118725652563626, 29484)\n",
            "('Seven Samurai (Shichinin no samurai) (1954)', 8.09894943938663, 14578)\n",
            "('Fargo (1996)', 8.073146898107787, 54500)\n",
            "('Wallace & Gromit: The Wrong Trousers (1993)', 8.06489893153104, 17337)\n",
            "('Wallace & Gromit: A Close Shave (1995)', 8.04858644051005, 13866)\n",
            "(\"Schindler's List (1993)\", 8.040533594418571, 71516)\n",
            "('Casablanca (1942)', 8.018966866812924, 31095)\n",
            "('Rear Window (1954)', 8.000174294440754, 22264)\n",
            "('American Beauty (1999)', 7.9897126130799805, 60820)\n",
            "('Monty Python and the Holy Grail (1975)', 7.989406119975008, 40866)\n",
            "('\"Boot', 7.984868603687943, 15936)\n",
            "('Wallace & Gromit: The Best of Aardman Animation (1996)', 7.9784639473391366, 9674)\n",
            "('\"Silence of the Lambs', 7.978161496014263, 87899)\n",
            "('Taxi Driver (1976)', 7.972420732487016, 32885)\n",
            "('Goodfellas (1990)', 7.967295944427271, 35934)\n",
            "('When We Were Kings (1996)', 7.957278780842458, 4084)\n",
            "('Apocalypse Now (1979)', 7.950282551802829, 28986)\n",
            "('North by Northwest (1959)', 7.931772349398159, 19613)\n",
            "('Chinatown (1974)', 7.931175130437161, 19084)\n"
          ]
        }
      ],
      "source": [
        "top_movies = new_user_recommendations_rating_title_and_count_RDD.filter(lambda r: r[2]>=25).takeOrdered(25, key=lambda x: -x[1])\n",
        "\n",
        "print ('TOP recommended movies (with more than 25 reviews):\\n%s' %\n",
        "        '\\n'.join(map(str, top_movies)))"
      ]
    },
    {
      "cell_type": "code",
      "execution_count": 86,
      "metadata": {
        "colab": {
          "base_uri": "https://localhost:8080/"
        },
        "outputId": "7ae52111-958a-441f-c7c0-bc145bc8185c",
        "id": "FwaU-S5IefsH"
      },
      "outputs": [
        {
          "output_type": "execute_result",
          "data": {
            "text/plain": [
              "[Rating(user=0, product=116688, rating=1.7182566689431304)]"
            ]
          },
          "metadata": {},
          "execution_count": 86
        }
      ],
      "source": [
        "my_movie = sc.parallelize([(0, 500)]) # Quiz Show (1994)\n",
        "individual_movie_rating_RDD = new_ratings_model.predictAll(new_user_unrated_movies_RDD)\n",
        "individual_movie_rating_RDD.take(1)"
      ]
    },
    {
      "cell_type": "code",
      "execution_count": null,
      "metadata": {
        "id": "dk0mE2K0efsH"
      },
      "outputs": [],
      "source": [
        "from pyspark.mllib.recommendation import MatrixFactorizationModel\n",
        "\n",
        "model_path = os.path.join('..', 'models', 'movie_lens_als_5iterations')\n",
        "\n",
        "# Save and load model\n",
        "model.save(sc, model_path)\n",
        "same_model = MatrixFactorizationModel.load(sc, model_path)"
      ]
    },
    {
      "cell_type": "markdown",
      "source": [
        "## New User Ratings with inner loop 10 value iterations"
      ],
      "metadata": {
        "id": "Wbkeb9TgkYIq"
      }
    },
    {
      "cell_type": "code",
      "execution_count": 91,
      "metadata": {
        "colab": {
          "base_uri": "https://localhost:8080/"
        },
        "outputId": "8e7e578d-27fa-4123-80c6-9a07d98d2dce",
        "id": "pfX9NsPgkYIr"
      },
      "outputs": [
        {
          "output_type": "stream",
          "name": "stdout",
          "text": [
            "New user ratings: [(0, 260, 9), (0, 1, 8), (0, 16, 7), (0, 25, 8), (0, 32, 9), (0, 335, 4), (0, 379, 3), (0, 296, 7), (0, 858, 10), (0, 50, 8)]\n"
          ]
        }
      ],
      "source": [
        "new_user_ID = 0\n",
        "\n",
        "# The format of each line is (userID, movieID, rating)\n",
        "new_user_ratings = [\n",
        "     (0,260,9), # Star Wars (1977)\n",
        "     (0,1,8), # Toy Story (1995)\n",
        "     (0,16,7), # Casino (1995)\n",
        "     (0,25,8), # Leaving Las Vegas (1995)\n",
        "     (0,32,9), # Twelve Monkeys (a.k.a. 12 Monkeys) (1995)\n",
        "     (0,335,4), # Flintstones, The (1994)\n",
        "     (0,379,3), # Timecop (1994)\n",
        "     (0,296,7), # Pulp Fiction (1994)\n",
        "     (0,858,10) , # Godfather, The (1972)\n",
        "     (0,50,8) # Usual Suspects, The (1995)\n",
        "    ]\n",
        "new_user_ratings_RDD = sc.parallelize(new_user_ratings)\n",
        "print ('New user ratings: %s' % new_user_ratings_RDD.take(10))"
      ]
    },
    {
      "cell_type": "code",
      "execution_count": 92,
      "metadata": {
        "id": "cs-O7lg4kYIr"
      },
      "outputs": [],
      "source": [
        "complete_data_with_new_ratings_RDD = complete_ratings_data.union(new_user_ratings_RDD)"
      ]
    },
    {
      "cell_type": "code",
      "execution_count": 93,
      "metadata": {
        "colab": {
          "base_uri": "https://localhost:8080/"
        },
        "outputId": "e2a40454-e58a-4b71-c18d-2f275a63a21f",
        "id": "1nu3GHrDkYIr"
      },
      "outputs": [
        {
          "output_type": "stream",
          "name": "stdout",
          "text": [
            "New model trained in 686.743 seconds\n"
          ]
        }
      ],
      "source": [
        "from time import time\n",
        "\n",
        "t0 = time()\n",
        "new_ratings_model = ALS.train(complete_data_with_new_ratings_RDD, best_rank, seed=seed, \n",
        "                              iterations=10, lambda_=regularization_parameter)\n",
        "tt = time() - t0\n",
        "\n",
        "print (\"New model trained in %s seconds\" % round(tt,3))"
      ]
    },
    {
      "cell_type": "code",
      "execution_count": 94,
      "metadata": {
        "id": "p43MO-vtkYIs"
      },
      "outputs": [],
      "source": [
        "new_user_ratings_ids = map(lambda x: x[1], new_user_ratings) # get just movie IDs\n",
        "# keep just those not on the ID list (thanks Lei Li for spotting the error!)\n",
        "new_user_unrated_movies_RDD = (complete_movies_data.filter(lambda x: x[0] not in new_user_ratings_ids).map(lambda x: (new_user_ID, x[0])))\n",
        "\n",
        "# Use the input RDD, new_user_unrated_movies_RDD, with new_ratings_model.predictAll() to predict new ratings for the movies\n",
        "new_user_recommendations_RDD = new_ratings_model.predictAll(new_user_unrated_movies_RDD)"
      ]
    },
    {
      "cell_type": "code",
      "execution_count": 95,
      "metadata": {
        "colab": {
          "base_uri": "https://localhost:8080/"
        },
        "outputId": "a8db524f-9148-410b-ad3c-311d2bf2f655",
        "id": "SLZfP-jikYIs"
      },
      "outputs": [
        {
          "output_type": "execute_result",
          "data": {
            "text/plain": [
              "[(6216,\n",
              "  ((7.173385330780416, 'Nowhere in Africa (Nirgendwo in Afrika) (2001)'),\n",
              "   717)),\n",
              " (124320, ((7.359570288136358, 'Once a Thief (1965)'), 1)),\n",
              " (83916, ((6.125867065697319, 'Blues in the Night (1941)'), 9))]"
            ]
          },
          "metadata": {},
          "execution_count": 95
        }
      ],
      "source": [
        "# Transform new_user_recommendations_RDD into pairs of the form (Movie ID, Predicted Rating)\n",
        "new_user_recommendations_rating_RDD = new_user_recommendations_RDD.map(lambda x: (x.product, x.rating))\n",
        "new_user_recommendations_rating_title_and_count_RDD = \\\n",
        "    new_user_recommendations_rating_RDD.join(complete_movies_titles).join(movie_rating_counts_RDD)\n",
        "new_user_recommendations_rating_title_and_count_RDD.take(3)"
      ]
    },
    {
      "cell_type": "code",
      "execution_count": 96,
      "metadata": {
        "id": "Kk7sBRNwkYIs"
      },
      "outputs": [],
      "source": [
        "new_user_recommendations_rating_title_and_count_RDD = \\\n",
        "    new_user_recommendations_rating_title_and_count_RDD.map(lambda r: (r[1][0][1], r[1][0][0], r[1][1]))"
      ]
    },
    {
      "cell_type": "code",
      "execution_count": 97,
      "metadata": {
        "colab": {
          "base_uri": "https://localhost:8080/"
        },
        "outputId": "98adc724-92df-4be2-c387-67f358c8156e",
        "id": "3-tvv7t0kYIs"
      },
      "outputs": [
        {
          "output_type": "stream",
          "name": "stdout",
          "text": [
            "TOP recommended movies (with more than 25 reviews):\n",
            "('Rabbit of Seville (1950)', 8.602833252855959, 30)\n",
            "(\"Jim Henson's The Storyteller (1989)\", 8.544291307524375, 36)\n",
            "('\"Godfather', 8.526288771636047, 60904)\n",
            "('Cosmos', 8.524673058903474, 157)\n",
            "('Death on the Staircase (Soupçons) (2004)', 8.521655972159827, 130)\n",
            "('Music for One Apartment and Six Drummers (2001)', 8.50282131914495, 31)\n",
            "('\"Human Condition III', 8.495126990197761, 91)\n",
            "('Harakiri (Seppuku) (1962)', 8.494578592460044, 679)\n",
            "('\"I', 8.424359849383443, 85)\n",
            "('Planet Earth (2006)', 8.424323161050566, 1384)\n",
            "('Seven Samurai (Shichinin no samurai) (1954)', 8.400267191214681, 14578)\n",
            "('Planet Earth II (2016)', 8.398935346868512, 853)\n",
            "('Elway To Marino (2013)', 8.391345064989846, 25)\n",
            "('\"Last Lions', 8.391119016112746, 38)\n",
            "('Baseball (1994)', 8.390721256104534, 42)\n",
            "('Dr. Strangelove or: How I Learned to Stop Worrying and Love the Bomb (1964)', 8.388162195683861, 29484)\n",
            "('\"Godfather: Part II', 8.37539843269385, 38875)\n",
            "('The Godfather Trilogy: 1972-1990 (1992)', 8.369905476683499, 421)\n",
            "('Rabbit Fire (1951)', 8.368751282253093, 46)\n",
            "('\"Century of the Self', 8.364476044201034, 213)\n",
            "('Wow! A Talking Fish! (1983)', 8.362406231458763, 47)\n",
            "('Queen: Days of Our Lives (2011)', 8.3488451648645, 32)\n",
            "('The War (2007)', 8.348177923108345, 53)\n",
            "('\"Third Man', 8.34750542710406, 7980)\n",
            "('Paths of Glory (1957)', 8.347163234572847, 4508)\n"
          ]
        }
      ],
      "source": [
        "top_movies = new_user_recommendations_rating_title_and_count_RDD.filter(lambda r: r[2]>=25).takeOrdered(25, key=lambda x: -x[1])\n",
        "\n",
        "print ('TOP recommended movies (with more than 25 reviews):\\n%s' %\n",
        "        '\\n'.join(map(str, top_movies)))"
      ]
    },
    {
      "cell_type": "code",
      "execution_count": 98,
      "metadata": {
        "colab": {
          "base_uri": "https://localhost:8080/"
        },
        "outputId": "ba08ca5c-7f8d-4dce-e127-1dc5956d76f9",
        "id": "5HROhKWikYIs"
      },
      "outputs": [
        {
          "output_type": "execute_result",
          "data": {
            "text/plain": [
              "[Rating(user=0, product=116688, rating=2.070225501546683)]"
            ]
          },
          "metadata": {},
          "execution_count": 98
        }
      ],
      "source": [
        "my_movie = sc.parallelize([(0, 500)]) # Quiz Show (1994)\n",
        "individual_movie_rating_RDD = new_ratings_model.predictAll(new_user_unrated_movies_RDD)\n",
        "individual_movie_rating_RDD.take(1)"
      ]
    },
    {
      "cell_type": "code",
      "execution_count": 99,
      "metadata": {
        "id": "Go38h1EpkYIs"
      },
      "outputs": [],
      "source": [
        "from pyspark.mllib.recommendation import MatrixFactorizationModel\n",
        "\n",
        "model_path = os.path.join('..', 'models', 'movie_lens_als_10iterations')\n",
        "\n",
        "# Save and load model\n",
        "model.save(sc, model_path)\n",
        "same_model = MatrixFactorizationModel.load(sc, model_path)"
      ]
    },
    {
      "cell_type": "markdown",
      "source": [
        "## New User Ratings with inner loop 20 value iterations"
      ],
      "metadata": {
        "id": "6aqiffDykfq1"
      }
    },
    {
      "cell_type": "code",
      "execution_count": 100,
      "metadata": {
        "colab": {
          "base_uri": "https://localhost:8080/"
        },
        "outputId": "b3b4c376-4b47-47c8-8a53-e3f0481efcc1",
        "id": "csI2sklBkfq1"
      },
      "outputs": [
        {
          "output_type": "stream",
          "name": "stdout",
          "text": [
            "New user ratings: [(0, 260, 9), (0, 1, 8), (0, 16, 7), (0, 25, 8), (0, 32, 9), (0, 335, 4), (0, 379, 3), (0, 296, 7), (0, 858, 10), (0, 50, 8)]\n"
          ]
        }
      ],
      "source": [
        "new_user_ID = 0\n",
        "\n",
        "# The format of each line is (userID, movieID, rating)\n",
        "new_user_ratings = [\n",
        "     (0,260,9), # Star Wars (1977)\n",
        "     (0,1,8), # Toy Story (1995)\n",
        "     (0,16,7), # Casino (1995)\n",
        "     (0,25,8), # Leaving Las Vegas (1995)\n",
        "     (0,32,9), # Twelve Monkeys (a.k.a. 12 Monkeys) (1995)\n",
        "     (0,335,4), # Flintstones, The (1994)\n",
        "     (0,379,3), # Timecop (1994)\n",
        "     (0,296,7), # Pulp Fiction (1994)\n",
        "     (0,858,10) , # Godfather, The (1972)\n",
        "     (0,50,8) # Usual Suspects, The (1995)\n",
        "    ]\n",
        "new_user_ratings_RDD = sc.parallelize(new_user_ratings)\n",
        "print ('New user ratings: %s' % new_user_ratings_RDD.take(10))"
      ]
    },
    {
      "cell_type": "code",
      "execution_count": 101,
      "metadata": {
        "id": "zEBO3akUkfq2"
      },
      "outputs": [],
      "source": [
        "complete_data_with_new_ratings_RDD = complete_ratings_data.union(new_user_ratings_RDD)"
      ]
    },
    {
      "cell_type": "code",
      "execution_count": 102,
      "metadata": {
        "colab": {
          "base_uri": "https://localhost:8080/"
        },
        "outputId": "77e5b8e7-e422-4084-d373-8f4ecf0e3c6f",
        "id": "870jYzSRkfq2"
      },
      "outputs": [
        {
          "output_type": "stream",
          "name": "stdout",
          "text": [
            "New model trained in 1040.466 seconds\n"
          ]
        }
      ],
      "source": [
        "from time import time\n",
        "\n",
        "t0 = time()\n",
        "new_ratings_model = ALS.train(complete_data_with_new_ratings_RDD, best_rank, seed=seed, \n",
        "                              iterations=20, lambda_=regularization_parameter)\n",
        "tt = time() - t0\n",
        "\n",
        "print (\"New model trained in %s seconds\" % round(tt,3))"
      ]
    },
    {
      "cell_type": "code",
      "execution_count": 103,
      "metadata": {
        "id": "2DRsuRn9kfq2"
      },
      "outputs": [],
      "source": [
        "new_user_ratings_ids = map(lambda x: x[1], new_user_ratings) # get just movie IDs\n",
        "# keep just those not on the ID list (thanks Lei Li for spotting the error!)\n",
        "new_user_unrated_movies_RDD = (complete_movies_data.filter(lambda x: x[0] not in new_user_ratings_ids).map(lambda x: (new_user_ID, x[0])))\n",
        "\n",
        "# Use the input RDD, new_user_unrated_movies_RDD, with new_ratings_model.predictAll() to predict new ratings for the movies\n",
        "new_user_recommendations_RDD = new_ratings_model.predictAll(new_user_unrated_movies_RDD)"
      ]
    },
    {
      "cell_type": "code",
      "execution_count": 104,
      "metadata": {
        "colab": {
          "base_uri": "https://localhost:8080/"
        },
        "outputId": "3402ba2a-1013-428e-f067-2e56b7388f1b",
        "id": "Qrsiz-aSkfq2"
      },
      "outputs": [
        {
          "output_type": "execute_result",
          "data": {
            "text/plain": [
              "[(6216,\n",
              "  ((7.026445225744865, 'Nowhere in Africa (Nirgendwo in Afrika) (2001)'),\n",
              "   717)),\n",
              " (124320, ((7.492523391784225, 'Once a Thief (1965)'), 1)),\n",
              " (83916, ((6.498638167343956, 'Blues in the Night (1941)'), 9))]"
            ]
          },
          "metadata": {},
          "execution_count": 104
        }
      ],
      "source": [
        "# Transform new_user_recommendations_RDD into pairs of the form (Movie ID, Predicted Rating)\n",
        "new_user_recommendations_rating_RDD = new_user_recommendations_RDD.map(lambda x: (x.product, x.rating))\n",
        "new_user_recommendations_rating_title_and_count_RDD = \\\n",
        "    new_user_recommendations_rating_RDD.join(complete_movies_titles).join(movie_rating_counts_RDD)\n",
        "new_user_recommendations_rating_title_and_count_RDD.take(3)"
      ]
    },
    {
      "cell_type": "code",
      "execution_count": 105,
      "metadata": {
        "id": "ubCG_Q7Dkfq3"
      },
      "outputs": [],
      "source": [
        "new_user_recommendations_rating_title_and_count_RDD = \\\n",
        "    new_user_recommendations_rating_title_and_count_RDD.map(lambda r: (r[1][0][1], r[1][0][0], r[1][1]))"
      ]
    },
    {
      "cell_type": "code",
      "execution_count": 106,
      "metadata": {
        "colab": {
          "base_uri": "https://localhost:8080/"
        },
        "outputId": "faba0b7f-a1e0-43f8-eabb-d0caa1e3f7d9",
        "id": "lbBzhFyckfq3"
      },
      "outputs": [
        {
          "output_type": "stream",
          "name": "stdout",
          "text": [
            "TOP recommended movies (with more than 25 reviews):\n",
            "('Music for One Apartment and Six Drummers (2001)', 9.127790364616729, 31)\n",
            "('Rabbit of Seville (1950)', 8.981667238897359, 30)\n",
            "('\"Human Condition III', 8.924351844755634, 91)\n",
            "('Baseball (1994)', 8.825347497065223, 42)\n",
            "('Harakiri (Seppuku) (1962)', 8.823505998282869, 679)\n",
            "('Connections (1978)', 8.803288525746495, 49)\n",
            "('\"I', 8.761593739202297, 85)\n",
            "(\"Jim Henson's The Storyteller (1989)\", 8.737766322039946, 36)\n",
            "('Wow! A Talking Fish! (1983)', 8.733375860263166, 47)\n",
            "('\"Last Lions', 8.73166662450906, 38)\n",
            "('Duck Amuck (1953)', 8.720967370259707, 226)\n",
            "('Elway To Marino (2013)', 8.720127995792573, 25)\n",
            "('\"Lonely Wife', 8.710446445233138, 43)\n",
            "('Cosmos', 8.701890390056164, 157)\n",
            "('The Garden of Sinners - Chapter 5: Paradox Paradigm (2008)', 8.689368002826889, 27)\n",
            "('Rabbit Fire (1951)', 8.67801483227774, 46)\n",
            "('Dimensions of Dialogue (Moznosti dialogu) (1982)', 8.673144776038242, 65)\n",
            "('Crooks in Clover (a.k.a. Monsieur Gangster) (Les tontons flingueurs) (1963)', 8.666302502582099, 52)\n",
            "('\"In the blue sea', 8.661191280165738, 37)\n",
            "('\"Great War', 8.659007514398539, 31)\n",
            "('Seven Samurai (Shichinin no samurai) (1954)', 8.606794858268955, 14578)\n",
            "('\"Godfather', 8.604665850827978, 60904)\n",
            "('Ikiru (1952)', 8.601376621271612, 1551)\n",
            "('\"Century of the Self', 8.58914089712215, 213)\n",
            "('The War (2007)', 8.57146558019754, 53)\n"
          ]
        }
      ],
      "source": [
        "top_movies = new_user_recommendations_rating_title_and_count_RDD.filter(lambda r: r[2]>=25).takeOrdered(25, key=lambda x: -x[1])\n",
        "\n",
        "print ('TOP recommended movies (with more than 25 reviews):\\n%s' %\n",
        "        '\\n'.join(map(str, top_movies)))"
      ]
    },
    {
      "cell_type": "code",
      "execution_count": 107,
      "metadata": {
        "colab": {
          "base_uri": "https://localhost:8080/"
        },
        "outputId": "3de721ea-ec06-49e7-c5a7-2fde24f6b053",
        "id": "9IzOFzKQkfq3"
      },
      "outputs": [
        {
          "output_type": "execute_result",
          "data": {
            "text/plain": [
              "[Rating(user=0, product=116688, rating=2.017814977265013)]"
            ]
          },
          "metadata": {},
          "execution_count": 107
        }
      ],
      "source": [
        "my_movie = sc.parallelize([(0, 500)]) # Quiz Show (1994)\n",
        "individual_movie_rating_RDD = new_ratings_model.predictAll(new_user_unrated_movies_RDD)\n",
        "individual_movie_rating_RDD.take(1)"
      ]
    },
    {
      "cell_type": "code",
      "execution_count": 108,
      "metadata": {
        "id": "7rlRqgoGkfq3"
      },
      "outputs": [],
      "source": [
        "from pyspark.mllib.recommendation import MatrixFactorizationModel\n",
        "\n",
        "model_path = os.path.join('..', 'models', 'movie_lens_als_20iterations')\n",
        "\n",
        "# Save and load model\n",
        "model.save(sc, model_path)\n",
        "same_model = MatrixFactorizationModel.load(sc, model_path)"
      ]
    }
  ],
  "metadata": {
    "colab": {
      "provenance": [],
      "authorship_tag": "ABX9TyPB6SN2NTLO4fGC1Gmzcnbh",
      "include_colab_link": true
    },
    "kernelspec": {
      "display_name": "Python 3",
      "name": "python3"
    },
    "language_info": {
      "name": "python"
    }
  },
  "nbformat": 4,
  "nbformat_minor": 0
}