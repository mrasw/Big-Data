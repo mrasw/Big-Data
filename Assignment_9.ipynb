{
  "nbformat": 4,
  "nbformat_minor": 0,
  "metadata": {
    "colab": {
      "provenance": [],
      "authorship_tag": "ABX9TyPzywsd6vuxDWnU8xr76J0z",
      "include_colab_link": true
    },
    "kernelspec": {
      "name": "python3",
      "display_name": "Python 3"
    },
    "language_info": {
      "name": "python"
    }
  },
  "cells": [
    {
      "cell_type": "markdown",
      "metadata": {
        "id": "view-in-github",
        "colab_type": "text"
      },
      "source": [
        "<a href=\"https://colab.research.google.com/github/mrasw/Big-Data/blob/main/Assignment_9.ipynb\" target=\"_parent\"><img src=\"https://colab.research.google.com/assets/colab-badge.svg\" alt=\"Open In Colab\"/></a>"
      ]
    },
    {
      "cell_type": "code",
      "source": [
        "# sample_movielens_ratings.txt"
      ],
      "metadata": {
        "id": "reRqOg0Y62By"
      },
      "execution_count": null,
      "outputs": []
    },
    {
      "cell_type": "code",
      "source": [
        "from google.colab import drive\n",
        "drive.mount('/content/gdrive')"
      ],
      "metadata": {
        "colab": {
          "base_uri": "https://localhost:8080/"
        },
        "id": "eyngckZp7KSR",
        "outputId": "c0ae958e-6ae2-4914-acdc-5fe08cd99025"
      },
      "execution_count": 1,
      "outputs": [
        {
          "output_type": "stream",
          "name": "stdout",
          "text": [
            "Mounted at /content/gdrive\n"
          ]
        }
      ]
    },
    {
      "cell_type": "code",
      "source": [
        "!apt-get install openjdk-8-jdk-headless -qq > /dev/null\n",
        "!wget -q http://archive.apache.org/dist/spark/spark-3.3.0/spark-3.3.0-bin-hadoop2.tgz   \n",
        "!tar xf spark-3.3.0-bin-hadoop2.tgz   \n",
        "!pip install -q findspark"
      ],
      "metadata": {
        "id": "HaTxwqXD7VY1"
      },
      "execution_count": 4,
      "outputs": []
    },
    {
      "cell_type": "code",
      "source": [
        "import os\n",
        "os.environ[\"JAVA_HOME\"] = \"/usr/lib/jvm/java-8-openjdk-amd64\"\n",
        "os.environ[\"SPARK_HOME\"] = \"/content/spark-3.3.0-bin-hadoop2\"\n",
        "\n",
        "!export  | grep SPARK_HOME"
      ],
      "metadata": {
        "colab": {
          "base_uri": "https://localhost:8080/"
        },
        "id": "VnMprviy7oxs",
        "outputId": "522b8f05-52ad-4673-f196-9aa960884679"
      },
      "execution_count": 5,
      "outputs": [
        {
          "output_type": "stream",
          "name": "stdout",
          "text": [
            "declare -x SPARK_HOME=\"/content/spark-3.3.0-bin-hadoop2\"\n"
          ]
        }
      ]
    },
    {
      "cell_type": "code",
      "source": [
        "!pip install -U --upgrade pyspark"
      ],
      "metadata": {
        "colab": {
          "base_uri": "https://localhost:8080/"
        },
        "id": "653Hrsoo7q9Q",
        "outputId": "c578f92a-be53-4726-bab0-afa96f811b60"
      },
      "execution_count": 6,
      "outputs": [
        {
          "output_type": "stream",
          "name": "stdout",
          "text": [
            "Looking in indexes: https://pypi.org/simple, https://us-python.pkg.dev/colab-wheels/public/simple/\n",
            "Collecting pyspark\n",
            "  Downloading pyspark-3.3.2.tar.gz (281.4 MB)\n",
            "\u001b[2K     \u001b[90m━━━━━━━━━━━━━━━━━━━━━━━━━━━━━━━━━━━━━━━\u001b[0m \u001b[32m281.4/281.4 MB\u001b[0m \u001b[31m5.3 MB/s\u001b[0m eta \u001b[36m0:00:00\u001b[0m\n",
            "\u001b[?25h  Preparing metadata (setup.py) ... \u001b[?25l\u001b[?25hdone\n",
            "Collecting py4j==0.10.9.5\n",
            "  Downloading py4j-0.10.9.5-py2.py3-none-any.whl (199 kB)\n",
            "\u001b[2K     \u001b[90m━━━━━━━━━━━━━━━━━━━━━━━━━━━━━━━━━━━━━━\u001b[0m \u001b[32m199.7/199.7 KB\u001b[0m \u001b[31m22.8 MB/s\u001b[0m eta \u001b[36m0:00:00\u001b[0m\n",
            "\u001b[?25hBuilding wheels for collected packages: pyspark\n",
            "  Building wheel for pyspark (setup.py) ... \u001b[?25l\u001b[?25hdone\n",
            "  Created wheel for pyspark: filename=pyspark-3.3.2-py2.py3-none-any.whl size=281824028 sha256=21d11be0f3f4668052b261721d16b632ea5760c379cd37697c3dc4d827a07226\n",
            "  Stored in directory: /root/.cache/pip/wheels/6c/e3/9b/0525ce8a69478916513509d43693511463c6468db0de237c86\n",
            "Successfully built pyspark\n",
            "Installing collected packages: py4j, pyspark\n",
            "  Attempting uninstall: py4j\n",
            "    Found existing installation: py4j 0.10.9.7\n",
            "    Uninstalling py4j-0.10.9.7:\n",
            "      Successfully uninstalled py4j-0.10.9.7\n",
            "Successfully installed py4j-0.10.9.5 pyspark-3.3.2\n"
          ]
        }
      ]
    },
    {
      "cell_type": "code",
      "source": [
        "import pyspark\n",
        "\n",
        "print(pyspark.__version__)\n",
        "\n",
        "!export  | grep SPARK_HOME"
      ],
      "metadata": {
        "colab": {
          "base_uri": "https://localhost:8080/"
        },
        "id": "1xlThbxg7rDV",
        "outputId": "31a5cf5a-2505-4653-8078-3c94f51d000a"
      },
      "execution_count": 7,
      "outputs": [
        {
          "output_type": "stream",
          "name": "stdout",
          "text": [
            "3.3.2\n",
            "declare -x SPARK_HOME=\"/content/spark-3.3.0-bin-hadoop2\"\n"
          ]
        }
      ]
    },
    {
      "cell_type": "code",
      "source": [
        "import findspark\n",
        "findspark.init()\n",
        "\n",
        "from pyspark.sql import SparkSession\n",
        "import pyspark.pandas as ps\n",
        "import pandas as pd"
      ],
      "metadata": {
        "colab": {
          "base_uri": "https://localhost:8080/"
        },
        "id": "yHma-j2V7v7E",
        "outputId": "7208038c-1f70-416c-c64d-a4267c18636b"
      },
      "execution_count": 8,
      "outputs": [
        {
          "output_type": "stream",
          "name": "stderr",
          "text": [
            "/usr/local/lib/python3.9/dist-packages/pyspark/pandas/__init__.py:49: UserWarning: 'PYARROW_IGNORE_TIMEZONE' environment variable was not set. It is required to set this environment variable to '1' in both driver and executor sides if you use pyarrow>=2.0.0. pandas-on-Spark will set it for you but it does not work if there is a Spark context already launched.\n",
            "  warnings.warn(\n"
          ]
        }
      ]
    },
    {
      "cell_type": "code",
      "source": [
        "spark = SparkSession.builder.master(\"local[*]\").getOrCreate()\n",
        "spark.conf.set(\"spark.sql.repl.eagerEval.enabled\", True) # Property used to format output tables better\n",
        "spark\n",
        "\n",
        "# spark = SparkSession.builder.appName(\"coba\").getOrCreate()"
      ],
      "metadata": {
        "colab": {
          "base_uri": "https://localhost:8080/",
          "height": 219
        },
        "id": "Fc8oJPE57x_B",
        "outputId": "7466ba65-b321-418e-ac76-ea17d08be8fc"
      },
      "execution_count": 9,
      "outputs": [
        {
          "output_type": "execute_result",
          "data": {
            "text/plain": [
              "<pyspark.sql.session.SparkSession at 0x7f4d04b91910>"
            ],
            "text/html": [
              "\n",
              "            <div>\n",
              "                <p><b>SparkSession - in-memory</b></p>\n",
              "                \n",
              "        <div>\n",
              "            <p><b>SparkContext</b></p>\n",
              "\n",
              "            <p><a href=\"http://f95520ad52f6:4040\">Spark UI</a></p>\n",
              "\n",
              "            <dl>\n",
              "              <dt>Version</dt>\n",
              "                <dd><code>v3.3.0</code></dd>\n",
              "              <dt>Master</dt>\n",
              "                <dd><code>local[*]</code></dd>\n",
              "              <dt>AppName</dt>\n",
              "                <dd><code>pyspark-shell</code></dd>\n",
              "            </dl>\n",
              "        </div>\n",
              "        \n",
              "            </div>\n",
              "        "
            ]
          },
          "metadata": {},
          "execution_count": 9
        }
      ]
    },
    {
      "cell_type": "code",
      "source": [
        "from pyspark.ml.evaluation import RegressionEvaluator\n",
        "from pyspark.ml.recommendation import ALS\n",
        "from pyspark.sql import Row"
      ],
      "metadata": {
        "id": "NODanqOa-nVW"
      },
      "execution_count": 23,
      "outputs": []
    },
    {
      "cell_type": "code",
      "source": [
        "lines = spark.read.text(\"/content/gdrive/My Drive/sample_movielens_ratings.txt\").rdd\n",
        "parts = lines.map(lambda row: row.value.split(\"::\"))\n",
        "ratingsRDD = parts.map(lambda p: Row(userId=int(p[0]), movieId=int(p[1]),\n",
        "                                     rating=int(p[2]), timestamp=int(p[3])))\n",
        "\n",
        "# print(ratingsRDD)\n",
        "\n",
        "ratings = spark.createDataFrame(ratingsRDD)\n",
        "(training, test) = ratings.randomSplit([0.8, 0.2])"
      ],
      "metadata": {
        "id": "8W4SKqw670O6"
      },
      "execution_count": 25,
      "outputs": []
    },
    {
      "cell_type": "code",
      "source": [
        "ratings"
      ],
      "metadata": {
        "colab": {
          "base_uri": "https://localhost:8080/",
          "height": 529
        },
        "id": "DjS18b-D-zSl",
        "outputId": "4b44ff80-daa0-43ca-cc39-eea55a7cb090"
      },
      "execution_count": 27,
      "outputs": [
        {
          "output_type": "execute_result",
          "data": {
            "text/plain": [
              "+------+-------+------+----------+\n",
              "|userId|movieId|rating| timestamp|\n",
              "+------+-------+------+----------+\n",
              "|     0|      2|     3|1424380312|\n",
              "|     0|      3|     1|1424380312|\n",
              "|     0|      5|     2|1424380312|\n",
              "|     0|      9|     4|1424380312|\n",
              "|     0|     11|     1|1424380312|\n",
              "|     0|     12|     2|1424380312|\n",
              "|     0|     15|     1|1424380312|\n",
              "|     0|     17|     1|1424380312|\n",
              "|     0|     19|     1|1424380312|\n",
              "|     0|     21|     1|1424380312|\n",
              "|     0|     23|     1|1424380312|\n",
              "|     0|     26|     3|1424380312|\n",
              "|     0|     27|     1|1424380312|\n",
              "|     0|     28|     1|1424380312|\n",
              "|     0|     29|     1|1424380312|\n",
              "|     0|     30|     1|1424380312|\n",
              "|     0|     31|     1|1424380312|\n",
              "|     0|     34|     1|1424380312|\n",
              "|     0|     37|     1|1424380312|\n",
              "|     0|     41|     2|1424380312|\n",
              "+------+-------+------+----------+\n",
              "only showing top 20 rows"
            ],
            "text/html": [
              "<table border='1'>\n",
              "<tr><th>userId</th><th>movieId</th><th>rating</th><th>timestamp</th></tr>\n",
              "<tr><td>0</td><td>2</td><td>3</td><td>1424380312</td></tr>\n",
              "<tr><td>0</td><td>3</td><td>1</td><td>1424380312</td></tr>\n",
              "<tr><td>0</td><td>5</td><td>2</td><td>1424380312</td></tr>\n",
              "<tr><td>0</td><td>9</td><td>4</td><td>1424380312</td></tr>\n",
              "<tr><td>0</td><td>11</td><td>1</td><td>1424380312</td></tr>\n",
              "<tr><td>0</td><td>12</td><td>2</td><td>1424380312</td></tr>\n",
              "<tr><td>0</td><td>15</td><td>1</td><td>1424380312</td></tr>\n",
              "<tr><td>0</td><td>17</td><td>1</td><td>1424380312</td></tr>\n",
              "<tr><td>0</td><td>19</td><td>1</td><td>1424380312</td></tr>\n",
              "<tr><td>0</td><td>21</td><td>1</td><td>1424380312</td></tr>\n",
              "<tr><td>0</td><td>23</td><td>1</td><td>1424380312</td></tr>\n",
              "<tr><td>0</td><td>26</td><td>3</td><td>1424380312</td></tr>\n",
              "<tr><td>0</td><td>27</td><td>1</td><td>1424380312</td></tr>\n",
              "<tr><td>0</td><td>28</td><td>1</td><td>1424380312</td></tr>\n",
              "<tr><td>0</td><td>29</td><td>1</td><td>1424380312</td></tr>\n",
              "<tr><td>0</td><td>30</td><td>1</td><td>1424380312</td></tr>\n",
              "<tr><td>0</td><td>31</td><td>1</td><td>1424380312</td></tr>\n",
              "<tr><td>0</td><td>34</td><td>1</td><td>1424380312</td></tr>\n",
              "<tr><td>0</td><td>37</td><td>1</td><td>1424380312</td></tr>\n",
              "<tr><td>0</td><td>41</td><td>2</td><td>1424380312</td></tr>\n",
              "</table>\n",
              "only showing top 20 rows\n"
            ]
          },
          "metadata": {},
          "execution_count": 27
        }
      ]
    },
    {
      "cell_type": "markdown",
      "source": [
        "#RegParam 0.1"
      ],
      "metadata": {
        "id": "0JVQZdTjAmES"
      }
    },
    {
      "cell_type": "markdown",
      "source": [
        "##Max iter 5"
      ],
      "metadata": {
        "id": "yk4lXUkF_pDJ"
      }
    },
    {
      "cell_type": "code",
      "source": [
        "# Build the recommendation model using ALS on the training data\n",
        "# Note we set cold start strategy to 'drop' to ensure we don't get NaN evaluation metrics\n",
        "als = ALS(maxIter=5, regParam=0.1, userCol=\"userId\", itemCol=\"movieId\", ratingCol=\"rating\",\n",
        "          coldStartStrategy=\"drop\")\n",
        "model = als.fit(training)"
      ],
      "metadata": {
        "id": "EeDD0AXu-sZl"
      },
      "execution_count": 33,
      "outputs": []
    },
    {
      "cell_type": "code",
      "source": [
        "predictions = model.transform(test)\n",
        "evaluator = RegressionEvaluator(metricName=\"rmse\", labelCol=\"rating\",\n",
        "                                predictionCol=\"prediction\")\n",
        "rmse = evaluator.evaluate(predictions)"
      ],
      "metadata": {
        "id": "jxafTwf7-2vz"
      },
      "execution_count": 34,
      "outputs": []
    },
    {
      "cell_type": "code",
      "source": [
        "rmse"
      ],
      "metadata": {
        "colab": {
          "base_uri": "https://localhost:8080/"
        },
        "id": "vsCf5I8w_D2W",
        "outputId": "fba40ef2-c691-4d23-9d5b-54bbab6664ac"
      },
      "execution_count": 35,
      "outputs": [
        {
          "output_type": "execute_result",
          "data": {
            "text/plain": [
              "0.9746284416563535"
            ]
          },
          "metadata": {},
          "execution_count": 35
        }
      ]
    },
    {
      "cell_type": "markdown",
      "source": [
        "##Max iter 10\n",
        "\n",
        "\n"
      ],
      "metadata": {
        "id": "e2wQvYyQ_2DZ"
      }
    },
    {
      "cell_type": "code",
      "source": [
        "# Build the recommendation model using ALS on the training data\n",
        "# Note we set cold start strategy to 'drop' to ensure we don't get NaN evaluation metrics\n",
        "als = ALS(maxIter=10, regParam=0.1, userCol=\"userId\", itemCol=\"movieId\", ratingCol=\"rating\",\n",
        "          coldStartStrategy=\"drop\")\n",
        "model = als.fit(training)"
      ],
      "metadata": {
        "id": "6y5EALszAKL8"
      },
      "execution_count": 36,
      "outputs": []
    },
    {
      "cell_type": "code",
      "source": [
        "predictions = model.transform(test)\n",
        "evaluator = RegressionEvaluator(metricName=\"rmse\", labelCol=\"rating\",\n",
        "                                predictionCol=\"prediction\")\n",
        "rmse = evaluator.evaluate(predictions)"
      ],
      "metadata": {
        "id": "Esw20bq6AKL9"
      },
      "execution_count": 37,
      "outputs": []
    },
    {
      "cell_type": "code",
      "source": [
        "rmse"
      ],
      "metadata": {
        "colab": {
          "base_uri": "https://localhost:8080/"
        },
        "outputId": "66c88cf3-6edc-45e6-962c-b5d40f4046f1",
        "id": "xSkiJEwSAKL9"
      },
      "execution_count": 38,
      "outputs": [
        {
          "output_type": "execute_result",
          "data": {
            "text/plain": [
              "0.9359626191567274"
            ]
          },
          "metadata": {},
          "execution_count": 38
        }
      ]
    },
    {
      "cell_type": "markdown",
      "source": [
        "##Max iter 20\n",
        "\n",
        "\n"
      ],
      "metadata": {
        "id": "kqc0FrpzATEh"
      }
    },
    {
      "cell_type": "code",
      "source": [
        "# Build the recommendation model using ALS on the training data\n",
        "# Note we set cold start strategy to 'drop' to ensure we don't get NaN evaluation metrics\n",
        "als = ALS(maxIter=20, regParam=0.1, userCol=\"userId\", itemCol=\"movieId\", ratingCol=\"rating\",\n",
        "          coldStartStrategy=\"drop\")\n",
        "model = als.fit(training)"
      ],
      "metadata": {
        "id": "TxYUAHCaATEh"
      },
      "execution_count": 39,
      "outputs": []
    },
    {
      "cell_type": "code",
      "source": [
        "predictions = model.transform(test)\n",
        "evaluator = RegressionEvaluator(metricName=\"rmse\", labelCol=\"rating\",\n",
        "                                predictionCol=\"prediction\")\n",
        "rmse = evaluator.evaluate(predictions)"
      ],
      "metadata": {
        "id": "1JhaOj0fATEi"
      },
      "execution_count": 40,
      "outputs": []
    },
    {
      "cell_type": "code",
      "source": [
        "rmse"
      ],
      "metadata": {
        "colab": {
          "base_uri": "https://localhost:8080/"
        },
        "outputId": "b22af6ea-f5db-4aa6-9482-469578c6ba16",
        "id": "xkSJmVIaATEi"
      },
      "execution_count": 41,
      "outputs": [
        {
          "output_type": "execute_result",
          "data": {
            "text/plain": [
              "0.9244056059249371"
            ]
          },
          "metadata": {},
          "execution_count": 41
        }
      ]
    },
    {
      "cell_type": "markdown",
      "source": [
        "#RegParam 0.5"
      ],
      "metadata": {
        "id": "yNsejbnvAtnY"
      }
    },
    {
      "cell_type": "markdown",
      "source": [
        "##Max iter 5"
      ],
      "metadata": {
        "id": "L98Re95GAkOM"
      }
    },
    {
      "cell_type": "code",
      "source": [
        "# Build the recommendation model using ALS on the training data\n",
        "# Note we set cold start strategy to 'drop' to ensure we don't get NaN evaluation metrics\n",
        "als = ALS(maxIter=5, regParam=0.5, userCol=\"userId\", itemCol=\"movieId\", ratingCol=\"rating\",\n",
        "          coldStartStrategy=\"drop\")\n",
        "model = als.fit(training)"
      ],
      "metadata": {
        "id": "BM2GflnIAkON"
      },
      "execution_count": 42,
      "outputs": []
    },
    {
      "cell_type": "code",
      "source": [
        "predictions = model.transform(test)\n",
        "evaluator = RegressionEvaluator(metricName=\"rmse\", labelCol=\"rating\",\n",
        "                                predictionCol=\"prediction\")\n",
        "rmse = evaluator.evaluate(predictions)"
      ],
      "metadata": {
        "id": "RB909cYJAkON"
      },
      "execution_count": 43,
      "outputs": []
    },
    {
      "cell_type": "code",
      "source": [
        "rmse"
      ],
      "metadata": {
        "colab": {
          "base_uri": "https://localhost:8080/"
        },
        "outputId": "a07d861a-8ae9-48fc-9d58-3ed9ac7f7702",
        "id": "Aavfy26JAkON"
      },
      "execution_count": 44,
      "outputs": [
        {
          "output_type": "execute_result",
          "data": {
            "text/plain": [
              "1.1659304109444515"
            ]
          },
          "metadata": {},
          "execution_count": 44
        }
      ]
    },
    {
      "cell_type": "markdown",
      "source": [
        "##Max iter 10\n",
        "\n",
        "\n"
      ],
      "metadata": {
        "id": "Pdg-re-zAkOO"
      }
    },
    {
      "cell_type": "code",
      "source": [
        "# Build the recommendation model using ALS on the training data\n",
        "# Note we set cold start strategy to 'drop' to ensure we don't get NaN evaluation metrics\n",
        "als = ALS(maxIter=10, regParam=0.5, userCol=\"userId\", itemCol=\"movieId\", ratingCol=\"rating\",\n",
        "          coldStartStrategy=\"drop\")\n",
        "model = als.fit(training)"
      ],
      "metadata": {
        "id": "qwHa6yVPAkOO"
      },
      "execution_count": 45,
      "outputs": []
    },
    {
      "cell_type": "code",
      "source": [
        "predictions = model.transform(test)\n",
        "evaluator = RegressionEvaluator(metricName=\"rmse\", labelCol=\"rating\",\n",
        "                                predictionCol=\"prediction\")\n",
        "rmse = evaluator.evaluate(predictions)"
      ],
      "metadata": {
        "id": "GMmR7R0OAkOO"
      },
      "execution_count": 46,
      "outputs": []
    },
    {
      "cell_type": "code",
      "source": [
        "rmse"
      ],
      "metadata": {
        "colab": {
          "base_uri": "https://localhost:8080/"
        },
        "outputId": "04285d06-91a9-42f5-8269-212e7ade78c3",
        "id": "6jqr0pLEAkOO"
      },
      "execution_count": 47,
      "outputs": [
        {
          "output_type": "execute_result",
          "data": {
            "text/plain": [
              "1.164917113496743"
            ]
          },
          "metadata": {},
          "execution_count": 47
        }
      ]
    },
    {
      "cell_type": "markdown",
      "source": [
        "##Max iter 20\n",
        "\n",
        "\n"
      ],
      "metadata": {
        "id": "9eTdJqr7AkOO"
      }
    },
    {
      "cell_type": "code",
      "source": [
        "# Build the recommendation model using ALS on the training data\n",
        "# Note we set cold start strategy to 'drop' to ensure we don't get NaN evaluation metrics\n",
        "als = ALS(maxIter=20, regParam=0.5, userCol=\"userId\", itemCol=\"movieId\", ratingCol=\"rating\",\n",
        "          coldStartStrategy=\"drop\")\n",
        "model = als.fit(training)"
      ],
      "metadata": {
        "id": "87bjVa-fAkOO"
      },
      "execution_count": 48,
      "outputs": []
    },
    {
      "cell_type": "code",
      "source": [
        "predictions = model.transform(test)\n",
        "evaluator = RegressionEvaluator(metricName=\"rmse\", labelCol=\"rating\",\n",
        "                                predictionCol=\"prediction\")\n",
        "rmse = evaluator.evaluate(predictions)"
      ],
      "metadata": {
        "id": "5DW3vmACAkOQ"
      },
      "execution_count": 49,
      "outputs": []
    },
    {
      "cell_type": "code",
      "source": [
        "rmse"
      ],
      "metadata": {
        "colab": {
          "base_uri": "https://localhost:8080/"
        },
        "outputId": "11fa92e6-a271-4314-fd28-2f98a5590ef8",
        "id": "_GXybRP4AkOR"
      },
      "execution_count": 50,
      "outputs": [
        {
          "output_type": "execute_result",
          "data": {
            "text/plain": [
              "1.164730490367786"
            ]
          },
          "metadata": {},
          "execution_count": 50
        }
      ]
    },
    {
      "cell_type": "markdown",
      "source": [
        "#RegParam 1.0"
      ],
      "metadata": {
        "id": "alceLbmaBCph"
      }
    },
    {
      "cell_type": "markdown",
      "source": [
        "##Max iter 5"
      ],
      "metadata": {
        "id": "63Tq1zVmBCph"
      }
    },
    {
      "cell_type": "code",
      "source": [
        "# Build the recommendation model using ALS on the training data\n",
        "# Note we set cold start strategy to 'drop' to ensure we don't get NaN evaluation metrics\n",
        "als = ALS(maxIter=5, regParam=1.0, userCol=\"userId\", itemCol=\"movieId\", ratingCol=\"rating\",\n",
        "          coldStartStrategy=\"drop\")\n",
        "model = als.fit(training)"
      ],
      "metadata": {
        "id": "MKTPvFc4BCpi"
      },
      "execution_count": 51,
      "outputs": []
    },
    {
      "cell_type": "code",
      "source": [
        "predictions = model.transform(test)\n",
        "evaluator = RegressionEvaluator(metricName=\"rmse\", labelCol=\"rating\",\n",
        "                                predictionCol=\"prediction\")\n",
        "rmse = evaluator.evaluate(predictions)"
      ],
      "metadata": {
        "id": "bmCMFjAmBCpi"
      },
      "execution_count": 52,
      "outputs": []
    },
    {
      "cell_type": "code",
      "source": [
        "rmse"
      ],
      "metadata": {
        "colab": {
          "base_uri": "https://localhost:8080/"
        },
        "outputId": "536c8dc0-e3df-4f9d-ce99-fcaa722a211d",
        "id": "MvsrOn98BCpi"
      },
      "execution_count": 53,
      "outputs": [
        {
          "output_type": "execute_result",
          "data": {
            "text/plain": [
              "1.4416931739411618"
            ]
          },
          "metadata": {},
          "execution_count": 53
        }
      ]
    },
    {
      "cell_type": "markdown",
      "source": [
        "##Max iter 10\n",
        "\n",
        "\n"
      ],
      "metadata": {
        "id": "VFqsL2aeBCpi"
      }
    },
    {
      "cell_type": "code",
      "source": [
        "# Build the recommendation model using ALS on the training data\n",
        "# Note we set cold start strategy to 'drop' to ensure we don't get NaN evaluation metrics\n",
        "als = ALS(maxIter=10, regParam=1.0, userCol=\"userId\", itemCol=\"movieId\", ratingCol=\"rating\",\n",
        "          coldStartStrategy=\"drop\")\n",
        "model = als.fit(training)"
      ],
      "metadata": {
        "id": "KS2McYs4BCpi"
      },
      "execution_count": 54,
      "outputs": []
    },
    {
      "cell_type": "code",
      "source": [
        "predictions = model.transform(test)\n",
        "evaluator = RegressionEvaluator(metricName=\"rmse\", labelCol=\"rating\",\n",
        "                                predictionCol=\"prediction\")\n",
        "rmse = evaluator.evaluate(predictions)"
      ],
      "metadata": {
        "id": "BkGuEe6YBCpi"
      },
      "execution_count": 55,
      "outputs": []
    },
    {
      "cell_type": "code",
      "source": [
        "rmse"
      ],
      "metadata": {
        "colab": {
          "base_uri": "https://localhost:8080/"
        },
        "outputId": "bb829a86-d422-41d7-f340-669df61ca93f",
        "id": "Si7gzyK2BCpj"
      },
      "execution_count": 56,
      "outputs": [
        {
          "output_type": "execute_result",
          "data": {
            "text/plain": [
              "1.4417034243200963"
            ]
          },
          "metadata": {},
          "execution_count": 56
        }
      ]
    },
    {
      "cell_type": "markdown",
      "source": [
        "##Max iter 20\n",
        "\n",
        "\n"
      ],
      "metadata": {
        "id": "oEzLXk7dBCpj"
      }
    },
    {
      "cell_type": "code",
      "source": [
        "# Build the recommendation model using ALS on the training data\n",
        "# Note we set cold start strategy to 'drop' to ensure we don't get NaN evaluation metrics\n",
        "als = ALS(maxIter=20, regParam=1.0, userCol=\"userId\", itemCol=\"movieId\", ratingCol=\"rating\",\n",
        "          coldStartStrategy=\"drop\")\n",
        "model = als.fit(training)"
      ],
      "metadata": {
        "id": "hrKFi6yGBCpj"
      },
      "execution_count": 57,
      "outputs": []
    },
    {
      "cell_type": "code",
      "source": [
        "predictions = model.transform(test)\n",
        "evaluator = RegressionEvaluator(metricName=\"rmse\", labelCol=\"rating\",\n",
        "                                predictionCol=\"prediction\")\n",
        "rmse = evaluator.evaluate(predictions)"
      ],
      "metadata": {
        "id": "T5VH7HClBCpj"
      },
      "execution_count": 58,
      "outputs": []
    },
    {
      "cell_type": "code",
      "source": [
        "rmse"
      ],
      "metadata": {
        "colab": {
          "base_uri": "https://localhost:8080/"
        },
        "outputId": "05ebcc9b-bce0-46ae-d400-c161ac8b9a49",
        "id": "ROYspF6vBCpj"
      },
      "execution_count": 59,
      "outputs": [
        {
          "output_type": "execute_result",
          "data": {
            "text/plain": [
              "1.4417034497178616"
            ]
          },
          "metadata": {},
          "execution_count": 59
        }
      ]
    },
    {
      "cell_type": "markdown",
      "source": [
        "# Conclutions\n",
        "\n",
        "> The Higher RegParam value, more Higher Root Mean Square Error (RMSE)\n",
        "\n",
        "\n",
        "> If RegParam not 1.0, more Higher MaxIter value, will return better Root Mean Square Error (RMSE)\n",
        "\n",
        "\n",
        "\n"
      ],
      "metadata": {
        "id": "Thu_f1uAF6s-"
      }
    },
    {
      "cell_type": "markdown",
      "source": [
        "#Generate top 10 of each candidate"
      ],
      "metadata": {
        "id": "iAJ42xPXBL3b"
      }
    },
    {
      "cell_type": "code",
      "source": [
        "# Generate top 10 movie recommendations for each user\n",
        "userRecs = model.recommendForAllUsers(10)\n",
        "# Generate top 10 user recommendations for each movie\n",
        "movieRecs = model.recommendForAllItems(10)\n",
        "\n",
        "# Generate top 10 movie recommendations for a specified set of users\n",
        "users = ratings.select(als.getUserCol()).distinct().limit(3)\n",
        "userSubsetRecs = model.recommendForUserSubset(users, 10)\n",
        "# Generate top 10 user recommendations for a specified set of movies\n",
        "movies = ratings.select(als.getItemCol()).distinct().limit(3)\n",
        "movieSubSetRecs = model.recommendForItemSubset(movies, 10)"
      ],
      "metadata": {
        "id": "8VzAa4EC_NeX"
      },
      "execution_count": 31,
      "outputs": []
    },
    {
      "cell_type": "code",
      "source": [
        "print(userRecs,users,userSubsetRecs,movieRecs,movieSubSetRecs,movies)"
      ],
      "metadata": {
        "colab": {
          "base_uri": "https://localhost:8080/"
        },
        "id": "onik-O9q_OmO",
        "outputId": "13860d8c-8800-4739-a35f-0825db21b7cf"
      },
      "execution_count": 32,
      "outputs": [
        {
          "output_type": "stream",
          "name": "stdout",
          "text": [
            "+------+--------------------+\n",
            "|userId|     recommendations|\n",
            "+------+--------------------+\n",
            "|    20|[{22, 4.8611417},...|\n",
            "|    10|[{46, 4.3125963},...|\n",
            "|     0|[{92, 3.8451357},...|\n",
            "|     1|[{62, 3.5393393},...|\n",
            "|    21|[{53, 5.0688987},...|\n",
            "|    11|[{46, 8.23523}, {...|\n",
            "|    12|[{27, 5.0697393},...|\n",
            "|    22|[{74, 5.1679797},...|\n",
            "|     2|[{8, 5.128191}, {...|\n",
            "|    13|[{93, 3.8468683},...|\n",
            "|     3|[{51, 5.0006504},...|\n",
            "|    23|[{83, 5.3734436},...|\n",
            "|     4|[{51, 4.797965}, ...|\n",
            "|    24|[{18, 5.394491}, ...|\n",
            "|    14|[{52, 5.3739014},...|\n",
            "|     5|[{55, 4.80079}, {...|\n",
            "|    15|[{46, 4.740991}, ...|\n",
            "|    25|[{65, 5.4152074},...|\n",
            "|    26|[{46, 8.457689}, ...|\n",
            "|     6|[{93, 4.1779847},...|\n",
            "+------+--------------------+\n",
            "only showing top 20 rows\n",
            " +------+\n",
            "|userId|\n",
            "+------+\n",
            "|    26|\n",
            "|    29|\n",
            "|    19|\n",
            "+------+\n",
            " +------+--------------------+\n",
            "|userId|     recommendations|\n",
            "+------+--------------------+\n",
            "|    26|[{46, 8.457689}, ...|\n",
            "|    19|[{90, 3.8550153},...|\n",
            "|    29|[{46, 4.7204943},...|\n",
            "+------+--------------------+\n",
            " +-------+--------------------+\n",
            "|movieId|     recommendations|\n",
            "+-------+--------------------+\n",
            "|     20|[{8, 1.2619649}, ...|\n",
            "|     40|[{23, 3.9272435},...|\n",
            "|     10|[{16, 4.069955}, ...|\n",
            "|     50|[{2, 4.9495397}, ...|\n",
            "|     80|[{18, 4.0251293},...|\n",
            "|     70|[{22, 2.6389496},...|\n",
            "|     60|[{3, 2.8183217}, ...|\n",
            "|     90|[{26, 5.367923}, ...|\n",
            "|     30|[{11, 4.9720945},...|\n",
            "|      0|[{28, 2.6789608},...|\n",
            "|     31|[{12, 3.9237947},...|\n",
            "|     81|[{28, 4.899186}, ...|\n",
            "|     91|[{17, 3.1260414},...|\n",
            "|      1|[{11, 4.6388545},...|\n",
            "|     41|[{16, 5.396079}, ...|\n",
            "|     61|[{8, 2.6238244}, ...|\n",
            "|     51|[{28, 5.216812}, ...|\n",
            "|     21|[{26, 3.1768017},...|\n",
            "|     11|[{18, 3.9310622},...|\n",
            "|     71|[{23, 4.012424}, ...|\n",
            "+-------+--------------------+\n",
            "only showing top 20 rows\n",
            " +-------+--------------------+\n",
            "|movieId|     recommendations|\n",
            "+-------+--------------------+\n",
            "|     65|[{25, 5.4152074},...|\n",
            "|     26|[{28, 3.9827838},...|\n",
            "|     29|[{8, 5.1156545}, ...|\n",
            "+-------+--------------------+\n",
            " +-------+\n",
            "|movieId|\n",
            "+-------+\n",
            "|     26|\n",
            "|     29|\n",
            "|     65|\n",
            "+-------+\n",
            "\n"
          ]
        }
      ]
    }
  ]
}